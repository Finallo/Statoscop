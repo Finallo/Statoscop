{
 "cells": [
  {
   "cell_type": "code",
   "execution_count": 3,
   "id": "initial_id",
   "metadata": {
    "collapsed": true,
    "ExecuteTime": {
     "end_time": "2023-10-30T18:28:43.114385Z",
     "start_time": "2023-10-30T18:28:43.102571Z"
    }
   },
   "outputs": [],
   "source": [
    "import recon"
   ]
  },
  {
   "cell_type": "code",
   "execution_count": 5,
   "outputs": [
    {
     "name": "stdout",
     "output_type": "stream",
     "text": [
      "Les regions existantes sont : \n",
      " All, north-america, europe, brazil, asia-pacific, korea, japan, latin-america, oceania, mena, game-changers, collegiate\n"
     ]
    },
    {
     "data": {
      "text/plain": "<recon.region.region at 0x10dc77dd0>"
     },
     "execution_count": 5,
     "metadata": {},
     "output_type": "execute_result"
    }
   ],
   "source": [
    "recon.region.region()"
   ],
   "metadata": {
    "collapsed": false,
    "ExecuteTime": {
     "end_time": "2023-10-30T18:28:57.659078Z",
     "start_time": "2023-10-30T18:28:57.648670Z"
    }
   },
   "id": "24a2c3b562cc2bf5"
  },
  {
   "cell_type": "code",
   "execution_count": 6,
   "outputs": [
    {
     "ename": "AttributeError",
     "evalue": "module 'recon' has no attribute 'tournament'",
     "output_type": "error",
     "traceback": [
      "\u001B[0;31m---------------------------------------------------------------------------\u001B[0m",
      "\u001B[0;31mAttributeError\u001B[0m                            Traceback (most recent call last)",
      "Cell \u001B[0;32mIn[6], line 1\u001B[0m\n\u001B[0;32m----> 1\u001B[0m \u001B[43mrecon\u001B[49m\u001B[38;5;241;43m.\u001B[39;49m\u001B[43mtournament\u001B[49m\u001B[38;5;241m.\u001B[39mongoing(\u001B[38;5;124m'\u001B[39m\u001B[38;5;124meurope\u001B[39m\u001B[38;5;124m'\u001B[39m)\n",
      "\u001B[0;31mAttributeError\u001B[0m: module 'recon' has no attribute 'tournament'"
     ]
    }
   ],
   "source": [
    "recon.tournament.ongoing('europe')"
   ],
   "metadata": {
    "collapsed": false,
    "ExecuteTime": {
     "end_time": "2023-10-30T18:29:10.269579Z",
     "start_time": "2023-10-30T18:29:10.250240Z"
    }
   },
   "id": "7a9a18b0a9c915aa"
  }
 ],
 "metadata": {
  "kernelspec": {
   "display_name": "Python 3",
   "language": "python",
   "name": "python3"
  },
  "language_info": {
   "codemirror_mode": {
    "name": "ipython",
    "version": 2
   },
   "file_extension": ".py",
   "mimetype": "text/x-python",
   "name": "python",
   "nbconvert_exporter": "python",
   "pygments_lexer": "ipython2",
   "version": "2.7.6"
  }
 },
 "nbformat": 4,
 "nbformat_minor": 5
}
