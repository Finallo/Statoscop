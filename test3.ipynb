{
 "cells": [
  {
   "cell_type": "markdown",
   "source": [
    "from test import recon as rec, tournament"
   ],
   "metadata": {
    "collapsed": false
   },
   "id": "26f4cc9faef943d8"
  },
  {
   "cell_type": "code",
   "execution_count": 1,
   "outputs": [],
   "source": [
    "from recongg import recon, tournament"
   ],
   "metadata": {
    "collapsed": false,
    "ExecuteTime": {
     "end_time": "2023-11-07T16:08:22.164470200Z",
     "start_time": "2023-11-07T16:08:21.358876100Z"
    }
   },
   "id": "14fa81d49f9383f8"
  },
  {
   "cell_type": "code",
   "execution_count": 2,
   "outputs": [
    {
     "name": "stdout",
     "output_type": "stream",
     "text": [
      "Les regions existantes sont : \n",
      " All, north-america, europe, brazil, asia-pacific, korea, japan, latin-america, oceania, mena, game-changers, collegiate\n"
     ]
    }
   ],
   "source": [
    "recon.region()"
   ],
   "metadata": {
    "collapsed": false,
    "ExecuteTime": {
     "end_time": "2023-11-07T16:08:22.184928200Z",
     "start_time": "2023-11-07T16:08:22.165469Z"
    }
   },
   "id": "a3b5ab868fd83958"
  },
  {
   "cell_type": "code",
   "execution_count": 3,
   "outputs": [
    {
     "data": {
      "text/plain": "  Match                                     Name           Date\n0  1887  The Funhaver Invitational - Qualifier 3  7 Nov - 9 Nov",
      "text/html": "<div>\n<style scoped>\n    .dataframe tbody tr th:only-of-type {\n        vertical-align: middle;\n    }\n\n    .dataframe tbody tr th {\n        vertical-align: top;\n    }\n\n    .dataframe thead th {\n        text-align: right;\n    }\n</style>\n<table border=\"1\" class=\"dataframe\">\n  <thead>\n    <tr style=\"text-align: right;\">\n      <th></th>\n      <th>Match</th>\n      <th>Name</th>\n      <th>Date</th>\n    </tr>\n  </thead>\n  <tbody>\n    <tr>\n      <th>0</th>\n      <td>1887</td>\n      <td>The Funhaver Invitational - Qualifier 3</td>\n      <td>7 Nov - 9 Nov</td>\n    </tr>\n  </tbody>\n</table>\n</div>"
     },
     "execution_count": 3,
     "metadata": {},
     "output_type": "execute_result"
    }
   ],
   "source": [
    "tournament.ongoing('north-america')"
   ],
   "metadata": {
    "collapsed": false,
    "ExecuteTime": {
     "end_time": "2023-11-07T16:08:22.976934900Z",
     "start_time": "2023-11-07T16:08:22.187921Z"
    }
   },
   "id": "e48ef153ba4b4516"
  },
  {
   "cell_type": "code",
   "execution_count": 4,
   "outputs": [
    {
     "data": {
      "text/plain": "   Match                                        Name             Date\n0   1861                            Spike Nations #4   8 Nov - 16 Dec\n1   1837                 NACE Starleague - Fall 2023   9 Nov - 30 Nov\n2   1782                    Superdome 2023: Colombia  10 Nov - 13 Nov\n3   1885                 Community Gaming SERIES #10  10 Nov - 13 Nov\n4   1876                  Game Changers 2023 Oceania  11 Nov - 19 Nov\n5   1843           College VALORANT South: Fall 2023  11 Nov - 11 Dec\n6   1842            College VALORANT East: Fall 2023  11 Nov - 11 Dec\n7   1838           College VALORANT North: Fall 2023  11 Nov - 11 Dec\n8   1844            College VALORANT West: Fall 2023  12 Nov - 11 Dec\n9   1886                     NECC Legends: Fall 2023   14 Nov - 5 Dec\n10  1878  Red Bull Campus Clutch 2023 - World Finals  19 Nov - 24 Nov\n11  1750  Game Changers 2023 Championship: São Paulo   28 Nov - 4 Dec\n12  1875        Riot Games ONE Pro Invitational 2023    3 Dec - 4 Dec\n13  1834                       Superdome 2023: Egypt    6 Dec - 9 Dec\n14  1796  Samsung SSD Dreamhack Atlanta Invitational  15 Dec - 18 Dec\n15  1824           Predator League Asia Pacific 2024  13 Jan - 15 Jan",
      "text/html": "<div>\n<style scoped>\n    .dataframe tbody tr th:only-of-type {\n        vertical-align: middle;\n    }\n\n    .dataframe tbody tr th {\n        vertical-align: top;\n    }\n\n    .dataframe thead th {\n        text-align: right;\n    }\n</style>\n<table border=\"1\" class=\"dataframe\">\n  <thead>\n    <tr style=\"text-align: right;\">\n      <th></th>\n      <th>Match</th>\n      <th>Name</th>\n      <th>Date</th>\n    </tr>\n  </thead>\n  <tbody>\n    <tr>\n      <th>0</th>\n      <td>1861</td>\n      <td>Spike Nations #4</td>\n      <td>8 Nov - 16 Dec</td>\n    </tr>\n    <tr>\n      <th>1</th>\n      <td>1837</td>\n      <td>NACE Starleague - Fall 2023</td>\n      <td>9 Nov - 30 Nov</td>\n    </tr>\n    <tr>\n      <th>2</th>\n      <td>1782</td>\n      <td>Superdome 2023: Colombia</td>\n      <td>10 Nov - 13 Nov</td>\n    </tr>\n    <tr>\n      <th>3</th>\n      <td>1885</td>\n      <td>Community Gaming SERIES #10</td>\n      <td>10 Nov - 13 Nov</td>\n    </tr>\n    <tr>\n      <th>4</th>\n      <td>1876</td>\n      <td>Game Changers 2023 Oceania</td>\n      <td>11 Nov - 19 Nov</td>\n    </tr>\n    <tr>\n      <th>5</th>\n      <td>1843</td>\n      <td>College VALORANT South: Fall 2023</td>\n      <td>11 Nov - 11 Dec</td>\n    </tr>\n    <tr>\n      <th>6</th>\n      <td>1842</td>\n      <td>College VALORANT East: Fall 2023</td>\n      <td>11 Nov - 11 Dec</td>\n    </tr>\n    <tr>\n      <th>7</th>\n      <td>1838</td>\n      <td>College VALORANT North: Fall 2023</td>\n      <td>11 Nov - 11 Dec</td>\n    </tr>\n    <tr>\n      <th>8</th>\n      <td>1844</td>\n      <td>College VALORANT West: Fall 2023</td>\n      <td>12 Nov - 11 Dec</td>\n    </tr>\n    <tr>\n      <th>9</th>\n      <td>1886</td>\n      <td>NECC Legends: Fall 2023</td>\n      <td>14 Nov - 5 Dec</td>\n    </tr>\n    <tr>\n      <th>10</th>\n      <td>1878</td>\n      <td>Red Bull Campus Clutch 2023 - World Finals</td>\n      <td>19 Nov - 24 Nov</td>\n    </tr>\n    <tr>\n      <th>11</th>\n      <td>1750</td>\n      <td>Game Changers 2023 Championship: São Paulo</td>\n      <td>28 Nov - 4 Dec</td>\n    </tr>\n    <tr>\n      <th>12</th>\n      <td>1875</td>\n      <td>Riot Games ONE Pro Invitational 2023</td>\n      <td>3 Dec - 4 Dec</td>\n    </tr>\n    <tr>\n      <th>13</th>\n      <td>1834</td>\n      <td>Superdome 2023: Egypt</td>\n      <td>6 Dec - 9 Dec</td>\n    </tr>\n    <tr>\n      <th>14</th>\n      <td>1796</td>\n      <td>Samsung SSD Dreamhack Atlanta Invitational</td>\n      <td>15 Dec - 18 Dec</td>\n    </tr>\n    <tr>\n      <th>15</th>\n      <td>1824</td>\n      <td>Predator League Asia Pacific 2024</td>\n      <td>13 Jan - 15 Jan</td>\n    </tr>\n  </tbody>\n</table>\n</div>"
     },
     "execution_count": 4,
     "metadata": {},
     "output_type": "execute_result"
    }
   ],
   "source": [
    "tournament.upcoming('all')"
   ],
   "metadata": {
    "collapsed": false,
    "ExecuteTime": {
     "end_time": "2023-11-07T16:08:23.889987100Z",
     "start_time": "2023-11-07T16:08:22.980924500Z"
    }
   },
   "id": "64f66a993479898a"
  },
  {
   "cell_type": "code",
   "execution_count": 5,
   "outputs": [
    {
     "data": {
      "text/plain": "    Match                                               Name             Date\n0    1786                          Project V 2023: THE POKAL   30 Sep - 4 Nov\n1    1836  VALORANT Challengers 2023 Italy: ON // THE BAT...   14 Oct - 3 Nov\n2    1866  VALORANT East: United: Season 2: Stage 3 - Las...  26 Oct - 29 Oct\n3    1879                                       EPIC.LAN #40  27 Oct - 29 Oct\n4    1877      Türkiye 100th Anniversary VALORANT Cup Finals  27 Oct - 29 Oct\n..    ...                                                ...              ...\n187  1232          Valorant Balkan League - No Risk No Story  29 Oct - 31 Oct\n188  1292   Valorant East: United - Stage 3 - Monthly Cup #2  29 Oct - 30 Oct\n189  1295                                           Bad Omen           29 Oct\n190  1726            Project V Division 1 - Split 2: Stage 3      6 Aug - TBD\n191  1725            Project V Division 1 - Split 2: Stage 2     17 Jul - TBD\n\n[192 rows x 3 columns]",
      "text/html": "<div>\n<style scoped>\n    .dataframe tbody tr th:only-of-type {\n        vertical-align: middle;\n    }\n\n    .dataframe tbody tr th {\n        vertical-align: top;\n    }\n\n    .dataframe thead th {\n        text-align: right;\n    }\n</style>\n<table border=\"1\" class=\"dataframe\">\n  <thead>\n    <tr style=\"text-align: right;\">\n      <th></th>\n      <th>Match</th>\n      <th>Name</th>\n      <th>Date</th>\n    </tr>\n  </thead>\n  <tbody>\n    <tr>\n      <th>0</th>\n      <td>1786</td>\n      <td>Project V 2023: THE POKAL</td>\n      <td>30 Sep - 4 Nov</td>\n    </tr>\n    <tr>\n      <th>1</th>\n      <td>1836</td>\n      <td>VALORANT Challengers 2023 Italy: ON // THE BAT...</td>\n      <td>14 Oct - 3 Nov</td>\n    </tr>\n    <tr>\n      <th>2</th>\n      <td>1866</td>\n      <td>VALORANT East: United: Season 2: Stage 3 - Las...</td>\n      <td>26 Oct - 29 Oct</td>\n    </tr>\n    <tr>\n      <th>3</th>\n      <td>1879</td>\n      <td>EPIC.LAN #40</td>\n      <td>27 Oct - 29 Oct</td>\n    </tr>\n    <tr>\n      <th>4</th>\n      <td>1877</td>\n      <td>Türkiye 100th Anniversary VALORANT Cup Finals</td>\n      <td>27 Oct - 29 Oct</td>\n    </tr>\n    <tr>\n      <th>...</th>\n      <td>...</td>\n      <td>...</td>\n      <td>...</td>\n    </tr>\n    <tr>\n      <th>187</th>\n      <td>1232</td>\n      <td>Valorant Balkan League - No Risk No Story</td>\n      <td>29 Oct - 31 Oct</td>\n    </tr>\n    <tr>\n      <th>188</th>\n      <td>1292</td>\n      <td>Valorant East: United - Stage 3 - Monthly Cup #2</td>\n      <td>29 Oct - 30 Oct</td>\n    </tr>\n    <tr>\n      <th>189</th>\n      <td>1295</td>\n      <td>Bad Omen</td>\n      <td>29 Oct</td>\n    </tr>\n    <tr>\n      <th>190</th>\n      <td>1726</td>\n      <td>Project V Division 1 - Split 2: Stage 3</td>\n      <td>6 Aug - TBD</td>\n    </tr>\n    <tr>\n      <th>191</th>\n      <td>1725</td>\n      <td>Project V Division 1 - Split 2: Stage 2</td>\n      <td>17 Jul - TBD</td>\n    </tr>\n  </tbody>\n</table>\n<p>192 rows × 3 columns</p>\n</div>"
     },
     "execution_count": 5,
     "metadata": {},
     "output_type": "execute_result"
    }
   ],
   "source": [
    "tournament.completed('europe')"
   ],
   "metadata": {
    "collapsed": false,
    "ExecuteTime": {
     "end_time": "2023-11-07T16:08:25.379773500Z",
     "start_time": "2023-11-07T16:08:23.890984600Z"
    }
   },
   "id": "6ce5cd13f4fdb3ed"
  }
 ],
 "metadata": {
  "kernelspec": {
   "display_name": "Python 3",
   "language": "python",
   "name": "python3"
  },
  "language_info": {
   "codemirror_mode": {
    "name": "ipython",
    "version": 2
   },
   "file_extension": ".py",
   "mimetype": "text/x-python",
   "name": "python",
   "nbconvert_exporter": "python",
   "pygments_lexer": "ipython2",
   "version": "2.7.6"
  }
 },
 "nbformat": 4,
 "nbformat_minor": 5
}
