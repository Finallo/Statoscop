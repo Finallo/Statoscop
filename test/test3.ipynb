{
 "cells": [
  {
   "cell_type": "code",
   "outputs": [],
   "source": [
    "from statoscop.statoscop.match import match_stats, match_perf_vs, match_perf_indiv"
   ],
   "metadata": {
    "collapsed": false,
    "ExecuteTime": {
     "end_time": "2024-01-06T17:43:04.448271200Z",
     "start_time": "2024-01-06T17:43:03.702267200Z"
    }
   },
   "id": "249831250e62c5b",
   "execution_count": 1
  },
  {
   "cell_type": "code",
   "outputs": [
    {
     "data": {
      "text/plain": "  Team     Player   Agents Rating Average Combat Score Kills Deaths Assists  \\\n0  CGN    aNguiSt  Killjoy   1.26                  203    17     12       1   \n1  CGN      Vince     Omen   1.10                  217    16     14       6   \n2  CGN      DaviH     Sova   0.84                  139    10     15       7   \n3  CGN  elllement     Jett   0.80                  181    14     16       2   \n4  CGN      BennY    Gekko   0.50                  128     8     17       2   \n5  ACE      chiwa  Killjoy   1.43                  227    19     10       2   \n6  ACE     Br0die     Omen   1.14                  210    14     14      15   \n7  ACE    musashi     Skye   1.06                  189    15     13       4   \n8  ACE      ALIVE     Jett   0.92                  176    13     15       1   \n9  ACE     baddyG    Viper   0.87                  166    13     13       4   \n\n  Kills - Deaths Kill, Assist, Trade, Survive % Average Damage per Round  \\\n0             +5                            62%                      155   \n1             +2                            76%                      147   \n2             -5                            62%                       91   \n3             -2                            52%                      119   \n4             -9                            52%                       90   \n5             +9                            76%                      138   \n6              0                            76%                      139   \n7             +2                            62%                      127   \n8             -2                            62%                      107   \n9              0                            71%                      115   \n\n  Headshot % First Kills First Deaths Kills - Deaths  \n0        24%           0            0              0  \n1        27%           2            2              0  \n2        25%           1            0             +1  \n3        29%           5            7             -2  \n4        29%           1            3             -2  \n5        31%           3            1             +2  \n6        27%           2            1             +1  \n7        61%           0            2             -2  \n8        32%           6            5             +1  \n9        31%           1            0             +1  ",
      "text/html": "<div>\n<style scoped>\n    .dataframe tbody tr th:only-of-type {\n        vertical-align: middle;\n    }\n\n    .dataframe tbody tr th {\n        vertical-align: top;\n    }\n\n    .dataframe thead th {\n        text-align: right;\n    }\n</style>\n<table border=\"1\" class=\"dataframe\">\n  <thead>\n    <tr style=\"text-align: right;\">\n      <th></th>\n      <th>Team</th>\n      <th>Player</th>\n      <th>Agents</th>\n      <th>Rating</th>\n      <th>Average Combat Score</th>\n      <th>Kills</th>\n      <th>Deaths</th>\n      <th>Assists</th>\n      <th>Kills - Deaths</th>\n      <th>Kill, Assist, Trade, Survive %</th>\n      <th>Average Damage per Round</th>\n      <th>Headshot %</th>\n      <th>First Kills</th>\n      <th>First Deaths</th>\n      <th>Kills - Deaths</th>\n    </tr>\n  </thead>\n  <tbody>\n    <tr>\n      <th>0</th>\n      <td>CGN</td>\n      <td>aNguiSt</td>\n      <td>Killjoy</td>\n      <td>1.26</td>\n      <td>203</td>\n      <td>17</td>\n      <td>12</td>\n      <td>1</td>\n      <td>+5</td>\n      <td>62%</td>\n      <td>155</td>\n      <td>24%</td>\n      <td>0</td>\n      <td>0</td>\n      <td>0</td>\n    </tr>\n    <tr>\n      <th>1</th>\n      <td>CGN</td>\n      <td>Vince</td>\n      <td>Omen</td>\n      <td>1.10</td>\n      <td>217</td>\n      <td>16</td>\n      <td>14</td>\n      <td>6</td>\n      <td>+2</td>\n      <td>76%</td>\n      <td>147</td>\n      <td>27%</td>\n      <td>2</td>\n      <td>2</td>\n      <td>0</td>\n    </tr>\n    <tr>\n      <th>2</th>\n      <td>CGN</td>\n      <td>DaviH</td>\n      <td>Sova</td>\n      <td>0.84</td>\n      <td>139</td>\n      <td>10</td>\n      <td>15</td>\n      <td>7</td>\n      <td>-5</td>\n      <td>62%</td>\n      <td>91</td>\n      <td>25%</td>\n      <td>1</td>\n      <td>0</td>\n      <td>+1</td>\n    </tr>\n    <tr>\n      <th>3</th>\n      <td>CGN</td>\n      <td>elllement</td>\n      <td>Jett</td>\n      <td>0.80</td>\n      <td>181</td>\n      <td>14</td>\n      <td>16</td>\n      <td>2</td>\n      <td>-2</td>\n      <td>52%</td>\n      <td>119</td>\n      <td>29%</td>\n      <td>5</td>\n      <td>7</td>\n      <td>-2</td>\n    </tr>\n    <tr>\n      <th>4</th>\n      <td>CGN</td>\n      <td>BennY</td>\n      <td>Gekko</td>\n      <td>0.50</td>\n      <td>128</td>\n      <td>8</td>\n      <td>17</td>\n      <td>2</td>\n      <td>-9</td>\n      <td>52%</td>\n      <td>90</td>\n      <td>29%</td>\n      <td>1</td>\n      <td>3</td>\n      <td>-2</td>\n    </tr>\n    <tr>\n      <th>5</th>\n      <td>ACE</td>\n      <td>chiwa</td>\n      <td>Killjoy</td>\n      <td>1.43</td>\n      <td>227</td>\n      <td>19</td>\n      <td>10</td>\n      <td>2</td>\n      <td>+9</td>\n      <td>76%</td>\n      <td>138</td>\n      <td>31%</td>\n      <td>3</td>\n      <td>1</td>\n      <td>+2</td>\n    </tr>\n    <tr>\n      <th>6</th>\n      <td>ACE</td>\n      <td>Br0die</td>\n      <td>Omen</td>\n      <td>1.14</td>\n      <td>210</td>\n      <td>14</td>\n      <td>14</td>\n      <td>15</td>\n      <td>0</td>\n      <td>76%</td>\n      <td>139</td>\n      <td>27%</td>\n      <td>2</td>\n      <td>1</td>\n      <td>+1</td>\n    </tr>\n    <tr>\n      <th>7</th>\n      <td>ACE</td>\n      <td>musashi</td>\n      <td>Skye</td>\n      <td>1.06</td>\n      <td>189</td>\n      <td>15</td>\n      <td>13</td>\n      <td>4</td>\n      <td>+2</td>\n      <td>62%</td>\n      <td>127</td>\n      <td>61%</td>\n      <td>0</td>\n      <td>2</td>\n      <td>-2</td>\n    </tr>\n    <tr>\n      <th>8</th>\n      <td>ACE</td>\n      <td>ALIVE</td>\n      <td>Jett</td>\n      <td>0.92</td>\n      <td>176</td>\n      <td>13</td>\n      <td>15</td>\n      <td>1</td>\n      <td>-2</td>\n      <td>62%</td>\n      <td>107</td>\n      <td>32%</td>\n      <td>6</td>\n      <td>5</td>\n      <td>+1</td>\n    </tr>\n    <tr>\n      <th>9</th>\n      <td>ACE</td>\n      <td>baddyG</td>\n      <td>Viper</td>\n      <td>0.87</td>\n      <td>166</td>\n      <td>13</td>\n      <td>13</td>\n      <td>4</td>\n      <td>0</td>\n      <td>71%</td>\n      <td>115</td>\n      <td>31%</td>\n      <td>1</td>\n      <td>0</td>\n      <td>+1</td>\n    </tr>\n  </tbody>\n</table>\n</div>"
     },
     "execution_count": 2,
     "metadata": {},
     "output_type": "execute_result"
    }
   ],
   "source": [
    "match_stats('291468', 0)"
   ],
   "metadata": {
    "collapsed": false,
    "ExecuteTime": {
     "end_time": "2024-01-06T17:43:05.769894200Z",
     "start_time": "2024-01-06T17:43:04.450274100Z"
    }
   },
   "id": "c458e4f4906634c7",
   "execution_count": 2
  },
  {
   "cell_type": "code",
   "outputs": [
    {
     "data": {
      "text/plain": "          Player ACE musashi        ACE Br0die        ACE ALIVE         \\\n0      CGN BennY           1  3  -2          3  1  +2         1  5  -4   \n1      CGN Vince           5  3  +2          5  2  +3         3  2  +1   \n2  CGN elllement           3  3  +0          3  3  +0         5  5  +0   \n3      CGN DaviH           1  4  -3          2  5  -3         3  0  +3   \n4    CGN aNguiSt           3  2  +1          1  3  -2         3  1  +2   \n\n  ACE baddyG        ACE chiwa         \n0          2  5  -3         1  3  -2  \n1          1  2  -1         2  5  -3  \n2                           3  5  -2  \n3          4  5  -1         0  1  -1  \n4          6  1  +5         4  5  -1  ",
      "text/html": "<div>\n<style scoped>\n    .dataframe tbody tr th:only-of-type {\n        vertical-align: middle;\n    }\n\n    .dataframe tbody tr th {\n        vertical-align: top;\n    }\n\n    .dataframe thead th {\n        text-align: right;\n    }\n</style>\n<table border=\"1\" class=\"dataframe\">\n  <thead>\n    <tr style=\"text-align: right;\">\n      <th></th>\n      <th>Player</th>\n      <th>ACE musashi</th>\n      <th></th>\n      <th></th>\n      <th>ACE Br0die</th>\n      <th></th>\n      <th></th>\n      <th>ACE ALIVE</th>\n      <th></th>\n      <th></th>\n      <th>ACE baddyG</th>\n      <th></th>\n      <th></th>\n      <th>ACE chiwa</th>\n      <th></th>\n      <th></th>\n    </tr>\n  </thead>\n  <tbody>\n    <tr>\n      <th>0</th>\n      <td>CGN BennY</td>\n      <td>1</td>\n      <td>3</td>\n      <td>-2</td>\n      <td>3</td>\n      <td>1</td>\n      <td>+2</td>\n      <td>1</td>\n      <td>5</td>\n      <td>-4</td>\n      <td>2</td>\n      <td>5</td>\n      <td>-3</td>\n      <td>1</td>\n      <td>3</td>\n      <td>-2</td>\n    </tr>\n    <tr>\n      <th>1</th>\n      <td>CGN Vince</td>\n      <td>5</td>\n      <td>3</td>\n      <td>+2</td>\n      <td>5</td>\n      <td>2</td>\n      <td>+3</td>\n      <td>3</td>\n      <td>2</td>\n      <td>+1</td>\n      <td>1</td>\n      <td>2</td>\n      <td>-1</td>\n      <td>2</td>\n      <td>5</td>\n      <td>-3</td>\n    </tr>\n    <tr>\n      <th>2</th>\n      <td>CGN elllement</td>\n      <td>3</td>\n      <td>3</td>\n      <td>+0</td>\n      <td>3</td>\n      <td>3</td>\n      <td>+0</td>\n      <td>5</td>\n      <td>5</td>\n      <td>+0</td>\n      <td></td>\n      <td></td>\n      <td></td>\n      <td>3</td>\n      <td>5</td>\n      <td>-2</td>\n    </tr>\n    <tr>\n      <th>3</th>\n      <td>CGN DaviH</td>\n      <td>1</td>\n      <td>4</td>\n      <td>-3</td>\n      <td>2</td>\n      <td>5</td>\n      <td>-3</td>\n      <td>3</td>\n      <td>0</td>\n      <td>+3</td>\n      <td>4</td>\n      <td>5</td>\n      <td>-1</td>\n      <td>0</td>\n      <td>1</td>\n      <td>-1</td>\n    </tr>\n    <tr>\n      <th>4</th>\n      <td>CGN aNguiSt</td>\n      <td>3</td>\n      <td>2</td>\n      <td>+1</td>\n      <td>1</td>\n      <td>3</td>\n      <td>-2</td>\n      <td>3</td>\n      <td>1</td>\n      <td>+2</td>\n      <td>6</td>\n      <td>1</td>\n      <td>+5</td>\n      <td>4</td>\n      <td>5</td>\n      <td>-1</td>\n    </tr>\n  </tbody>\n</table>\n</div>"
     },
     "execution_count": 3,
     "metadata": {},
     "output_type": "execute_result"
    }
   ],
   "source": [
    "match_perf_vs(\"291468\", 1)"
   ],
   "metadata": {
    "collapsed": false,
    "ExecuteTime": {
     "end_time": "2024-01-06T17:43:07.314561600Z",
     "start_time": "2024-01-06T17:43:05.769894200Z"
    }
   },
   "id": "fdc279e360c2e5ec",
   "execution_count": 3
  },
  {
   "cell_type": "code",
   "outputs": [
    {
     "data": {
      "text/plain": "          Player  2K 3K 4K 5K 1v1 1v2 1v3 1v4 1v5 ECON  PL DE\n0  CGN elllement   7                                44   1  5\n1      CGN BennY   6  2                             45   2  1\n2      CGN Vince   7  4  1      1                   70   6  2\n3    CGN aNguiSt   8  1                             53   3  0\n4      CGN DaviH   4  1         2                   41   2  2\n5      ACE chiwa   8  2         2                   57   4  1\n6      ACE ALIVE  10  2         2                   54   0  2\n7     ACE baddyG  11  2         1                   62   7  0\n8     ACE Br0die   4  3         1                   49  12  4\n9    ACE musashi  11  3                             51   8  0",
      "text/html": "<div>\n<style scoped>\n    .dataframe tbody tr th:only-of-type {\n        vertical-align: middle;\n    }\n\n    .dataframe tbody tr th {\n        vertical-align: top;\n    }\n\n    .dataframe thead th {\n        text-align: right;\n    }\n</style>\n<table border=\"1\" class=\"dataframe\">\n  <thead>\n    <tr style=\"text-align: right;\">\n      <th></th>\n      <th>Player</th>\n      <th>2K</th>\n      <th>3K</th>\n      <th>4K</th>\n      <th>5K</th>\n      <th>1v1</th>\n      <th>1v2</th>\n      <th>1v3</th>\n      <th>1v4</th>\n      <th>1v5</th>\n      <th>ECON</th>\n      <th>PL</th>\n      <th>DE</th>\n    </tr>\n  </thead>\n  <tbody>\n    <tr>\n      <th>0</th>\n      <td>CGN elllement</td>\n      <td>7</td>\n      <td></td>\n      <td></td>\n      <td></td>\n      <td></td>\n      <td></td>\n      <td></td>\n      <td></td>\n      <td></td>\n      <td>44</td>\n      <td>1</td>\n      <td>5</td>\n    </tr>\n    <tr>\n      <th>1</th>\n      <td>CGN BennY</td>\n      <td>6</td>\n      <td>2</td>\n      <td></td>\n      <td></td>\n      <td></td>\n      <td></td>\n      <td></td>\n      <td></td>\n      <td></td>\n      <td>45</td>\n      <td>2</td>\n      <td>1</td>\n    </tr>\n    <tr>\n      <th>2</th>\n      <td>CGN Vince</td>\n      <td>7</td>\n      <td>4</td>\n      <td>1</td>\n      <td></td>\n      <td>1</td>\n      <td></td>\n      <td></td>\n      <td></td>\n      <td></td>\n      <td>70</td>\n      <td>6</td>\n      <td>2</td>\n    </tr>\n    <tr>\n      <th>3</th>\n      <td>CGN aNguiSt</td>\n      <td>8</td>\n      <td>1</td>\n      <td></td>\n      <td></td>\n      <td></td>\n      <td></td>\n      <td></td>\n      <td></td>\n      <td></td>\n      <td>53</td>\n      <td>3</td>\n      <td>0</td>\n    </tr>\n    <tr>\n      <th>4</th>\n      <td>CGN DaviH</td>\n      <td>4</td>\n      <td>1</td>\n      <td></td>\n      <td></td>\n      <td>2</td>\n      <td></td>\n      <td></td>\n      <td></td>\n      <td></td>\n      <td>41</td>\n      <td>2</td>\n      <td>2</td>\n    </tr>\n    <tr>\n      <th>5</th>\n      <td>ACE chiwa</td>\n      <td>8</td>\n      <td>2</td>\n      <td></td>\n      <td></td>\n      <td>2</td>\n      <td></td>\n      <td></td>\n      <td></td>\n      <td></td>\n      <td>57</td>\n      <td>4</td>\n      <td>1</td>\n    </tr>\n    <tr>\n      <th>6</th>\n      <td>ACE ALIVE</td>\n      <td>10</td>\n      <td>2</td>\n      <td></td>\n      <td></td>\n      <td>2</td>\n      <td></td>\n      <td></td>\n      <td></td>\n      <td></td>\n      <td>54</td>\n      <td>0</td>\n      <td>2</td>\n    </tr>\n    <tr>\n      <th>7</th>\n      <td>ACE baddyG</td>\n      <td>11</td>\n      <td>2</td>\n      <td></td>\n      <td></td>\n      <td>1</td>\n      <td></td>\n      <td></td>\n      <td></td>\n      <td></td>\n      <td>62</td>\n      <td>7</td>\n      <td>0</td>\n    </tr>\n    <tr>\n      <th>8</th>\n      <td>ACE Br0die</td>\n      <td>4</td>\n      <td>3</td>\n      <td></td>\n      <td></td>\n      <td>1</td>\n      <td></td>\n      <td></td>\n      <td></td>\n      <td></td>\n      <td>49</td>\n      <td>12</td>\n      <td>4</td>\n    </tr>\n    <tr>\n      <th>9</th>\n      <td>ACE musashi</td>\n      <td>11</td>\n      <td>3</td>\n      <td></td>\n      <td></td>\n      <td></td>\n      <td></td>\n      <td></td>\n      <td></td>\n      <td></td>\n      <td>51</td>\n      <td>8</td>\n      <td>0</td>\n    </tr>\n  </tbody>\n</table>\n</div>"
     },
     "execution_count": 5,
     "metadata": {},
     "output_type": "execute_result"
    }
   ],
   "source": [
    "match_perf_indiv(\"291468\", 0)"
   ],
   "metadata": {
    "collapsed": false,
    "ExecuteTime": {
     "end_time": "2024-01-06T17:43:16.541147700Z",
     "start_time": "2024-01-06T17:43:14.976126700Z"
    }
   },
   "id": "6113cf3b73d070db",
   "execution_count": 5
  }
 ],
 "metadata": {
  "kernelspec": {
   "display_name": "Python 3",
   "language": "python",
   "name": "python3"
  },
  "language_info": {
   "codemirror_mode": {
    "name": "ipython",
    "version": 2
   },
   "file_extension": ".py",
   "mimetype": "text/x-python",
   "name": "python",
   "nbconvert_exporter": "python",
   "pygments_lexer": "ipython2",
   "version": "2.7.6"
  }
 },
 "nbformat": 4,
 "nbformat_minor": 5
}
