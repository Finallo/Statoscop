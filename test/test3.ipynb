{
 "cells": [
  {
   "cell_type": "code",
   "outputs": [
    {
     "ename": "ImportError",
     "evalue": "cannot import name 'event' from 'statoscop' (C:\\Users\\final\\PycharmProjects\\statoscop\\statoscop\\__init__.py)",
     "output_type": "error",
     "traceback": [
      "\u001B[1;31m---------------------------------------------------------------------------\u001B[0m",
      "\u001B[1;31mImportError\u001B[0m                               Traceback (most recent call last)",
      "Cell \u001B[1;32mIn[1], line 1\u001B[0m\n\u001B[1;32m----> 1\u001B[0m \u001B[38;5;28;01mfrom\u001B[39;00m \u001B[38;5;21;01mstatoscop\u001B[39;00m \u001B[38;5;28;01mimport\u001B[39;00m event\n",
      "\u001B[1;31mImportError\u001B[0m: cannot import name 'event' from 'statoscop' (C:\\Users\\final\\PycharmProjects\\statoscop\\statoscop\\__init__.py)"
     ]
    }
   ],
   "source": [
    "from statoscop import event"
   ],
   "metadata": {
    "collapsed": false,
    "ExecuteTime": {
     "end_time": "2024-01-03T10:40:48.480904600Z",
     "start_time": "2024-01-03T10:40:48.050804100Z"
    }
   },
   "id": "249831250e62c5b",
   "execution_count": 1
  },
  {
   "cell_type": "code",
   "outputs": [],
   "source": [
    "event.matchs(\"1920\")"
   ],
   "metadata": {
    "collapsed": false,
    "ExecuteTime": {
     "end_time": "2024-01-03T10:40:48.483904300Z",
     "start_time": "2024-01-03T10:40:48.480904600Z"
    }
   },
   "id": "c458e4f4906634c7",
   "execution_count": null
  }
 ],
 "metadata": {
  "kernelspec": {
   "display_name": "Python 3",
   "language": "python",
   "name": "python3"
  },
  "language_info": {
   "codemirror_mode": {
    "name": "ipython",
    "version": 2
   },
   "file_extension": ".py",
   "mimetype": "text/x-python",
   "name": "python",
   "nbconvert_exporter": "python",
   "pygments_lexer": "ipython2",
   "version": "2.7.6"
  }
 },
 "nbformat": 4,
 "nbformat_minor": 5
}
