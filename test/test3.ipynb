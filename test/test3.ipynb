{
 "cells": [
  {
   "cell_type": "code",
   "outputs": [],
   "source": [
    "from statoscop.statoscop.match import match_stats, match_perf_vs, match_perf_indiv, eco_round, eco_event"
   ],
   "metadata": {
    "collapsed": false,
    "ExecuteTime": {
     "end_time": "2024-01-06T22:06:51.165984Z",
     "start_time": "2024-01-06T22:06:49.926280Z"
    }
   },
   "id": "249831250e62c5b",
   "execution_count": 1
  },
  {
   "cell_type": "code",
   "outputs": [
    {
     "data": {
      "text/plain": "         1     2     3      4      5      6      7      8      9      10  \\\nBank1  0.2k  7.0k  2.3k   9.1k   2.0k   6.4k   2.4k   8.2k  16.8k   5.3k   \nCGN                  $$    $$$     $$     $$    $$$     $$    $$$    $$$   \nACE            $$    $$      $    $$$    $$$    $$$    $$$     $$    $$$   \nBank2  0.1k  5.0k  7.1k  10.8k  15.6k  25.2k  31.3k  26.0k  17.4k  24.2k   \n\n          11     12    13    14     15    16     17  \nBank1   6.7k   1.0k  0.1k  6.8k   0.9k  6.7k   0.6k  \nCGN      $$$     $$           $     $$   $$$     $$  \nACE      $$$    $$$          $$     $$   $$$    $$$  \nBank2  14.2k  15.3k  0.1k  0.6k  14.4k  6.4k  11.9k  ",
      "text/html": "<div>\n<style scoped>\n    .dataframe tbody tr th:only-of-type {\n        vertical-align: middle;\n    }\n\n    .dataframe tbody tr th {\n        vertical-align: top;\n    }\n\n    .dataframe thead th {\n        text-align: right;\n    }\n</style>\n<table border=\"1\" class=\"dataframe\">\n  <thead>\n    <tr style=\"text-align: right;\">\n      <th></th>\n      <th>1</th>\n      <th>2</th>\n      <th>3</th>\n      <th>4</th>\n      <th>5</th>\n      <th>6</th>\n      <th>7</th>\n      <th>8</th>\n      <th>9</th>\n      <th>10</th>\n      <th>11</th>\n      <th>12</th>\n      <th>13</th>\n      <th>14</th>\n      <th>15</th>\n      <th>16</th>\n      <th>17</th>\n    </tr>\n  </thead>\n  <tbody>\n    <tr>\n      <th>Bank1</th>\n      <td>0.2k</td>\n      <td>7.0k</td>\n      <td>2.3k</td>\n      <td>9.1k</td>\n      <td>2.0k</td>\n      <td>6.4k</td>\n      <td>2.4k</td>\n      <td>8.2k</td>\n      <td>16.8k</td>\n      <td>5.3k</td>\n      <td>6.7k</td>\n      <td>1.0k</td>\n      <td>0.1k</td>\n      <td>6.8k</td>\n      <td>0.9k</td>\n      <td>6.7k</td>\n      <td>0.6k</td>\n    </tr>\n    <tr>\n      <th>CGN</th>\n      <td></td>\n      <td></td>\n      <td>$$</td>\n      <td>$$$</td>\n      <td>$$</td>\n      <td>$$</td>\n      <td>$$$</td>\n      <td>$$</td>\n      <td>$$$</td>\n      <td>$$$</td>\n      <td>$$$</td>\n      <td>$$</td>\n      <td></td>\n      <td>$</td>\n      <td>$$</td>\n      <td>$$$</td>\n      <td>$$</td>\n    </tr>\n    <tr>\n      <th>ACE</th>\n      <td></td>\n      <td>$$</td>\n      <td>$$</td>\n      <td>$</td>\n      <td>$$$</td>\n      <td>$$$</td>\n      <td>$$$</td>\n      <td>$$$</td>\n      <td>$$</td>\n      <td>$$$</td>\n      <td>$$$</td>\n      <td>$$$</td>\n      <td></td>\n      <td>$$</td>\n      <td>$$</td>\n      <td>$$$</td>\n      <td>$$$</td>\n    </tr>\n    <tr>\n      <th>Bank2</th>\n      <td>0.1k</td>\n      <td>5.0k</td>\n      <td>7.1k</td>\n      <td>10.8k</td>\n      <td>15.6k</td>\n      <td>25.2k</td>\n      <td>31.3k</td>\n      <td>26.0k</td>\n      <td>17.4k</td>\n      <td>24.2k</td>\n      <td>14.2k</td>\n      <td>15.3k</td>\n      <td>0.1k</td>\n      <td>0.6k</td>\n      <td>14.4k</td>\n      <td>6.4k</td>\n      <td>11.9k</td>\n    </tr>\n  </tbody>\n</table>\n</div>"
     },
     "execution_count": 3,
     "metadata": {},
     "output_type": "execute_result"
    }
   ],
   "source": [
    "eco_round('291468', 1)"
   ],
   "metadata": {
    "collapsed": false,
    "ExecuteTime": {
     "end_time": "2024-01-06T22:07:03.469377Z",
     "start_time": "2024-01-06T22:07:02.638594Z"
    }
   },
   "id": "c458e4f4906634c7",
   "execution_count": 3
  },
  {
   "cell_type": "code",
   "outputs": [
    {
     "data": {
      "text/plain": "     Pistol Won Eco (won) $ (won) $$ (won) $$$ (won)\nTeam                                                \nCGN           0     3 (0)   1 (0)    6 (4)    11 (4)\nACE           2     2 (2)   2 (0)    8 (4)     9 (7)",
      "text/html": "<div>\n<style scoped>\n    .dataframe tbody tr th:only-of-type {\n        vertical-align: middle;\n    }\n\n    .dataframe tbody tr th {\n        vertical-align: top;\n    }\n\n    .dataframe thead th {\n        text-align: right;\n    }\n</style>\n<table border=\"1\" class=\"dataframe\">\n  <thead>\n    <tr style=\"text-align: right;\">\n      <th></th>\n      <th>Pistol Won</th>\n      <th>Eco (won)</th>\n      <th>$ (won)</th>\n      <th>$$ (won)</th>\n      <th>$$$ (won)</th>\n    </tr>\n    <tr>\n      <th>Team</th>\n      <th></th>\n      <th></th>\n      <th></th>\n      <th></th>\n      <th></th>\n    </tr>\n  </thead>\n  <tbody>\n    <tr>\n      <th>CGN</th>\n      <td>0</td>\n      <td>3 (0)</td>\n      <td>1 (0)</td>\n      <td>6 (4)</td>\n      <td>11 (4)</td>\n    </tr>\n    <tr>\n      <th>ACE</th>\n      <td>2</td>\n      <td>2 (2)</td>\n      <td>2 (0)</td>\n      <td>8 (4)</td>\n      <td>9 (7)</td>\n    </tr>\n  </tbody>\n</table>\n</div>"
     },
     "execution_count": 5,
     "metadata": {},
     "output_type": "execute_result"
    }
   ],
   "source": [
    "eco_event(\"291468\", 0)"
   ],
   "metadata": {
    "collapsed": false,
    "ExecuteTime": {
     "end_time": "2024-01-06T22:07:19.328267Z",
     "start_time": "2024-01-06T22:07:18.460527Z"
    }
   },
   "id": "fdc279e360c2e5ec",
   "execution_count": 5
  }
 ],
 "metadata": {
  "kernelspec": {
   "display_name": "Python 3",
   "language": "python",
   "name": "python3"
  },
  "language_info": {
   "codemirror_mode": {
    "name": "ipython",
    "version": 2
   },
   "file_extension": ".py",
   "mimetype": "text/x-python",
   "name": "python",
   "nbconvert_exporter": "python",
   "pygments_lexer": "ipython2",
   "version": "2.7.6"
  }
 },
 "nbformat": 4,
 "nbformat_minor": 5
}
