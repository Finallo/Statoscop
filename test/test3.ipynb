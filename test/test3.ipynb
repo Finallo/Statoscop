{
 "cells": [
  {
   "cell_type": "code",
   "outputs": [],
   "source": [
    "from statoscop.statoscop.region import region\n",
    "from statoscop.statoscop.match import match_stats, match_perf_vs, match_perf_indiv, eco_round, eco_event\n",
    "from statoscop.statoscop.stats import stats\n",
    "from statoscop.statoscop.tournament import upcoming, completed, ongoing"
   ],
   "metadata": {
    "collapsed": false,
    "ExecuteTime": {
     "end_time": "2024-01-07T21:03:36.710749Z",
     "start_time": "2024-01-07T21:03:36.688248Z"
    }
   },
   "id": "249831250e62c5b",
   "execution_count": 7
  },
  {
   "cell_type": "code",
   "outputs": [
    {
     "data": {
      "text/plain": "Empty DataFrame\nColumns: [Match, Name, Date]\nIndex: []",
      "text/html": "<div>\n<style scoped>\n    .dataframe tbody tr th:only-of-type {\n        vertical-align: middle;\n    }\n\n    .dataframe tbody tr th {\n        vertical-align: top;\n    }\n\n    .dataframe thead th {\n        text-align: right;\n    }\n</style>\n<table border=\"1\" class=\"dataframe\">\n  <thead>\n    <tr style=\"text-align: right;\">\n      <th></th>\n      <th>Match</th>\n      <th>Name</th>\n      <th>Date</th>\n    </tr>\n  </thead>\n  <tbody>\n  </tbody>\n</table>\n</div>"
     },
     "execution_count": 12,
     "metadata": {},
     "output_type": "execute_result"
    }
   ],
   "source": [
    "ongoing('game-changers')"
   ],
   "metadata": {
    "collapsed": false,
    "ExecuteTime": {
     "end_time": "2024-01-07T21:04:30.567225Z",
     "start_time": "2024-01-07T21:04:29.664483Z"
    }
   },
   "id": "c458e4f4906634c7",
   "execution_count": 12
  },
  {
   "cell_type": "code",
   "outputs": [
    {
     "data": {
      "text/plain": "             1     2      3      4      5      6      7      8      9      10  \\\nBank1      0.3k  0.4k  13.6k  21.9k  25.9k  27.4k  32.3k  30.7k  32.9k  32.2k   \nGN                 $$     $$    $$$    $$$    $$$    $$$    $$$    $$$    $$$   \nHASBYGANG                $$$     $$    $$$     $$    $$$     $$     $$     $$   \nBank2      0.2k  7.4k   0.3k   6.4k   2.0k   7.3k   3.3k   4.8k   0.7k   4.7k   \n\n              11     12    13  \nBank1      24.9k  11.7k  0.0k  \nGN           $$$    $$$        \nHASBYGANG     $$     $$        \nBank2       2.0k   0.3k  0.1k  ",
      "text/html": "<div>\n<style scoped>\n    .dataframe tbody tr th:only-of-type {\n        vertical-align: middle;\n    }\n\n    .dataframe tbody tr th {\n        vertical-align: top;\n    }\n\n    .dataframe thead th {\n        text-align: right;\n    }\n</style>\n<table border=\"1\" class=\"dataframe\">\n  <thead>\n    <tr style=\"text-align: right;\">\n      <th></th>\n      <th>1</th>\n      <th>2</th>\n      <th>3</th>\n      <th>4</th>\n      <th>5</th>\n      <th>6</th>\n      <th>7</th>\n      <th>8</th>\n      <th>9</th>\n      <th>10</th>\n      <th>11</th>\n      <th>12</th>\n      <th>13</th>\n    </tr>\n  </thead>\n  <tbody>\n    <tr>\n      <th>Bank1</th>\n      <td>0.3k</td>\n      <td>0.4k</td>\n      <td>13.6k</td>\n      <td>21.9k</td>\n      <td>25.9k</td>\n      <td>27.4k</td>\n      <td>32.3k</td>\n      <td>30.7k</td>\n      <td>32.9k</td>\n      <td>32.2k</td>\n      <td>24.9k</td>\n      <td>11.7k</td>\n      <td>0.0k</td>\n    </tr>\n    <tr>\n      <th>GN</th>\n      <td></td>\n      <td>$$</td>\n      <td>$$</td>\n      <td>$$$</td>\n      <td>$$$</td>\n      <td>$$$</td>\n      <td>$$$</td>\n      <td>$$$</td>\n      <td>$$$</td>\n      <td>$$$</td>\n      <td>$$$</td>\n      <td>$$$</td>\n      <td></td>\n    </tr>\n    <tr>\n      <th>HASBYGANG</th>\n      <td></td>\n      <td></td>\n      <td>$$$</td>\n      <td>$$</td>\n      <td>$$$</td>\n      <td>$$</td>\n      <td>$$$</td>\n      <td>$$</td>\n      <td>$$</td>\n      <td>$$</td>\n      <td>$$</td>\n      <td>$$</td>\n      <td></td>\n    </tr>\n    <tr>\n      <th>Bank2</th>\n      <td>0.2k</td>\n      <td>7.4k</td>\n      <td>0.3k</td>\n      <td>6.4k</td>\n      <td>2.0k</td>\n      <td>7.3k</td>\n      <td>3.3k</td>\n      <td>4.8k</td>\n      <td>0.7k</td>\n      <td>4.7k</td>\n      <td>2.0k</td>\n      <td>0.3k</td>\n      <td>0.1k</td>\n    </tr>\n  </tbody>\n</table>\n</div>"
     },
     "execution_count": 6,
     "metadata": {},
     "output_type": "execute_result"
    }
   ],
   "source": [
    "eco_round(\"291311\", 0)"
   ],
   "metadata": {
    "collapsed": false,
    "ExecuteTime": {
     "end_time": "2024-01-07T21:00:28.083808Z",
     "start_time": "2024-01-07T21:00:26.400678Z"
    }
   },
   "id": "fdc279e360c2e5ec",
   "execution_count": 6
  }
 ],
 "metadata": {
  "kernelspec": {
   "display_name": "Python 3",
   "language": "python",
   "name": "python3"
  },
  "language_info": {
   "codemirror_mode": {
    "name": "ipython",
    "version": 2
   },
   "file_extension": ".py",
   "mimetype": "text/x-python",
   "name": "python",
   "nbconvert_exporter": "python",
   "pygments_lexer": "ipython2",
   "version": "2.7.6"
  }
 },
 "nbformat": 4,
 "nbformat_minor": 5
}
