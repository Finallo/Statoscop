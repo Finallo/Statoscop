{
 "cells": [
  {
   "cell_type": "code",
   "outputs": [],
   "source": [
    "from statoscop.statoscop.region import region\n",
    "from statoscop.statoscop.match import match_stats, match_perf_vs, match_perf_indiv, eco_round, eco_event\n",
    "from statoscop.statoscop.stats import stats\n",
    "from statoscop.statoscop.tournament import upcoming, completed, ongoing\n",
    "from statoscop.statoscop.event import matchs\n"
   ],
   "metadata": {
    "collapsed": false,
    "ExecuteTime": {
     "end_time": "2024-01-08T20:45:27.963234Z",
     "start_time": "2024-01-08T20:45:26.851142Z"
    }
   },
   "id": "249831250e62c5b",
   "execution_count": 1
  },
  {
   "cell_type": "code",
   "outputs": [
    {
     "ename": "FileNotFoundError",
     "evalue": "[Errno 2] No such file or directory: '../urls/urls.txt'",
     "output_type": "error",
     "traceback": [
      "\u001B[0;31m---------------------------------------------------------------------------\u001B[0m",
      "\u001B[0;31mFileNotFoundError\u001B[0m                         Traceback (most recent call last)",
      "Cell \u001B[0;32mIn[2], line 1\u001B[0m\n\u001B[0;32m----> 1\u001B[0m \u001B[43mmatchs\u001B[49m\u001B[43m(\u001B[49m\u001B[38;5;124;43m\"\u001B[39;49m\u001B[38;5;124;43m1869\u001B[39;49m\u001B[38;5;124;43m\"\u001B[39;49m\u001B[43m)\u001B[49m\n",
      "File \u001B[0;32m~/PycharmProjects/Statoscop/statoscop/statoscop/event.py:13\u001B[0m, in \u001B[0;36mmatchs\u001B[0;34m(eve)\u001B[0m\n\u001B[1;32m      7\u001B[0m \u001B[38;5;28;01mdef\u001B[39;00m \u001B[38;5;21mmatchs\u001B[39m(eve):\n\u001B[1;32m      8\u001B[0m \u001B[38;5;250m    \u001B[39m\u001B[38;5;124;03m\"\"\"\u001B[39;00m\n\u001B[1;32m      9\u001B[0m \u001B[38;5;124;03m    This function return all matchs from a tournament.\u001B[39;00m\n\u001B[1;32m     10\u001B[0m \u001B[38;5;124;03m    :param eve: eve is the number of a tournament.\u001B[39;00m\n\u001B[1;32m     11\u001B[0m \u001B[38;5;124;03m    :return: a dataframe.\u001B[39;00m\n\u001B[1;32m     12\u001B[0m \u001B[38;5;124;03m    \"\"\"\u001B[39;00m\n\u001B[0;32m---> 13\u001B[0m     \u001B[38;5;28;01mwith\u001B[39;00m \u001B[38;5;28;43mopen\u001B[39;49m\u001B[43m(\u001B[49m\u001B[38;5;124;43m'\u001B[39;49m\u001B[38;5;124;43m../urls/urls.txt\u001B[39;49m\u001B[38;5;124;43m'\u001B[39;49m\u001B[43m,\u001B[49m\u001B[43m \u001B[49m\u001B[38;5;124;43m'\u001B[39;49m\u001B[38;5;124;43mr\u001B[39;49m\u001B[38;5;124;43m'\u001B[39;49m\u001B[43m)\u001B[49m \u001B[38;5;28;01mas\u001B[39;00m fichier:\n\u001B[1;32m     14\u001B[0m         contenu \u001B[38;5;241m=\u001B[39m fichier\u001B[38;5;241m.\u001B[39mread()\n\u001B[1;32m     15\u001B[0m     url \u001B[38;5;241m=\u001B[39m contenu \u001B[38;5;241m+\u001B[39m \u001B[38;5;124m'\u001B[39m\u001B[38;5;124m/event/matches\u001B[39m\u001B[38;5;124m'\u001B[39m \u001B[38;5;241m+\u001B[39m eve \u001B[38;5;241m+\u001B[39m \u001B[38;5;124m\"\u001B[39m\u001B[38;5;124m/?series_id=all\u001B[39m\u001B[38;5;124m\"\u001B[39m\n",
      "\u001B[0;31mFileNotFoundError\u001B[0m: [Errno 2] No such file or directory: '../urls/urls.txt'"
     ]
    }
   ],
   "source": [
    "matchs(\"1869\")"
   ],
   "metadata": {
    "collapsed": false,
    "ExecuteTime": {
     "end_time": "2024-01-08T20:45:28.349956Z",
     "start_time": "2024-01-08T20:45:27.968156Z"
    }
   },
   "id": "c458e4f4906634c7",
   "execution_count": 2
  },
  {
   "cell_type": "code",
   "execution_count": 5,
   "outputs": [
    {
     "data": {
      "text/plain": "<_io.TextIOWrapper name='../statoscop/urls/urls.txt' mode='r' encoding='UTF-8'>"
     },
     "execution_count": 5,
     "metadata": {},
     "output_type": "execute_result"
    }
   ],
   "source": [
    "f = open('../statoscop/urls/urls.txt', 'r')\n",
    "f"
   ],
   "metadata": {
    "collapsed": false,
    "ExecuteTime": {
     "end_time": "2024-01-08T20:47:10.106726Z",
     "start_time": "2024-01-08T20:47:10.095232Z"
    }
   },
   "id": "498343d8bc3c4d1d"
  },
  {
   "cell_type": "code",
   "outputs": [],
   "source": [
    "import pandas as pd\n",
    "import requests\n",
    "from bs4 import BeautifulSoup\n",
    "with open('../statoscop/urls/urls.txt', 'r') as fichier:\n",
    "    contenu = fichier.read()\n",
    "url = contenu\n",
    "response = requests.get(url)\n",
    "html = response.text\n",
    "soup = BeautifulSoup(html, 'html.parser')\n",
    "soup"
   ],
   "metadata": {
    "collapsed": false,
    "ExecuteTime": {
     "start_time": "2024-01-08T20:45:28.350590Z"
    }
   },
   "id": "fdc279e360c2e5ec",
   "execution_count": null
  }
 ],
 "metadata": {
  "kernelspec": {
   "display_name": "Python 3",
   "language": "python",
   "name": "python3"
  },
  "language_info": {
   "codemirror_mode": {
    "name": "ipython",
    "version": 2
   },
   "file_extension": ".py",
   "mimetype": "text/x-python",
   "name": "python",
   "nbconvert_exporter": "python",
   "pygments_lexer": "ipython2",
   "version": "2.7.6"
  }
 },
 "nbformat": 4,
 "nbformat_minor": 5
}
