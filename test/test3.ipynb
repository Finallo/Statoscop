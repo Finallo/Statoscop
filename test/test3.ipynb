{
 "cells": [
  {
   "cell_type": "code",
   "outputs": [
    {
     "ename": "ImportError",
     "evalue": "cannot import name 'event' from 'statoscop' (C:\\Users\\final\\PycharmProjects\\statoscop\\statoscop\\__init__.py)",
     "output_type": "error",
     "traceback": [
      "\u001B[1;31m---------------------------------------------------------------------------\u001B[0m",
      "\u001B[1;31mImportError\u001B[0m                               Traceback (most recent call last)",
      "Cell \u001B[1;32mIn[6], line 1\u001B[0m\n\u001B[1;32m----> 1\u001B[0m \u001B[38;5;28;01mfrom\u001B[39;00m \u001B[38;5;21;01mstatoscop\u001B[39;00m \u001B[38;5;28;01mimport\u001B[39;00m event\n",
      "\u001B[1;31mImportError\u001B[0m: cannot import name 'event' from 'statoscop' (C:\\Users\\final\\PycharmProjects\\statoscop\\statoscop\\__init__.py)"
     ]
    }
   ],
   "source": [
    "from statoscop import event"
   ],
   "metadata": {
    "collapsed": false,
    "ExecuteTime": {
     "end_time": "2024-01-01T13:53:59.699128800Z",
     "start_time": "2024-01-01T13:53:59.530197Z"
    }
   },
   "id": "249831250e62c5b",
   "execution_count": 6
  },
  {
   "cell_type": "code",
   "outputs": [
    {
     "data": {
      "text/plain": "   Numéro de match                                       Match  \\\n0           292514  Digital Athletics vs. Regnum Carya Esports   \n1           292515      Fenerbahçe Espor vs. Fire Flux Esports   \n2           292516            Galakticos vs. Galatasaray Espor   \n3           292517   İstanbul Wildcats vs. Papara SuperMassive   \n4           292518     Digital Athletics vs. Fire Flux Esports   \n5           292519            Galakticos vs. İstanbul Wildcats   \n6           292520     Fire Flux Esports vs. İstanbul Wildcats   \n7           292521      Fire Flux Esports vs. Fenerbahçe Espor   \n8           292522   Regnum Carya Esports vs. Fenerbahçe Espor   \n9           292523   Galatasaray Espor vs. Papara SuperMassive   \n10          292524             Galakticos vs. Fenerbahçe Espor   \n11          292525     Digital Athletics vs. Galatasaray Espor   \n12          292526      Fenerbahçe Espor vs. Galatasaray Espor   \n13          292527      İstanbul Wildcats vs. Fenerbahçe Espor   \n\n                  Team 1 Score Team 1                Team 2 Score Team 2  \n0      Digital Athletics            2  Regnum Carya Esports            0  \n1       Fenerbahçe Espor            0     Fire Flux Esports            2  \n2             Galakticos            2     Galatasaray Espor            0  \n3      İstanbul Wildcats            2   Papara SuperMassive            1  \n4      Digital Athletics            0     Fire Flux Esports            2  \n5             Galakticos            1     İstanbul Wildcats            2  \n6      Fire Flux Esports            2     İstanbul Wildcats            1  \n7      Fire Flux Esports            3      Fenerbahçe Espor            0  \n8   Regnum Carya Esports            0      Fenerbahçe Espor            2  \n9      Galatasaray Espor            2   Papara SuperMassive            1  \n10            Galakticos            0      Fenerbahçe Espor            2  \n11     Digital Athletics            0     Galatasaray Espor            2  \n12      Fenerbahçe Espor            2     Galatasaray Espor            1  \n13     İstanbul Wildcats            0      Fenerbahçe Espor            3  ",
      "text/html": "<div>\n<style scoped>\n    .dataframe tbody tr th:only-of-type {\n        vertical-align: middle;\n    }\n\n    .dataframe tbody tr th {\n        vertical-align: top;\n    }\n\n    .dataframe thead th {\n        text-align: right;\n    }\n</style>\n<table border=\"1\" class=\"dataframe\">\n  <thead>\n    <tr style=\"text-align: right;\">\n      <th></th>\n      <th>Numéro de match</th>\n      <th>Match</th>\n      <th>Team 1</th>\n      <th>Score Team 1</th>\n      <th>Team 2</th>\n      <th>Score Team 2</th>\n    </tr>\n  </thead>\n  <tbody>\n    <tr>\n      <th>0</th>\n      <td>292514</td>\n      <td>Digital Athletics vs. Regnum Carya Esports</td>\n      <td>Digital Athletics</td>\n      <td>2</td>\n      <td>Regnum Carya Esports</td>\n      <td>0</td>\n    </tr>\n    <tr>\n      <th>1</th>\n      <td>292515</td>\n      <td>Fenerbahçe Espor vs. Fire Flux Esports</td>\n      <td>Fenerbahçe Espor</td>\n      <td>0</td>\n      <td>Fire Flux Esports</td>\n      <td>2</td>\n    </tr>\n    <tr>\n      <th>2</th>\n      <td>292516</td>\n      <td>Galakticos vs. Galatasaray Espor</td>\n      <td>Galakticos</td>\n      <td>2</td>\n      <td>Galatasaray Espor</td>\n      <td>0</td>\n    </tr>\n    <tr>\n      <th>3</th>\n      <td>292517</td>\n      <td>İstanbul Wildcats vs. Papara SuperMassive</td>\n      <td>İstanbul Wildcats</td>\n      <td>2</td>\n      <td>Papara SuperMassive</td>\n      <td>1</td>\n    </tr>\n    <tr>\n      <th>4</th>\n      <td>292518</td>\n      <td>Digital Athletics vs. Fire Flux Esports</td>\n      <td>Digital Athletics</td>\n      <td>0</td>\n      <td>Fire Flux Esports</td>\n      <td>2</td>\n    </tr>\n    <tr>\n      <th>5</th>\n      <td>292519</td>\n      <td>Galakticos vs. İstanbul Wildcats</td>\n      <td>Galakticos</td>\n      <td>1</td>\n      <td>İstanbul Wildcats</td>\n      <td>2</td>\n    </tr>\n    <tr>\n      <th>6</th>\n      <td>292520</td>\n      <td>Fire Flux Esports vs. İstanbul Wildcats</td>\n      <td>Fire Flux Esports</td>\n      <td>2</td>\n      <td>İstanbul Wildcats</td>\n      <td>1</td>\n    </tr>\n    <tr>\n      <th>7</th>\n      <td>292521</td>\n      <td>Fire Flux Esports vs. Fenerbahçe Espor</td>\n      <td>Fire Flux Esports</td>\n      <td>3</td>\n      <td>Fenerbahçe Espor</td>\n      <td>0</td>\n    </tr>\n    <tr>\n      <th>8</th>\n      <td>292522</td>\n      <td>Regnum Carya Esports vs. Fenerbahçe Espor</td>\n      <td>Regnum Carya Esports</td>\n      <td>0</td>\n      <td>Fenerbahçe Espor</td>\n      <td>2</td>\n    </tr>\n    <tr>\n      <th>9</th>\n      <td>292523</td>\n      <td>Galatasaray Espor vs. Papara SuperMassive</td>\n      <td>Galatasaray Espor</td>\n      <td>2</td>\n      <td>Papara SuperMassive</td>\n      <td>1</td>\n    </tr>\n    <tr>\n      <th>10</th>\n      <td>292524</td>\n      <td>Galakticos vs. Fenerbahçe Espor</td>\n      <td>Galakticos</td>\n      <td>0</td>\n      <td>Fenerbahçe Espor</td>\n      <td>2</td>\n    </tr>\n    <tr>\n      <th>11</th>\n      <td>292525</td>\n      <td>Digital Athletics vs. Galatasaray Espor</td>\n      <td>Digital Athletics</td>\n      <td>0</td>\n      <td>Galatasaray Espor</td>\n      <td>2</td>\n    </tr>\n    <tr>\n      <th>12</th>\n      <td>292526</td>\n      <td>Fenerbahçe Espor vs. Galatasaray Espor</td>\n      <td>Fenerbahçe Espor</td>\n      <td>2</td>\n      <td>Galatasaray Espor</td>\n      <td>1</td>\n    </tr>\n    <tr>\n      <th>13</th>\n      <td>292527</td>\n      <td>İstanbul Wildcats vs. Fenerbahçe Espor</td>\n      <td>İstanbul Wildcats</td>\n      <td>0</td>\n      <td>Fenerbahçe Espor</td>\n      <td>3</td>\n    </tr>\n  </tbody>\n</table>\n</div>"
     },
     "execution_count": 5,
     "metadata": {},
     "output_type": "execute_result"
    }
   ],
   "source": [
    "event.matchs(\"1931\")"
   ],
   "metadata": {
    "collapsed": false,
    "ExecuteTime": {
     "end_time": "2024-01-01T13:46:43.204576800Z",
     "start_time": "2024-01-01T13:46:42.206493500Z"
    }
   },
   "id": "c458e4f4906634c7",
   "execution_count": 5
  }
 ],
 "metadata": {
  "kernelspec": {
   "display_name": "Python 3",
   "language": "python",
   "name": "python3"
  },
  "language_info": {
   "codemirror_mode": {
    "name": "ipython",
    "version": 2
   },
   "file_extension": ".py",
   "mimetype": "text/x-python",
   "name": "python",
   "nbconvert_exporter": "python",
   "pygments_lexer": "ipython2",
   "version": "2.7.6"
  }
 },
 "nbformat": 4,
 "nbformat_minor": 5
}
