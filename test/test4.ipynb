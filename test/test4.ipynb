{
 "cells": [
  {
   "cell_type": "code",
   "execution_count": 1,
   "id": "initial_id",
   "metadata": {
    "collapsed": true,
    "ExecuteTime": {
     "end_time": "2024-01-07T10:58:34.452340200Z",
     "start_time": "2024-01-07T10:58:33.683235100Z"
    }
   },
   "outputs": [],
   "source": [
    "import pandas as pd\n",
    "import numpy as np\n",
    "import requests\n",
    "from bs4 import BeautifulSoup\n",
    "import re"
   ]
  },
  {
   "cell_type": "code",
   "outputs": [
    {
     "data": {
      "text/plain": "           Player   Team                  Agents  Rnd     R    ACS   K:D KAST  \\\n0      florescent     SR             Jett / Raze  225  1.43  283.8  1.73  74%   \n1        sarahcat     SR     Viper / Fade / Sova  225  1.31  235.8  1.36  82%   \n2            kaho  SFU.P  Killjoy / Jett / Reyna  242  1.30  259.7  1.50  75%   \n3           moose    TTR   Raze / Viper / Cypher  411  1.29  255.9  1.52  76%   \n4         chloric     LV      Sova / Jett / Raze  497  1.27  219.4  1.31  77%   \n..            ...    ...                     ...  ...   ...    ...   ...  ...   \n345    TvirusLuke    DRG             Raze / Jett  372        226.4  0.93        \n346          Nicc    DRG      Omen / Kayo / Skye  372        157.5  0.77        \n347          Life    ASE             Raze / Jett  388        219.3  1.02        \n348  hfmi0dzjc9z7             Skye / Raze / Sova  388        204.9  0.99        \n349       Dingwei    DRG   Viper / Omen / Breach  284        174.4  0.80        \n\n       ADR   KPR  ...  FDPR  HS%  CL%     CL KMax    K    D    A  FK  FD  \n0    189.3  1.03  ...  0.16  35%  33%    3/9   35  232  134   43  52  35  \n1    153.5  0.84  ...  0.09  27%   8%   1/13   20  190  140  103  19  20  \n2    174.4  0.93  ...  0.09  23%  25%  10/40   31  224  149   38  31  22  \n3    168.6  0.93  ...  0.10  23%  23%  13/56   30  384  252   95  62  40  \n4    146.5  0.76  ...  0.06  25%  15%  10/66   24  378  289  175  41  29  \n..     ...   ...  ...   ...  ...  ...    ...  ...  ...  ...  ...  ..  ..  \n345         0.79  ...                          30  293  316   60   0   0  \n346         0.57  ...                          26  213  275  146   0   0  \n347         0.77  ...                          24  298  291   58   0   0  \n348         0.71  ...                          27  274  277  125   0   0  \n349         0.60  ...                          23  171  213   84   0   0  \n\n[350 rows x 22 columns]",
      "text/html": "<div>\n<style scoped>\n    .dataframe tbody tr th:only-of-type {\n        vertical-align: middle;\n    }\n\n    .dataframe tbody tr th {\n        vertical-align: top;\n    }\n\n    .dataframe thead th {\n        text-align: right;\n    }\n</style>\n<table border=\"1\" class=\"dataframe\">\n  <thead>\n    <tr style=\"text-align: right;\">\n      <th></th>\n      <th>Player</th>\n      <th>Team</th>\n      <th>Agents</th>\n      <th>Rnd</th>\n      <th>R</th>\n      <th>ACS</th>\n      <th>K:D</th>\n      <th>KAST</th>\n      <th>ADR</th>\n      <th>KPR</th>\n      <th>...</th>\n      <th>FDPR</th>\n      <th>HS%</th>\n      <th>CL%</th>\n      <th>CL</th>\n      <th>KMax</th>\n      <th>K</th>\n      <th>D</th>\n      <th>A</th>\n      <th>FK</th>\n      <th>FD</th>\n    </tr>\n  </thead>\n  <tbody>\n    <tr>\n      <th>0</th>\n      <td>florescent</td>\n      <td>SR</td>\n      <td>Jett / Raze</td>\n      <td>225</td>\n      <td>1.43</td>\n      <td>283.8</td>\n      <td>1.73</td>\n      <td>74%</td>\n      <td>189.3</td>\n      <td>1.03</td>\n      <td>...</td>\n      <td>0.16</td>\n      <td>35%</td>\n      <td>33%</td>\n      <td>3/9</td>\n      <td>35</td>\n      <td>232</td>\n      <td>134</td>\n      <td>43</td>\n      <td>52</td>\n      <td>35</td>\n    </tr>\n    <tr>\n      <th>1</th>\n      <td>sarahcat</td>\n      <td>SR</td>\n      <td>Viper / Fade / Sova</td>\n      <td>225</td>\n      <td>1.31</td>\n      <td>235.8</td>\n      <td>1.36</td>\n      <td>82%</td>\n      <td>153.5</td>\n      <td>0.84</td>\n      <td>...</td>\n      <td>0.09</td>\n      <td>27%</td>\n      <td>8%</td>\n      <td>1/13</td>\n      <td>20</td>\n      <td>190</td>\n      <td>140</td>\n      <td>103</td>\n      <td>19</td>\n      <td>20</td>\n    </tr>\n    <tr>\n      <th>2</th>\n      <td>kaho</td>\n      <td>SFU.P</td>\n      <td>Killjoy / Jett / Reyna</td>\n      <td>242</td>\n      <td>1.30</td>\n      <td>259.7</td>\n      <td>1.50</td>\n      <td>75%</td>\n      <td>174.4</td>\n      <td>0.93</td>\n      <td>...</td>\n      <td>0.09</td>\n      <td>23%</td>\n      <td>25%</td>\n      <td>10/40</td>\n      <td>31</td>\n      <td>224</td>\n      <td>149</td>\n      <td>38</td>\n      <td>31</td>\n      <td>22</td>\n    </tr>\n    <tr>\n      <th>3</th>\n      <td>moose</td>\n      <td>TTR</td>\n      <td>Raze / Viper / Cypher</td>\n      <td>411</td>\n      <td>1.29</td>\n      <td>255.9</td>\n      <td>1.52</td>\n      <td>76%</td>\n      <td>168.6</td>\n      <td>0.93</td>\n      <td>...</td>\n      <td>0.10</td>\n      <td>23%</td>\n      <td>23%</td>\n      <td>13/56</td>\n      <td>30</td>\n      <td>384</td>\n      <td>252</td>\n      <td>95</td>\n      <td>62</td>\n      <td>40</td>\n    </tr>\n    <tr>\n      <th>4</th>\n      <td>chloric</td>\n      <td>LV</td>\n      <td>Sova / Jett / Raze</td>\n      <td>497</td>\n      <td>1.27</td>\n      <td>219.4</td>\n      <td>1.31</td>\n      <td>77%</td>\n      <td>146.5</td>\n      <td>0.76</td>\n      <td>...</td>\n      <td>0.06</td>\n      <td>25%</td>\n      <td>15%</td>\n      <td>10/66</td>\n      <td>24</td>\n      <td>378</td>\n      <td>289</td>\n      <td>175</td>\n      <td>41</td>\n      <td>29</td>\n    </tr>\n    <tr>\n      <th>...</th>\n      <td>...</td>\n      <td>...</td>\n      <td>...</td>\n      <td>...</td>\n      <td>...</td>\n      <td>...</td>\n      <td>...</td>\n      <td>...</td>\n      <td>...</td>\n      <td>...</td>\n      <td>...</td>\n      <td>...</td>\n      <td>...</td>\n      <td>...</td>\n      <td>...</td>\n      <td>...</td>\n      <td>...</td>\n      <td>...</td>\n      <td>...</td>\n      <td>...</td>\n      <td>...</td>\n    </tr>\n    <tr>\n      <th>345</th>\n      <td>TvirusLuke</td>\n      <td>DRG</td>\n      <td>Raze / Jett</td>\n      <td>372</td>\n      <td></td>\n      <td>226.4</td>\n      <td>0.93</td>\n      <td></td>\n      <td></td>\n      <td>0.79</td>\n      <td>...</td>\n      <td></td>\n      <td></td>\n      <td></td>\n      <td></td>\n      <td>30</td>\n      <td>293</td>\n      <td>316</td>\n      <td>60</td>\n      <td>0</td>\n      <td>0</td>\n    </tr>\n    <tr>\n      <th>346</th>\n      <td>Nicc</td>\n      <td>DRG</td>\n      <td>Omen / Kayo / Skye</td>\n      <td>372</td>\n      <td></td>\n      <td>157.5</td>\n      <td>0.77</td>\n      <td></td>\n      <td></td>\n      <td>0.57</td>\n      <td>...</td>\n      <td></td>\n      <td></td>\n      <td></td>\n      <td></td>\n      <td>26</td>\n      <td>213</td>\n      <td>275</td>\n      <td>146</td>\n      <td>0</td>\n      <td>0</td>\n    </tr>\n    <tr>\n      <th>347</th>\n      <td>Life</td>\n      <td>ASE</td>\n      <td>Raze / Jett</td>\n      <td>388</td>\n      <td></td>\n      <td>219.3</td>\n      <td>1.02</td>\n      <td></td>\n      <td></td>\n      <td>0.77</td>\n      <td>...</td>\n      <td></td>\n      <td></td>\n      <td></td>\n      <td></td>\n      <td>24</td>\n      <td>298</td>\n      <td>291</td>\n      <td>58</td>\n      <td>0</td>\n      <td>0</td>\n    </tr>\n    <tr>\n      <th>348</th>\n      <td>hfmi0dzjc9z7</td>\n      <td></td>\n      <td>Skye / Raze / Sova</td>\n      <td>388</td>\n      <td></td>\n      <td>204.9</td>\n      <td>0.99</td>\n      <td></td>\n      <td></td>\n      <td>0.71</td>\n      <td>...</td>\n      <td></td>\n      <td></td>\n      <td></td>\n      <td></td>\n      <td>27</td>\n      <td>274</td>\n      <td>277</td>\n      <td>125</td>\n      <td>0</td>\n      <td>0</td>\n    </tr>\n    <tr>\n      <th>349</th>\n      <td>Dingwei</td>\n      <td>DRG</td>\n      <td>Viper / Omen / Breach</td>\n      <td>284</td>\n      <td></td>\n      <td>174.4</td>\n      <td>0.80</td>\n      <td></td>\n      <td></td>\n      <td>0.60</td>\n      <td>...</td>\n      <td></td>\n      <td></td>\n      <td></td>\n      <td></td>\n      <td>23</td>\n      <td>171</td>\n      <td>213</td>\n      <td>84</td>\n      <td>0</td>\n      <td>0</td>\n    </tr>\n  </tbody>\n</table>\n<p>350 rows × 22 columns</p>\n</div>"
     },
     "execution_count": 2,
     "metadata": {},
     "output_type": "execute_result"
    }
   ],
   "source": [
    "import pandas as pd\n",
    "import numpy as np\n",
    "import requests\n",
    "from bs4 import BeautifulSoup\n",
    "import re\n",
    "\n",
    "url = \"https://www.vlr.gg/stats\"\n",
    "response = requests.get(url)\n",
    "html = response.text\n",
    "soup = BeautifulSoup(html, 'html.parser')\n",
    "table = soup.find('table', class_='wf-table mod-stats mod-scroll')\n",
    "table.find_all('th')\n",
    "header = []\n",
    "for title in table.find_all('th'):\n",
    "    header.append(title.get_text(strip=True))\n",
    "header.remove('Player')\n",
    "header.remove('Agents')\n",
    "#'Player', 'Team', 'Agents',\n",
    "header.insert(0, 'Player')\n",
    "header.insert(1, 'Team')\n",
    "header.insert(2, 'Agents')\n",
    "header.insert(3, '3')\n",
    "header.insert(4, '4')\n",
    "t_bodys = table.find_all('tbody')[0]\n",
    "datas = []\n",
    "for tr_tag in t_bodys.find_all('tr'):\n",
    "    player_name = tr_tag.find('div', class_='text-of').text.strip()\n",
    "    datas.append(player_name)\n",
    "    team_name = tr_tag.find('div', class_='stats-player-country').text.strip()\n",
    "    datas.append(team_name)\n",
    "    agent_names = []\n",
    "    img_src = [img['src'] for img in tr_tag.find_all('img')]\n",
    "    for src in img_src:\n",
    "        start_index = src.find('/agents/') + len('/agents/')\n",
    "        end_index = src.find('.png')\n",
    "        agent_name = src[start_index:end_index].capitalize()\n",
    "        agent_names.append(agent_name)\n",
    "    combined_agents= ' / '.join(agent_names)\n",
    "    datas.append(combined_agents)\n",
    "    td_tags = tr_tag.find_all('td')\n",
    "    for td in td_tags:\n",
    "        datas.append(td.get_text(strip=True))\n",
    "num_columns = 24\n",
    "table_data = [datas[i:i + num_columns] for i in range(0, len(datas), num_columns)]\n",
    "df = pd.DataFrame(table_data, columns=header)\n",
    "df_final = df.drop(['3', '4'], axis=1)\n",
    "df_final"
   ],
   "metadata": {
    "collapsed": false,
    "ExecuteTime": {
     "end_time": "2024-01-07T10:58:38.715672800Z",
     "start_time": "2024-01-07T10:58:34.457339200Z"
    }
   },
   "id": "5234e4cbedc8ca7d",
   "execution_count": 2
  }
 ],
 "metadata": {
  "kernelspec": {
   "display_name": "Python 3",
   "language": "python",
   "name": "python3"
  },
  "language_info": {
   "codemirror_mode": {
    "name": "ipython",
    "version": 2
   },
   "file_extension": ".py",
   "mimetype": "text/x-python",
   "name": "python",
   "nbconvert_exporter": "python",
   "pygments_lexer": "ipython2",
   "version": "2.7.6"
  }
 },
 "nbformat": 4,
 "nbformat_minor": 5
}
