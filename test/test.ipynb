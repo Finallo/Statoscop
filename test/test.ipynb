{
 "cells": [
  {
   "cell_type": "code",
   "execution_count": 1,
   "id": "initial_id",
   "metadata": {
    "collapsed": true,
    "ExecuteTime": {
     "end_time": "2024-01-13T11:58:11.437818Z",
     "start_time": "2024-01-13T11:57:57.903448Z"
    }
   },
   "outputs": [],
   "source": [
    "import requests\n",
    "from bs4 import BeautifulSoup\n",
    "import pandas as pd\n",
    "import numpy as np\n",
    "from datetime import datetime, timedelta\n",
    "import re"
   ]
  },
  {
   "cell_type": "code",
   "execution_count": 5,
   "outputs": [
    {
     "data": {
      "text/plain": "    Match                                               Name             Date\n0    1957                                 VALORANT Super Cup            Jan 5\n1    1931                       ESA Open Fire All Stars 2023  17 Dec - 30 Dec\n2    1933                          TESFED Turkish Cup - 2023  16 Dec - 24 Dec\n3    1920                                Mandatory.gg Cup #3  13 Dec - 19 Dec\n4    1934                                  Harbor's Crest #2           Dec 16\n..    ...                                                ...              ...\n185  1436                                   Get On My Level!  16 Dec - 18 Dec\n186  1420  St. Petersburg Governor's Cup Valorant - Super...  16 Dec - 18 Dec\n187  1402                                    Golden Goose #5  10 Dec - 11 Dec\n188  1726            Project V Division 1 - Split 2: Stage 3      6 Aug - TBD\n189  1725            Project V Division 1 - Split 2: Stage 2     17 Jul - TBD\n\n[190 rows x 3 columns]",
      "text/html": "<div>\n<style scoped>\n    .dataframe tbody tr th:only-of-type {\n        vertical-align: middle;\n    }\n\n    .dataframe tbody tr th {\n        vertical-align: top;\n    }\n\n    .dataframe thead th {\n        text-align: right;\n    }\n</style>\n<table border=\"1\" class=\"dataframe\">\n  <thead>\n    <tr style=\"text-align: right;\">\n      <th></th>\n      <th>Match</th>\n      <th>Name</th>\n      <th>Date</th>\n    </tr>\n  </thead>\n  <tbody>\n    <tr>\n      <th>0</th>\n      <td>1957</td>\n      <td>VALORANT Super Cup</td>\n      <td>Jan 5</td>\n    </tr>\n    <tr>\n      <th>1</th>\n      <td>1931</td>\n      <td>ESA Open Fire All Stars 2023</td>\n      <td>17 Dec - 30 Dec</td>\n    </tr>\n    <tr>\n      <th>2</th>\n      <td>1933</td>\n      <td>TESFED Turkish Cup - 2023</td>\n      <td>16 Dec - 24 Dec</td>\n    </tr>\n    <tr>\n      <th>3</th>\n      <td>1920</td>\n      <td>Mandatory.gg Cup #3</td>\n      <td>13 Dec - 19 Dec</td>\n    </tr>\n    <tr>\n      <th>4</th>\n      <td>1934</td>\n      <td>Harbor's Crest #2</td>\n      <td>Dec 16</td>\n    </tr>\n    <tr>\n      <th>...</th>\n      <td>...</td>\n      <td>...</td>\n      <td>...</td>\n    </tr>\n    <tr>\n      <th>185</th>\n      <td>1436</td>\n      <td>Get On My Level!</td>\n      <td>16 Dec - 18 Dec</td>\n    </tr>\n    <tr>\n      <th>186</th>\n      <td>1420</td>\n      <td>St. Petersburg Governor's Cup Valorant - Super...</td>\n      <td>16 Dec - 18 Dec</td>\n    </tr>\n    <tr>\n      <th>187</th>\n      <td>1402</td>\n      <td>Golden Goose #5</td>\n      <td>10 Dec - 11 Dec</td>\n    </tr>\n    <tr>\n      <th>188</th>\n      <td>1726</td>\n      <td>Project V Division 1 - Split 2: Stage 3</td>\n      <td>6 Aug - TBD</td>\n    </tr>\n    <tr>\n      <th>189</th>\n      <td>1725</td>\n      <td>Project V Division 1 - Split 2: Stage 2</td>\n      <td>17 Jul - TBD</td>\n    </tr>\n  </tbody>\n</table>\n<p>190 rows × 3 columns</p>\n</div>"
     },
     "execution_count": 5,
     "metadata": {},
     "output_type": "execute_result"
    }
   ],
   "source": [
    "url = \"https://www.vlr.gg/events/europe\"\n",
    "response = requests.get(url)\n",
    "html = response.text\n",
    "soup = BeautifulSoup(html, 'html.parser')\n",
    "\n",
    "def comp(balise):\n",
    "    return balise.name == 'a' and balise.find('span', class_='event-item-desc-item-status mod-completed') is not None\n",
    "\n",
    "completeds = pd.DataFrame(columns=['Match', 'Name', 'Date'])\n",
    "\n",
    "# Utiliser la fonction personnalisée pour récupérer les balises <a>\n",
    "balises_a = soup.find_all(comp)\n",
    "\n",
    "# Afficher les balises <a> trouvées\n",
    "for balise_a in balises_a:\n",
    "    texts = balise_a.find(\"div\", class_=\"event-item-title\")\n",
    "    text = texts.get_text(strip=True)\n",
    "    date = balise_a.find(\"div\", class_=\"event-item-desc-item mod-dates\").get_text(strip=True).replace('Dates','')\n",
    "    if \"—\" in date:\n",
    "        periode1, periode2 = date.split(\"—\")\n",
    "        if len(periode2) <= 2:\n",
    "            mois1, jour1 = [x.strip() for x in periode1.split()]\n",
    "            jour2 = periode2\n",
    "            date = f\"{jour1} {mois1} - {jour2} {mois1}\"\n",
    "        elif periode2 == \"TBD\":\n",
    "            mois1, jour1 = [x.strip() for x in periode1.split()]\n",
    "            mois2 = periode2\n",
    "            date = f\"{jour1} {mois1} - {mois2}\"\n",
    "        elif len(periode2) > 2:\n",
    "            mois1, jour1 = [x.strip() for x in periode1.split()]\n",
    "            mois2, jour2 = [x.strip() for x in periode2.split()]\n",
    "            date = f\"{jour1} {mois1} - {jour2} {mois2}\"\n",
    "        else:\n",
    "            mois1, jour1 = [x.strip() for x in periode1.split()]\n",
    "            date = f\"{jour1} {mois1}\"\n",
    "    url = balise_a.get('href')\n",
    "    match = re.search(r\"/event/(\\d+)\", url)\n",
    "    match = match.group(1)\n",
    "    completeds = completeds._append({'Match': match, 'Name': text, 'Date': date}, ignore_index=True)\n",
    "\n",
    "completeds"
   ],
   "metadata": {
    "collapsed": false,
    "ExecuteTime": {
     "end_time": "2024-01-13T12:00:15.708882Z",
     "start_time": "2024-01-13T12:00:11.436201Z"
    }
   },
   "id": "9c53dd0c3bf33689"
  }
 ],
 "metadata": {
  "kernelspec": {
   "display_name": "Python 3",
   "language": "python",
   "name": "python3"
  },
  "language_info": {
   "codemirror_mode": {
    "name": "ipython",
    "version": 2
   },
   "file_extension": ".py",
   "mimetype": "text/x-python",
   "name": "python",
   "nbconvert_exporter": "python",
   "pygments_lexer": "ipython2",
   "version": "2.7.6"
  }
 },
 "nbformat": 4,
 "nbformat_minor": 5
}
