{
 "cells": [
  {
   "cell_type": "code",
   "execution_count": 1,
   "id": "initial_id",
   "metadata": {
    "collapsed": true,
    "ExecuteTime": {
     "end_time": "2024-01-01T12:02:23.781175500Z",
     "start_time": "2024-01-01T12:02:23.045982500Z"
    }
   },
   "outputs": [],
   "source": [
    "import pandas as pd\n",
    "import numpy as np\n",
    "import requests\n",
    "from bs4 import BeautifulSoup\n",
    "import re"
   ]
  },
  {
   "cell_type": "code",
   "outputs": [],
   "source": [
    "eve = input()\n",
    "url = \"https://www.vlr.gg/event/\" + eve\n",
    "response = requests.get(url)\n",
    "html = response.text\n",
    "soup = BeautifulSoup(html, 'html.parser')"
   ],
   "metadata": {
    "collapsed": false,
    "ExecuteTime": {
     "end_time": "2024-01-01T12:02:29.885781500Z",
     "start_time": "2024-01-01T12:02:23.785176900Z"
    }
   },
   "id": "7e8b439bbe0133f1",
   "execution_count": 2
  },
  {
   "cell_type": "code",
   "outputs": [
    {
     "data": {
      "text/plain": "                    Team        Player\n0    papara-supermassive       sterben\n1    papara-supermassive          izzy\n2    papara-supermassive        cyderx\n3    papara-supermassive          hiro\n4    papara-supermassive       celasun\n5             galakticos        jlerst\n6             galakticos  destruct1vee\n7             galakticos        glovee\n8             galakticos         ip0tt\n9             galakticos      krostaly\n10     digital-athletics          doma\n11     digital-athletics          mini\n12     digital-athletics      deepmans\n13     digital-athletics         masic\n14     digital-athletics         qpert\n15     galatasaray-espor        touven\n16     galatasaray-espor         mersa\n17     galatasaray-espor        docent\n18     galatasaray-espor       deadink\n19     galatasaray-espor       padisah\n20      fenerbah-e-espor          fred\n21      fenerbah-e-espor          vcan\n22      fenerbah-e-espor        patrui\n23      fenerbah-e-espor        sturnn\n24      fenerbah-e-espor         jrayn\n25      stanbul-wildcats          baha\n26      stanbul-wildcats          drky\n27      stanbul-wildcats     deminatix\n28      stanbul-wildcats          merz\n29      stanbul-wildcats         sh1va\n30  regnum-carya-esports         m1tez\n31  regnum-carya-esports        lauzen\n32  regnum-carya-esports          jonx\n33  regnum-carya-esports       werlass\n34  regnum-carya-esports       musz3kk\n35     fire-flux-esports         turko\n36     fire-flux-esports     sociablee\n37     fire-flux-esports           qw1\n38     fire-flux-esports        w0zzip\n39     fire-flux-esports         ruxic",
      "text/html": "<div>\n<style scoped>\n    .dataframe tbody tr th:only-of-type {\n        vertical-align: middle;\n    }\n\n    .dataframe tbody tr th {\n        vertical-align: top;\n    }\n\n    .dataframe thead th {\n        text-align: right;\n    }\n</style>\n<table border=\"1\" class=\"dataframe\">\n  <thead>\n    <tr style=\"text-align: right;\">\n      <th></th>\n      <th>Team</th>\n      <th>Player</th>\n    </tr>\n  </thead>\n  <tbody>\n    <tr>\n      <th>0</th>\n      <td>papara-supermassive</td>\n      <td>sterben</td>\n    </tr>\n    <tr>\n      <th>1</th>\n      <td>papara-supermassive</td>\n      <td>izzy</td>\n    </tr>\n    <tr>\n      <th>2</th>\n      <td>papara-supermassive</td>\n      <td>cyderx</td>\n    </tr>\n    <tr>\n      <th>3</th>\n      <td>papara-supermassive</td>\n      <td>hiro</td>\n    </tr>\n    <tr>\n      <th>4</th>\n      <td>papara-supermassive</td>\n      <td>celasun</td>\n    </tr>\n    <tr>\n      <th>5</th>\n      <td>galakticos</td>\n      <td>jlerst</td>\n    </tr>\n    <tr>\n      <th>6</th>\n      <td>galakticos</td>\n      <td>destruct1vee</td>\n    </tr>\n    <tr>\n      <th>7</th>\n      <td>galakticos</td>\n      <td>glovee</td>\n    </tr>\n    <tr>\n      <th>8</th>\n      <td>galakticos</td>\n      <td>ip0tt</td>\n    </tr>\n    <tr>\n      <th>9</th>\n      <td>galakticos</td>\n      <td>krostaly</td>\n    </tr>\n    <tr>\n      <th>10</th>\n      <td>digital-athletics</td>\n      <td>doma</td>\n    </tr>\n    <tr>\n      <th>11</th>\n      <td>digital-athletics</td>\n      <td>mini</td>\n    </tr>\n    <tr>\n      <th>12</th>\n      <td>digital-athletics</td>\n      <td>deepmans</td>\n    </tr>\n    <tr>\n      <th>13</th>\n      <td>digital-athletics</td>\n      <td>masic</td>\n    </tr>\n    <tr>\n      <th>14</th>\n      <td>digital-athletics</td>\n      <td>qpert</td>\n    </tr>\n    <tr>\n      <th>15</th>\n      <td>galatasaray-espor</td>\n      <td>touven</td>\n    </tr>\n    <tr>\n      <th>16</th>\n      <td>galatasaray-espor</td>\n      <td>mersa</td>\n    </tr>\n    <tr>\n      <th>17</th>\n      <td>galatasaray-espor</td>\n      <td>docent</td>\n    </tr>\n    <tr>\n      <th>18</th>\n      <td>galatasaray-espor</td>\n      <td>deadink</td>\n    </tr>\n    <tr>\n      <th>19</th>\n      <td>galatasaray-espor</td>\n      <td>padisah</td>\n    </tr>\n    <tr>\n      <th>20</th>\n      <td>fenerbah-e-espor</td>\n      <td>fred</td>\n    </tr>\n    <tr>\n      <th>21</th>\n      <td>fenerbah-e-espor</td>\n      <td>vcan</td>\n    </tr>\n    <tr>\n      <th>22</th>\n      <td>fenerbah-e-espor</td>\n      <td>patrui</td>\n    </tr>\n    <tr>\n      <th>23</th>\n      <td>fenerbah-e-espor</td>\n      <td>sturnn</td>\n    </tr>\n    <tr>\n      <th>24</th>\n      <td>fenerbah-e-espor</td>\n      <td>jrayn</td>\n    </tr>\n    <tr>\n      <th>25</th>\n      <td>stanbul-wildcats</td>\n      <td>baha</td>\n    </tr>\n    <tr>\n      <th>26</th>\n      <td>stanbul-wildcats</td>\n      <td>drky</td>\n    </tr>\n    <tr>\n      <th>27</th>\n      <td>stanbul-wildcats</td>\n      <td>deminatix</td>\n    </tr>\n    <tr>\n      <th>28</th>\n      <td>stanbul-wildcats</td>\n      <td>merz</td>\n    </tr>\n    <tr>\n      <th>29</th>\n      <td>stanbul-wildcats</td>\n      <td>sh1va</td>\n    </tr>\n    <tr>\n      <th>30</th>\n      <td>regnum-carya-esports</td>\n      <td>m1tez</td>\n    </tr>\n    <tr>\n      <th>31</th>\n      <td>regnum-carya-esports</td>\n      <td>lauzen</td>\n    </tr>\n    <tr>\n      <th>32</th>\n      <td>regnum-carya-esports</td>\n      <td>jonx</td>\n    </tr>\n    <tr>\n      <th>33</th>\n      <td>regnum-carya-esports</td>\n      <td>werlass</td>\n    </tr>\n    <tr>\n      <th>34</th>\n      <td>regnum-carya-esports</td>\n      <td>musz3kk</td>\n    </tr>\n    <tr>\n      <th>35</th>\n      <td>fire-flux-esports</td>\n      <td>turko</td>\n    </tr>\n    <tr>\n      <th>36</th>\n      <td>fire-flux-esports</td>\n      <td>sociablee</td>\n    </tr>\n    <tr>\n      <th>37</th>\n      <td>fire-flux-esports</td>\n      <td>qw1</td>\n    </tr>\n    <tr>\n      <th>38</th>\n      <td>fire-flux-esports</td>\n      <td>w0zzip</td>\n    </tr>\n    <tr>\n      <th>39</th>\n      <td>fire-flux-esports</td>\n      <td>ruxic</td>\n    </tr>\n  </tbody>\n</table>\n</div>"
     },
     "execution_count": 3,
     "metadata": {},
     "output_type": "execute_result"
    }
   ],
   "source": [
    "t_p = []\n",
    "for link in soup.find_all('a', class_={'wf-module-item'}):\n",
    "    t_p.append(link.get('href'))\n",
    "\n",
    "teams = []\n",
    "players = []\n",
    "\n",
    "current_team = None\n",
    "for item in t_p:\n",
    "    if '/team/' in item:\n",
    "        current_team = re.search(r'/team/\\d+/(.+)', item)\n",
    "        if current_team:\n",
    "            current_team = current_team.group(1)\n",
    "    else:\n",
    "        player_match = re.search(r'/player/\\d+/(.+)', item)\n",
    "        if player_match:\n",
    "            players.append(player_match.group(1))\n",
    "            teams.append(current_team)\n",
    "\n",
    "# Créer un DataFrame\n",
    "team_player = pd.DataFrame({'Team': teams, 'Player': players})\n",
    "\n",
    "# Afficher le DataFrame\n",
    "team_player"
   ],
   "metadata": {
    "collapsed": false,
    "ExecuteTime": {
     "end_time": "2024-01-01T12:02:29.886782500Z",
     "start_time": "2024-01-01T12:02:29.864099100Z"
    }
   },
   "id": "b7f1de4d6ddfd750",
   "execution_count": 3
  },
  {
   "cell_type": "code",
   "outputs": [
    {
     "data": {
      "text/plain": "   Numéro de match                                       Match  \\\n0           292514  Digital Athletics vs. Regnum Carya Esports   \n1           292515      Fenerbahçe Espor vs. Fire Flux Esports   \n2           292516            Galakticos vs. Galatasaray Espor   \n3           292517   İstanbul Wildcats vs. Papara SuperMassive   \n4           292518     Digital Athletics vs. Fire Flux Esports   \n5           292519            Galakticos vs. İstanbul Wildcats   \n6           292520     Fire Flux Esports vs. İstanbul Wildcats   \n7           292521      Fire Flux Esports vs. Fenerbahçe Espor   \n8           292522   Regnum Carya Esports vs. Fenerbahçe Espor   \n9           292523   Galatasaray Espor vs. Papara SuperMassive   \n10          292524             Galakticos vs. Fenerbahçe Espor   \n11          292525     Digital Athletics vs. Galatasaray Espor   \n12          292526      Fenerbahçe Espor vs. Galatasaray Espor   \n13          292527      İstanbul Wildcats vs. Fenerbahçe Espor   \n\n                  Team 1 Score Team 1                Team 2 Score Team 2  \n0      Digital Athletics            2  Regnum Carya Esports            0  \n1       Fenerbahçe Espor            0     Fire Flux Esports            2  \n2             Galakticos            2     Galatasaray Espor            0  \n3      İstanbul Wildcats            2   Papara SuperMassive            1  \n4      Digital Athletics            0     Fire Flux Esports            2  \n5             Galakticos            1     İstanbul Wildcats            2  \n6      Fire Flux Esports            2     İstanbul Wildcats            1  \n7      Fire Flux Esports            3      Fenerbahçe Espor            0  \n8   Regnum Carya Esports            0      Fenerbahçe Espor            2  \n9      Galatasaray Espor            2   Papara SuperMassive            1  \n10            Galakticos            0      Fenerbahçe Espor            2  \n11     Digital Athletics            0     Galatasaray Espor            2  \n12      Fenerbahçe Espor            2     Galatasaray Espor            1  \n13     İstanbul Wildcats            0      Fenerbahçe Espor            3  ",
      "text/html": "<div>\n<style scoped>\n    .dataframe tbody tr th:only-of-type {\n        vertical-align: middle;\n    }\n\n    .dataframe tbody tr th {\n        vertical-align: top;\n    }\n\n    .dataframe thead th {\n        text-align: right;\n    }\n</style>\n<table border=\"1\" class=\"dataframe\">\n  <thead>\n    <tr style=\"text-align: right;\">\n      <th></th>\n      <th>Numéro de match</th>\n      <th>Match</th>\n      <th>Team 1</th>\n      <th>Score Team 1</th>\n      <th>Team 2</th>\n      <th>Score Team 2</th>\n    </tr>\n  </thead>\n  <tbody>\n    <tr>\n      <th>0</th>\n      <td>292514</td>\n      <td>Digital Athletics vs. Regnum Carya Esports</td>\n      <td>Digital Athletics</td>\n      <td>2</td>\n      <td>Regnum Carya Esports</td>\n      <td>0</td>\n    </tr>\n    <tr>\n      <th>1</th>\n      <td>292515</td>\n      <td>Fenerbahçe Espor vs. Fire Flux Esports</td>\n      <td>Fenerbahçe Espor</td>\n      <td>0</td>\n      <td>Fire Flux Esports</td>\n      <td>2</td>\n    </tr>\n    <tr>\n      <th>2</th>\n      <td>292516</td>\n      <td>Galakticos vs. Galatasaray Espor</td>\n      <td>Galakticos</td>\n      <td>2</td>\n      <td>Galatasaray Espor</td>\n      <td>0</td>\n    </tr>\n    <tr>\n      <th>3</th>\n      <td>292517</td>\n      <td>İstanbul Wildcats vs. Papara SuperMassive</td>\n      <td>İstanbul Wildcats</td>\n      <td>2</td>\n      <td>Papara SuperMassive</td>\n      <td>1</td>\n    </tr>\n    <tr>\n      <th>4</th>\n      <td>292518</td>\n      <td>Digital Athletics vs. Fire Flux Esports</td>\n      <td>Digital Athletics</td>\n      <td>0</td>\n      <td>Fire Flux Esports</td>\n      <td>2</td>\n    </tr>\n    <tr>\n      <th>5</th>\n      <td>292519</td>\n      <td>Galakticos vs. İstanbul Wildcats</td>\n      <td>Galakticos</td>\n      <td>1</td>\n      <td>İstanbul Wildcats</td>\n      <td>2</td>\n    </tr>\n    <tr>\n      <th>6</th>\n      <td>292520</td>\n      <td>Fire Flux Esports vs. İstanbul Wildcats</td>\n      <td>Fire Flux Esports</td>\n      <td>2</td>\n      <td>İstanbul Wildcats</td>\n      <td>1</td>\n    </tr>\n    <tr>\n      <th>7</th>\n      <td>292521</td>\n      <td>Fire Flux Esports vs. Fenerbahçe Espor</td>\n      <td>Fire Flux Esports</td>\n      <td>3</td>\n      <td>Fenerbahçe Espor</td>\n      <td>0</td>\n    </tr>\n    <tr>\n      <th>8</th>\n      <td>292522</td>\n      <td>Regnum Carya Esports vs. Fenerbahçe Espor</td>\n      <td>Regnum Carya Esports</td>\n      <td>0</td>\n      <td>Fenerbahçe Espor</td>\n      <td>2</td>\n    </tr>\n    <tr>\n      <th>9</th>\n      <td>292523</td>\n      <td>Galatasaray Espor vs. Papara SuperMassive</td>\n      <td>Galatasaray Espor</td>\n      <td>2</td>\n      <td>Papara SuperMassive</td>\n      <td>1</td>\n    </tr>\n    <tr>\n      <th>10</th>\n      <td>292524</td>\n      <td>Galakticos vs. Fenerbahçe Espor</td>\n      <td>Galakticos</td>\n      <td>0</td>\n      <td>Fenerbahçe Espor</td>\n      <td>2</td>\n    </tr>\n    <tr>\n      <th>11</th>\n      <td>292525</td>\n      <td>Digital Athletics vs. Galatasaray Espor</td>\n      <td>Digital Athletics</td>\n      <td>0</td>\n      <td>Galatasaray Espor</td>\n      <td>2</td>\n    </tr>\n    <tr>\n      <th>12</th>\n      <td>292526</td>\n      <td>Fenerbahçe Espor vs. Galatasaray Espor</td>\n      <td>Fenerbahçe Espor</td>\n      <td>2</td>\n      <td>Galatasaray Espor</td>\n      <td>1</td>\n    </tr>\n    <tr>\n      <th>13</th>\n      <td>292527</td>\n      <td>İstanbul Wildcats vs. Fenerbahçe Espor</td>\n      <td>İstanbul Wildcats</td>\n      <td>0</td>\n      <td>Fenerbahçe Espor</td>\n      <td>3</td>\n    </tr>\n  </tbody>\n</table>\n</div>"
     },
     "execution_count": 12,
     "metadata": {},
     "output_type": "execute_result"
    }
   ],
   "source": [
    "matchs = []\n",
    "for link in soup.find_all('a', class_={'bracket-item'}):\n",
    "    matchs.append(link.get('href'))\n",
    "    \n",
    "team_names = soup.find_all('div', class_={'bracket-item-team-name'})\n",
    "name = [team_name.get_text(strip=True) for team_name in team_names]\n",
    "team_scores = soup.find_all('div', class_={'bracket-item-team-score'})\n",
    "scores = [team_score.get_text(strip=True) for team_score in team_scores]\n",
    "\n",
    "num_mat = []\n",
    "mat = []\n",
    "for item in matchs:\n",
    "    match = re.match(r'/(?P<number>\\d+)/(?P<text>.+)', item)\n",
    "    if match:\n",
    "        num_mat.append(match.group(1))\n",
    "\n",
    "for link in soup.find_all('a', class_={'bracket-item'}):\n",
    "    mat.append(link.get('title'))\n",
    "\n",
    "# Créer un DataFrame\n",
    "df = pd.DataFrame({'Numéro de match': num_mat, 'Match': mat, 'Team 1': name[::2], 'Score Team 1': scores[::2], 'Team 2':name[1::2], 'Score Team 2': scores[1::2]})\n",
    "\n",
    "# Afficher le DataFrame\n",
    "df"
   ],
   "metadata": {
    "collapsed": false,
    "ExecuteTime": {
     "end_time": "2024-01-01T12:05:31.574024800Z",
     "start_time": "2024-01-01T12:05:31.548914100Z"
    }
   },
   "id": "20de0c845e6485e9",
   "execution_count": 12
  },
  {
   "cell_type": "code",
   "outputs": [],
   "source": [
    "soup"
   ],
   "metadata": {
    "collapsed": false,
    "ExecuteTime": {
     "end_time": "2024-01-01T12:02:30.844593Z",
     "start_time": "2024-01-01T12:02:30.839592800Z"
    }
   },
   "id": "689f7ce88842647",
   "execution_count": null
  }
 ],
 "metadata": {
  "kernelspec": {
   "display_name": "Python 3",
   "language": "python",
   "name": "python3"
  },
  "language_info": {
   "codemirror_mode": {
    "name": "ipython",
    "version": 2
   },
   "file_extension": ".py",
   "mimetype": "text/x-python",
   "name": "python",
   "nbconvert_exporter": "python",
   "pygments_lexer": "ipython2",
   "version": "2.7.6"
  }
 },
 "nbformat": 4,
 "nbformat_minor": 5
}
