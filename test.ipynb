{
 "cells": [
  {
   "cell_type": "code",
   "execution_count": 1,
   "id": "initial_id",
   "metadata": {
    "collapsed": true,
    "ExecuteTime": {
     "end_time": "2023-10-24T19:54:00.749011700Z",
     "start_time": "2023-10-24T19:54:00.150933600Z"
    }
   },
   "outputs": [],
   "source": [
    "import requests\n",
    "from bs4 import BeautifulSoup\n",
    "import pandas as pd\n",
    "import numpy as np\n",
    "from datetime import datetime, timedelta"
   ]
  },
  {
   "cell_type": "markdown",
   "source": [
    "### Etape 1:\n",
    "1/ Importation des données.\n",
    "2/ \"URL\", \"RESPONSE\", \"HTML\" permettent de récupérer le texte du site.\n",
    "3/ \"SOUP\" permet d'utiliser les données pour les scraper."
   ],
   "metadata": {
    "collapsed": false
   },
   "id": "328ad5d50449adcf"
  },
  {
   "cell_type": "code",
   "execution_count": 2,
   "outputs": [],
   "source": [
    "url = \"https://www.vlr.gg/matches/results\"\n",
    "response = requests.get(url)\n",
    "html = response.text\n",
    "soup = BeautifulSoup(html, 'html.parser')\n",
    "data = soup.find_all('div')"
   ],
   "metadata": {
    "collapsed": false,
    "ExecuteTime": {
     "end_time": "2023-10-24T19:54:01.303736Z",
     "start_time": "2023-10-24T19:54:00.751007600Z"
    }
   },
   "id": "de4f28b82d5a66d1"
  },
  {
   "cell_type": "markdown",
   "source": [
    "### Etape 2:\n",
    "1/ Création du dataframe \"df1\" recueillant toutes les données.\n",
    "1.1/ \"a\" est le dataframe pour la phase de la compétition.\n",
    "1.2/ \"b\" est le dataframe pour la compétition.\n",
    "2/ Les deux dataframes \"a\" et \"b\" sont fusionnés dans le df1."
   ],
   "metadata": {
    "collapsed": false
   },
   "id": "be5d5a4063ddc8fd"
  },
  {
   "cell_type": "code",
   "execution_count": 3,
   "outputs": [],
   "source": [
    "df1 = pd.DataFrame()\n",
    "\n",
    "a = pd.DataFrame(columns=[\"Compétition\"])\n",
    "b = pd.DataFrame(columns=[\"Phase\"])\n",
    "\n",
    "col = soup.find_all('div', class_='match-item-event-series text-of')\n",
    "for cols in col:\n",
    "    texts = cols.find_all(string=True, recursive=False)\n",
    "    text1 = texts[0].strip()\n",
    "    a = a._append({'Compétition':text1}, ignore_index=True)\n",
    "col1 = soup.find_all('div', class_='match-item-event text-of')\n",
    "for cols in col1:\n",
    "    texts1 = cols.find_all(string=True, recursive=False)\n",
    "    text2 = texts1[1].strip()\n",
    "    b = b._append({'Phase':text2}, ignore_index=True)\n",
    "\n",
    "df1 = b.join(a, how='inner')"
   ],
   "metadata": {
    "collapsed": false,
    "ExecuteTime": {
     "end_time": "2023-10-24T19:54:01.406351900Z",
     "start_time": "2023-10-24T19:54:01.303736Z"
    }
   },
   "id": "ee3f51ab28de1942"
  },
  {
   "cell_type": "code",
   "execution_count": 4,
   "outputs": [],
   "source": [
    "df2 = pd.DataFrame()\n",
    "c = pd.DataFrame(columns=[\"Team 2\"])\n",
    "d = pd.DataFrame(columns=[\"Team 1\"])\n",
    "col = soup.find_all('div', class_='match-item-vs-team-name')\n",
    "for cols in col:\n",
    "    texts = cols.find_all(string=True, recursive=True)\n",
    "    text = texts[2].strip()\n",
    "    text1 = texts[3].strip()\n",
    "    d = d._append({'Team 1':text}, ignore_index=True)\n",
    "    c = c._append({'Team 2':text1}, ignore_index=True)\n",
    "\n",
    "c = c.replace('', np.nan, regex=True)\n",
    "c = c.dropna()\n",
    "c = c.reset_index(drop=True)\n",
    "d = d.replace('', np.nan, regex=True)\n",
    "d = d.dropna()\n",
    "d = d.reset_index(drop=True)\n",
    "\n",
    "df2 = d.join(c, how='inner')\n",
    "df1 = df1.join(df2, how='inner')"
   ],
   "metadata": {
    "collapsed": false,
    "ExecuteTime": {
     "end_time": "2023-10-24T19:54:01.557977100Z",
     "start_time": "2023-10-24T19:54:01.408348600Z"
    }
   },
   "id": "cdfaa203f8620bb7"
  },
  {
   "cell_type": "code",
   "execution_count": 5,
   "outputs": [],
   "source": [
    "col = soup.find_all('div', class_='match-item-vs-team-score js-spoiler')\n",
    "df3 = pd.DataFrame()\n",
    "e = pd.DataFrame(columns=[\"Score Team 1\"])\n",
    "f = pd.DataFrame(columns=[\"Score Team 2\"])\n",
    "    \n",
    "for i, cols in enumerate(col):\n",
    "    texts = cols.find_all(string=True, recursive=False)\n",
    "    team = texts[0].strip()\n",
    "    \n",
    "    # Ajouter l'élément à 'c'\n",
    "    if i % 2 == 0:\n",
    "        e = e._append({'Score Team 1': team}, ignore_index=True)\n",
    "\n",
    "for i, cols in enumerate(col):\n",
    "    texts = cols.find_all(string=True, recursive=False)\n",
    "    team = texts[0].strip()\n",
    "    \n",
    "    # Ajouter l'élément à 'c_impairs'\n",
    "    if i % 2 != 0:\n",
    "        f = f._append({'Score Team 2': team}, ignore_index=True)\n",
    "\n",
    "df3 = e.join(f, how='inner')\n",
    "df1 = df1.join(df3, how='inner')"
   ],
   "metadata": {
    "collapsed": false,
    "ExecuteTime": {
     "end_time": "2023-10-24T19:54:01.645576700Z",
     "start_time": "2023-10-24T19:54:01.562963300Z"
    }
   },
   "id": "fe4cda99ab52448e"
  },
  {
   "cell_type": "code",
   "execution_count": 6,
   "outputs": [
    {
     "data": {
      "text/plain": "                                        Phase  \\\n0                   Project V 2023: THE POKAL   \n1                          Crossfire Cup 2023   \n2                       Superdome 2023: Egypt   \n3     China Evolution Series Act 2: Selection   \n4     China Evolution Series Act 2: Selection   \n5   Sentinels Off-Season $5k Bounty Showmatch   \n6                          Crossfire Cup 2023   \n7                       Superdome 2023: Egypt   \n8                          Crossfire Cup 2023   \n9                       Superdome 2023: Egypt   \n10    China Evolution Series Act 2: Selection   \n11    China Evolution Series Act 2: Selection   \n12     Knights Monthly Gauntlet 2023: October   \n13     Knights Monthly Gauntlet 2023: October   \n14     Knights Monthly Gauntlet 2023: October   \n15            Multiplatform Esports Game 2023   \n16     VALORANT Challengers 2023 DACH: Arcade   \n17     VALORANT Challengers 2023 DACH: Arcade   \n18    China Evolution Series Act 2: Selection   \n19    China Evolution Series Act 2: Selection   \n20                 Predator League Japan 2024   \n21                  Liquid Open 2023: Oceania   \n22                 Predator League Japan 2024   \n23                  Liquid Open 2023: Oceania   \n24     Knights Monthly Gauntlet 2023: October   \n25     Knights Monthly Gauntlet 2023: October   \n26                            ACE Double Down   \n27     Knights Monthly Gauntlet 2023: October   \n28            Multiplatform Esports Game 2023   \n29     Knights Monthly Gauntlet 2023: October   \n30     Knights Monthly Gauntlet 2023: October   \n31     Knights Monthly Gauntlet 2023: October   \n32            Multiplatform Esports Game 2023   \n33              Saudi eLeagues 2023: Season 2   \n34    China Evolution Series Act 2: Selection   \n35    China Evolution Series Act 2: Selection   \n36                 Predator League Japan 2024   \n37               Predator League Vietnam 2024   \n38                 Predator League Japan 2024   \n39                  Liquid Open 2023: Oceania   \n40                  Liquid Open 2023: Oceania   \n41                            ACE Double Down   \n42     Knights Monthly Gauntlet 2023: October   \n43     Knights Monthly Gauntlet 2023: October   \n44                            ACE Double Down   \n45     Knights Monthly Gauntlet 2023: October   \n46     Knights Monthly Gauntlet 2023: October   \n47     Knights Monthly Gauntlet 2023: October   \n48     Knights Monthly Gauntlet 2023: October   \n49            Multiplatform Esports Game 2023   \n\n                                         Compétition                Team 1  \\\n0                               Playoffs–Round of 16       ALTERNATE aTTaX   \n1               Contenders #2 Playoffs–Quarterfinals           Team Galaga   \n2   Levant and North Africa Online Qualifier–Round 1        Geekay Esports   \n3                            Group Stage–Decider (B)       FunPlus Phoenix   \n4                            Group Stage–Decider (A)       Bilibili Gaming   \n5                                Showmatch–Showmatch             Sentinels   \n6               Contenders #2 Playoffs–Quarterfinals       Movistar Riders   \n7              GCC And Iraq Online Qualifier–Round 1   Triple Esports Club   \n8               Contenders #2 Playoffs–Quarterfinals          Team Aku Aku   \n9              GCC And Iraq Online Qualifier–Round 1         The Ultimates   \n10                       Group Stage–Elimination (B)                 TYLOO   \n11                       Group Stage–Elimination (A)   Royal Never Give Up   \n12                              Playoffs–Grand Final           Argon Black   \n13                               Playoffs–Semifinals         Square Nation   \n14                               Playoffs–Semifinals              Version1   \n15                              Playoffs–Lower Final                  MIBR   \n16                                Group Stage–Week 6    Reveal Multigaming   \n17                                Group Stage–Week 6                 AEX-1   \n18                          Group Stage–Winner's (B)             Rare Atom   \n19                          Group Stage–Winner's (A)       Bilibili Gaming   \n20                            Main Event–Grand Final      CREST GAMING Zst   \n21                              Playoffs–Grand Final                 Hanma   \n22                      Main Event–Consolation Final        Sengoku Gaming   \n23                              Playoffs–Lower Final      The Great Escape   \n24                            Playoffs–Quarterfinals                 Torch   \n25                            Playoffs–Quarterfinals           Let Us Cook   \n26                               Swiss Stage–Round 2             Six Karma   \n27                              Playoffs–Round of 16   Zero MarksMen Black   \n28                            Playoffs–Lower Round 5            RED Canids   \n29                              Playoffs–Round of 16              Ambrosia   \n30                              Playoffs–Round of 32            Torch Plus   \n31                              Playoffs–Round of 32          Army of Five   \n32                              Playoffs–Upper Final                   XIT   \n33                              Playoffs–Grand Final         The Ultimates   \n34                           Group Stage–Opening (B)       FunPlus Phoenix   \n35                           Group Stage–Opening (B)                 TYLOO   \n36                             Main Event–Semifinals                REJECT   \n37                              Playoffs–Grand Final  Fancy United Esports   \n38                             Main Event–Semifinals        Sengoku Gaming   \n39                            Playoffs–Lower Round 3                    DG   \n40                              Playoffs–Upper Final      The Great Escape   \n41                               Swiss Stage–Round 1             FiRePOWER   \n42                           Group Stage–Decider (J)          Sway eSports   \n43                           Group Stage–Decider (C)      Cataclysm Gaming   \n44                               Swiss Stage–Round 1             19esports   \n45                          Group Stage–Winner's (A)          Turtle Troop   \n46                          Group Stage–Winner's (P)                Team 7   \n47                           Group Stage–Opening (C)         1MillisecondX   \n48                           Group Stage–Opening (L)     Take Back Control   \n49                            Playoffs–Lower Round 4                  MIXX   \n\n                    Team 2 Score Team 1 Score Team 2              Date  \n0     GEEKZ ENERGY eSPORTS            1            2  24/10/2023 17h00  \n1             Ramboot Club            2            0  24/10/2023 16h00  \n2               Team RA'AD            2            0  24/10/2023 16h00  \n3                Rare Atom            2            0  24/10/2023 13h15  \n4            Trace Esports            0            2  24/10/2023 10h00  \n5          Moist x Shopify            1            2  24/10/2023 02h30  \n6                    DSYRE            2            0  23/10/2023 20h30  \n7    Twisted Minds Esports            2            0  23/10/2023 20h30  \n8             UCAM Tokiers            2            1  23/10/2023 17h30  \n9             Team Falcons            0            2  23/10/2023 17h30  \n10         FunPlus Phoenix            0            2  23/10/2023 12h30  \n11           Trace Esports            2            0  23/10/2023 11h30  \n12            Turtle Troop            1            2  23/10/2023 01h30  \n13             Argon Black            2            1  22/10/2023 22h30  \n14            Turtle Troop            2            0  22/10/2023 22h30  \n15                     XIT            2            0  22/10/2023 20h30  \n16             CGN Esports            2            0  22/10/2023 19h30  \n17         ALTERNATE aTTaX            2            0  22/10/2023 17h30  \n18  Attacking Soul Esports            0            2  22/10/2023 13h30  \n19           EDward Gaming            0            2  22/10/2023 11h30  \n20              FAV gaming            3            2  22/10/2023 08h30  \n21               Project X            2            1  22/10/2023 07h30  \n22                  REJECT            0            2  22/10/2023 06h30  \n23                   Hanma            1            2  22/10/2023 04h30  \n24             Argon Black            1            2  22/10/2023 03h30  \n25            Turtle Troop            2            1  22/10/2023 03h30  \n26           E-Xolos LAZER            2            0  22/10/2023 01h30  \n27                Version1            0            2  22/10/2023 00h30  \n28                    MIBR            2            0  22/10/2023 00h30  \n29             Argon Black            1            2  21/10/2023 23h30  \n30            Turtle Troop            0            2  21/10/2023 22h30  \n31         goth boy clique            2            0  21/10/2023 22h30  \n32                   FURIA            2            1  21/10/2023 20h30  \n33            Team Falcons            1            3  21/10/2023 19h30  \n34  Attacking Soul Esports            2            0  21/10/2023 14h30  \n35               Rare Atom            1            2  21/10/2023 11h30  \n36        CREST GAMING Zst            2            1  21/10/2023 09h30  \n37            Tài Năng Trẻ            3            1  21/10/2023 08h30  \n38              FAV gaming            0            2  21/10/2023 07h30  \n39                   Hanma            0            2  21/10/2023 06h30  \n40               Project X            1            2  21/10/2023 04h30  \n41           E-Xolos LAZER            2            0  21/10/2023 03h30  \n42             Team Mystic            0            2  21/10/2023 02h30  \n43                Valkyrie            2            0  21/10/2023 01h30  \n44           Skull Cracker            2            0  21/10/2023 01h30  \n45           special grade            1            2  21/10/2023 00h30  \n46                   Torch            2            0  20/10/2023 23h30  \n47                     QoR            2            0  20/10/2023 22h30  \n48        Supernova Galaxy            2            0  20/10/2023 22h30  \n49                    MIBR            0            2  20/10/2023 20h30  ",
      "text/html": "<div>\n<style scoped>\n    .dataframe tbody tr th:only-of-type {\n        vertical-align: middle;\n    }\n\n    .dataframe tbody tr th {\n        vertical-align: top;\n    }\n\n    .dataframe thead th {\n        text-align: right;\n    }\n</style>\n<table border=\"1\" class=\"dataframe\">\n  <thead>\n    <tr style=\"text-align: right;\">\n      <th></th>\n      <th>Phase</th>\n      <th>Compétition</th>\n      <th>Team 1</th>\n      <th>Team 2</th>\n      <th>Score Team 1</th>\n      <th>Score Team 2</th>\n      <th>Date</th>\n    </tr>\n  </thead>\n  <tbody>\n    <tr>\n      <th>0</th>\n      <td>Project V 2023: THE POKAL</td>\n      <td>Playoffs–Round of 16</td>\n      <td>ALTERNATE aTTaX</td>\n      <td>GEEKZ ENERGY eSPORTS</td>\n      <td>1</td>\n      <td>2</td>\n      <td>24/10/2023 17h00</td>\n    </tr>\n    <tr>\n      <th>1</th>\n      <td>Crossfire Cup 2023</td>\n      <td>Contenders #2 Playoffs–Quarterfinals</td>\n      <td>Team Galaga</td>\n      <td>Ramboot Club</td>\n      <td>2</td>\n      <td>0</td>\n      <td>24/10/2023 16h00</td>\n    </tr>\n    <tr>\n      <th>2</th>\n      <td>Superdome 2023: Egypt</td>\n      <td>Levant and North Africa Online Qualifier–Round 1</td>\n      <td>Geekay Esports</td>\n      <td>Team RA'AD</td>\n      <td>2</td>\n      <td>0</td>\n      <td>24/10/2023 16h00</td>\n    </tr>\n    <tr>\n      <th>3</th>\n      <td>China Evolution Series Act 2: Selection</td>\n      <td>Group Stage–Decider (B)</td>\n      <td>FunPlus Phoenix</td>\n      <td>Rare Atom</td>\n      <td>2</td>\n      <td>0</td>\n      <td>24/10/2023 13h15</td>\n    </tr>\n    <tr>\n      <th>4</th>\n      <td>China Evolution Series Act 2: Selection</td>\n      <td>Group Stage–Decider (A)</td>\n      <td>Bilibili Gaming</td>\n      <td>Trace Esports</td>\n      <td>0</td>\n      <td>2</td>\n      <td>24/10/2023 10h00</td>\n    </tr>\n    <tr>\n      <th>5</th>\n      <td>Sentinels Off-Season $5k Bounty Showmatch</td>\n      <td>Showmatch–Showmatch</td>\n      <td>Sentinels</td>\n      <td>Moist x Shopify</td>\n      <td>1</td>\n      <td>2</td>\n      <td>24/10/2023 02h30</td>\n    </tr>\n    <tr>\n      <th>6</th>\n      <td>Crossfire Cup 2023</td>\n      <td>Contenders #2 Playoffs–Quarterfinals</td>\n      <td>Movistar Riders</td>\n      <td>DSYRE</td>\n      <td>2</td>\n      <td>0</td>\n      <td>23/10/2023 20h30</td>\n    </tr>\n    <tr>\n      <th>7</th>\n      <td>Superdome 2023: Egypt</td>\n      <td>GCC And Iraq Online Qualifier–Round 1</td>\n      <td>Triple Esports Club</td>\n      <td>Twisted Minds Esports</td>\n      <td>2</td>\n      <td>0</td>\n      <td>23/10/2023 20h30</td>\n    </tr>\n    <tr>\n      <th>8</th>\n      <td>Crossfire Cup 2023</td>\n      <td>Contenders #2 Playoffs–Quarterfinals</td>\n      <td>Team Aku Aku</td>\n      <td>UCAM Tokiers</td>\n      <td>2</td>\n      <td>1</td>\n      <td>23/10/2023 17h30</td>\n    </tr>\n    <tr>\n      <th>9</th>\n      <td>Superdome 2023: Egypt</td>\n      <td>GCC And Iraq Online Qualifier–Round 1</td>\n      <td>The Ultimates</td>\n      <td>Team Falcons</td>\n      <td>0</td>\n      <td>2</td>\n      <td>23/10/2023 17h30</td>\n    </tr>\n    <tr>\n      <th>10</th>\n      <td>China Evolution Series Act 2: Selection</td>\n      <td>Group Stage–Elimination (B)</td>\n      <td>TYLOO</td>\n      <td>FunPlus Phoenix</td>\n      <td>0</td>\n      <td>2</td>\n      <td>23/10/2023 12h30</td>\n    </tr>\n    <tr>\n      <th>11</th>\n      <td>China Evolution Series Act 2: Selection</td>\n      <td>Group Stage–Elimination (A)</td>\n      <td>Royal Never Give Up</td>\n      <td>Trace Esports</td>\n      <td>2</td>\n      <td>0</td>\n      <td>23/10/2023 11h30</td>\n    </tr>\n    <tr>\n      <th>12</th>\n      <td>Knights Monthly Gauntlet 2023: October</td>\n      <td>Playoffs–Grand Final</td>\n      <td>Argon Black</td>\n      <td>Turtle Troop</td>\n      <td>1</td>\n      <td>2</td>\n      <td>23/10/2023 01h30</td>\n    </tr>\n    <tr>\n      <th>13</th>\n      <td>Knights Monthly Gauntlet 2023: October</td>\n      <td>Playoffs–Semifinals</td>\n      <td>Square Nation</td>\n      <td>Argon Black</td>\n      <td>2</td>\n      <td>1</td>\n      <td>22/10/2023 22h30</td>\n    </tr>\n    <tr>\n      <th>14</th>\n      <td>Knights Monthly Gauntlet 2023: October</td>\n      <td>Playoffs–Semifinals</td>\n      <td>Version1</td>\n      <td>Turtle Troop</td>\n      <td>2</td>\n      <td>0</td>\n      <td>22/10/2023 22h30</td>\n    </tr>\n    <tr>\n      <th>15</th>\n      <td>Multiplatform Esports Game 2023</td>\n      <td>Playoffs–Lower Final</td>\n      <td>MIBR</td>\n      <td>XIT</td>\n      <td>2</td>\n      <td>0</td>\n      <td>22/10/2023 20h30</td>\n    </tr>\n    <tr>\n      <th>16</th>\n      <td>VALORANT Challengers 2023 DACH: Arcade</td>\n      <td>Group Stage–Week 6</td>\n      <td>Reveal Multigaming</td>\n      <td>CGN Esports</td>\n      <td>2</td>\n      <td>0</td>\n      <td>22/10/2023 19h30</td>\n    </tr>\n    <tr>\n      <th>17</th>\n      <td>VALORANT Challengers 2023 DACH: Arcade</td>\n      <td>Group Stage–Week 6</td>\n      <td>AEX-1</td>\n      <td>ALTERNATE aTTaX</td>\n      <td>2</td>\n      <td>0</td>\n      <td>22/10/2023 17h30</td>\n    </tr>\n    <tr>\n      <th>18</th>\n      <td>China Evolution Series Act 2: Selection</td>\n      <td>Group Stage–Winner's (B)</td>\n      <td>Rare Atom</td>\n      <td>Attacking Soul Esports</td>\n      <td>0</td>\n      <td>2</td>\n      <td>22/10/2023 13h30</td>\n    </tr>\n    <tr>\n      <th>19</th>\n      <td>China Evolution Series Act 2: Selection</td>\n      <td>Group Stage–Winner's (A)</td>\n      <td>Bilibili Gaming</td>\n      <td>EDward Gaming</td>\n      <td>0</td>\n      <td>2</td>\n      <td>22/10/2023 11h30</td>\n    </tr>\n    <tr>\n      <th>20</th>\n      <td>Predator League Japan 2024</td>\n      <td>Main Event–Grand Final</td>\n      <td>CREST GAMING Zst</td>\n      <td>FAV gaming</td>\n      <td>3</td>\n      <td>2</td>\n      <td>22/10/2023 08h30</td>\n    </tr>\n    <tr>\n      <th>21</th>\n      <td>Liquid Open 2023: Oceania</td>\n      <td>Playoffs–Grand Final</td>\n      <td>Hanma</td>\n      <td>Project X</td>\n      <td>2</td>\n      <td>1</td>\n      <td>22/10/2023 07h30</td>\n    </tr>\n    <tr>\n      <th>22</th>\n      <td>Predator League Japan 2024</td>\n      <td>Main Event–Consolation Final</td>\n      <td>Sengoku Gaming</td>\n      <td>REJECT</td>\n      <td>0</td>\n      <td>2</td>\n      <td>22/10/2023 06h30</td>\n    </tr>\n    <tr>\n      <th>23</th>\n      <td>Liquid Open 2023: Oceania</td>\n      <td>Playoffs–Lower Final</td>\n      <td>The Great Escape</td>\n      <td>Hanma</td>\n      <td>1</td>\n      <td>2</td>\n      <td>22/10/2023 04h30</td>\n    </tr>\n    <tr>\n      <th>24</th>\n      <td>Knights Monthly Gauntlet 2023: October</td>\n      <td>Playoffs–Quarterfinals</td>\n      <td>Torch</td>\n      <td>Argon Black</td>\n      <td>1</td>\n      <td>2</td>\n      <td>22/10/2023 03h30</td>\n    </tr>\n    <tr>\n      <th>25</th>\n      <td>Knights Monthly Gauntlet 2023: October</td>\n      <td>Playoffs–Quarterfinals</td>\n      <td>Let Us Cook</td>\n      <td>Turtle Troop</td>\n      <td>2</td>\n      <td>1</td>\n      <td>22/10/2023 03h30</td>\n    </tr>\n    <tr>\n      <th>26</th>\n      <td>ACE Double Down</td>\n      <td>Swiss Stage–Round 2</td>\n      <td>Six Karma</td>\n      <td>E-Xolos LAZER</td>\n      <td>2</td>\n      <td>0</td>\n      <td>22/10/2023 01h30</td>\n    </tr>\n    <tr>\n      <th>27</th>\n      <td>Knights Monthly Gauntlet 2023: October</td>\n      <td>Playoffs–Round of 16</td>\n      <td>Zero MarksMen Black</td>\n      <td>Version1</td>\n      <td>0</td>\n      <td>2</td>\n      <td>22/10/2023 00h30</td>\n    </tr>\n    <tr>\n      <th>28</th>\n      <td>Multiplatform Esports Game 2023</td>\n      <td>Playoffs–Lower Round 5</td>\n      <td>RED Canids</td>\n      <td>MIBR</td>\n      <td>2</td>\n      <td>0</td>\n      <td>22/10/2023 00h30</td>\n    </tr>\n    <tr>\n      <th>29</th>\n      <td>Knights Monthly Gauntlet 2023: October</td>\n      <td>Playoffs–Round of 16</td>\n      <td>Ambrosia</td>\n      <td>Argon Black</td>\n      <td>1</td>\n      <td>2</td>\n      <td>21/10/2023 23h30</td>\n    </tr>\n    <tr>\n      <th>30</th>\n      <td>Knights Monthly Gauntlet 2023: October</td>\n      <td>Playoffs–Round of 32</td>\n      <td>Torch Plus</td>\n      <td>Turtle Troop</td>\n      <td>0</td>\n      <td>2</td>\n      <td>21/10/2023 22h30</td>\n    </tr>\n    <tr>\n      <th>31</th>\n      <td>Knights Monthly Gauntlet 2023: October</td>\n      <td>Playoffs–Round of 32</td>\n      <td>Army of Five</td>\n      <td>goth boy clique</td>\n      <td>2</td>\n      <td>0</td>\n      <td>21/10/2023 22h30</td>\n    </tr>\n    <tr>\n      <th>32</th>\n      <td>Multiplatform Esports Game 2023</td>\n      <td>Playoffs–Upper Final</td>\n      <td>XIT</td>\n      <td>FURIA</td>\n      <td>2</td>\n      <td>1</td>\n      <td>21/10/2023 20h30</td>\n    </tr>\n    <tr>\n      <th>33</th>\n      <td>Saudi eLeagues 2023: Season 2</td>\n      <td>Playoffs–Grand Final</td>\n      <td>The Ultimates</td>\n      <td>Team Falcons</td>\n      <td>1</td>\n      <td>3</td>\n      <td>21/10/2023 19h30</td>\n    </tr>\n    <tr>\n      <th>34</th>\n      <td>China Evolution Series Act 2: Selection</td>\n      <td>Group Stage–Opening (B)</td>\n      <td>FunPlus Phoenix</td>\n      <td>Attacking Soul Esports</td>\n      <td>2</td>\n      <td>0</td>\n      <td>21/10/2023 14h30</td>\n    </tr>\n    <tr>\n      <th>35</th>\n      <td>China Evolution Series Act 2: Selection</td>\n      <td>Group Stage–Opening (B)</td>\n      <td>TYLOO</td>\n      <td>Rare Atom</td>\n      <td>1</td>\n      <td>2</td>\n      <td>21/10/2023 11h30</td>\n    </tr>\n    <tr>\n      <th>36</th>\n      <td>Predator League Japan 2024</td>\n      <td>Main Event–Semifinals</td>\n      <td>REJECT</td>\n      <td>CREST GAMING Zst</td>\n      <td>2</td>\n      <td>1</td>\n      <td>21/10/2023 09h30</td>\n    </tr>\n    <tr>\n      <th>37</th>\n      <td>Predator League Vietnam 2024</td>\n      <td>Playoffs–Grand Final</td>\n      <td>Fancy United Esports</td>\n      <td>Tài Năng Trẻ</td>\n      <td>3</td>\n      <td>1</td>\n      <td>21/10/2023 08h30</td>\n    </tr>\n    <tr>\n      <th>38</th>\n      <td>Predator League Japan 2024</td>\n      <td>Main Event–Semifinals</td>\n      <td>Sengoku Gaming</td>\n      <td>FAV gaming</td>\n      <td>0</td>\n      <td>2</td>\n      <td>21/10/2023 07h30</td>\n    </tr>\n    <tr>\n      <th>39</th>\n      <td>Liquid Open 2023: Oceania</td>\n      <td>Playoffs–Lower Round 3</td>\n      <td>DG</td>\n      <td>Hanma</td>\n      <td>0</td>\n      <td>2</td>\n      <td>21/10/2023 06h30</td>\n    </tr>\n    <tr>\n      <th>40</th>\n      <td>Liquid Open 2023: Oceania</td>\n      <td>Playoffs–Upper Final</td>\n      <td>The Great Escape</td>\n      <td>Project X</td>\n      <td>1</td>\n      <td>2</td>\n      <td>21/10/2023 04h30</td>\n    </tr>\n    <tr>\n      <th>41</th>\n      <td>ACE Double Down</td>\n      <td>Swiss Stage–Round 1</td>\n      <td>FiRePOWER</td>\n      <td>E-Xolos LAZER</td>\n      <td>2</td>\n      <td>0</td>\n      <td>21/10/2023 03h30</td>\n    </tr>\n    <tr>\n      <th>42</th>\n      <td>Knights Monthly Gauntlet 2023: October</td>\n      <td>Group Stage–Decider (J)</td>\n      <td>Sway eSports</td>\n      <td>Team Mystic</td>\n      <td>0</td>\n      <td>2</td>\n      <td>21/10/2023 02h30</td>\n    </tr>\n    <tr>\n      <th>43</th>\n      <td>Knights Monthly Gauntlet 2023: October</td>\n      <td>Group Stage–Decider (C)</td>\n      <td>Cataclysm Gaming</td>\n      <td>Valkyrie</td>\n      <td>2</td>\n      <td>0</td>\n      <td>21/10/2023 01h30</td>\n    </tr>\n    <tr>\n      <th>44</th>\n      <td>ACE Double Down</td>\n      <td>Swiss Stage–Round 1</td>\n      <td>19esports</td>\n      <td>Skull Cracker</td>\n      <td>2</td>\n      <td>0</td>\n      <td>21/10/2023 01h30</td>\n    </tr>\n    <tr>\n      <th>45</th>\n      <td>Knights Monthly Gauntlet 2023: October</td>\n      <td>Group Stage–Winner's (A)</td>\n      <td>Turtle Troop</td>\n      <td>special grade</td>\n      <td>1</td>\n      <td>2</td>\n      <td>21/10/2023 00h30</td>\n    </tr>\n    <tr>\n      <th>46</th>\n      <td>Knights Monthly Gauntlet 2023: October</td>\n      <td>Group Stage–Winner's (P)</td>\n      <td>Team 7</td>\n      <td>Torch</td>\n      <td>2</td>\n      <td>0</td>\n      <td>20/10/2023 23h30</td>\n    </tr>\n    <tr>\n      <th>47</th>\n      <td>Knights Monthly Gauntlet 2023: October</td>\n      <td>Group Stage–Opening (C)</td>\n      <td>1MillisecondX</td>\n      <td>QoR</td>\n      <td>2</td>\n      <td>0</td>\n      <td>20/10/2023 22h30</td>\n    </tr>\n    <tr>\n      <th>48</th>\n      <td>Knights Monthly Gauntlet 2023: October</td>\n      <td>Group Stage–Opening (L)</td>\n      <td>Take Back Control</td>\n      <td>Supernova Galaxy</td>\n      <td>2</td>\n      <td>0</td>\n      <td>20/10/2023 22h30</td>\n    </tr>\n    <tr>\n      <th>49</th>\n      <td>Multiplatform Esports Game 2023</td>\n      <td>Playoffs–Lower Round 4</td>\n      <td>MIXX</td>\n      <td>MIBR</td>\n      <td>0</td>\n      <td>2</td>\n      <td>20/10/2023 20h30</td>\n    </tr>\n  </tbody>\n</table>\n</div>"
     },
     "execution_count": 6,
     "metadata": {},
     "output_type": "execute_result"
    }
   ],
   "source": [
    "g = pd.DataFrame(columns=[\"Date\"])\n",
    "\n",
    "col = soup.find_all('div', class_='ml-eta mod-completed')\n",
    "for cols in col:\n",
    "    texts = cols.find_all(string=True, recursive=False)\n",
    "    text1 = texts[0].strip()\n",
    "    if 'd' in text1:\n",
    "        jour, heures = map(int, text1.replace('d','').replace('h', '').replace('m', '').split())\n",
    "        duree = timedelta(days=jour, hours=heures, minutes=minutes)\n",
    "        time = datetime.today() - duree\n",
    "        timeM = time.minute\n",
    "        timeMsup = (timeM + 1) % 60\n",
    "        diff = timedelta(minutes=timeMsup - timeM)\n",
    "        time = time + diff\n",
    "        g = g._append({'Date':time.strftime(\"%d/%m/%Y %Hh%M\")}, ignore_index=True)\n",
    "    else:\n",
    "        heures, minutes = map(int, text1.replace('d','').replace('h', '').replace('m', '').split())\n",
    "        duree = timedelta(hours=heures, minutes=minutes)\n",
    "        time = datetime.today() - duree\n",
    "        timeM = time.minute\n",
    "        timeMsup = (timeM + 1) % 60\n",
    "        diff = timedelta(minutes=timeMsup - timeM)\n",
    "        time = time + diff\n",
    "        g = g._append({'Date':time.strftime(\"%d/%m/%Y %Hh%M\")}, ignore_index=True)\n",
    "\n",
    "df1 = df1.join(g, how='inner')\n",
    "df1"
   ],
   "metadata": {
    "collapsed": false,
    "ExecuteTime": {
     "end_time": "2023-10-24T19:54:01.737099400Z",
     "start_time": "2023-10-24T19:54:01.651560700Z"
    }
   },
   "id": "fca2e2444489720a"
  }
 ],
 "metadata": {
  "kernelspec": {
   "display_name": "Python 3",
   "language": "python",
   "name": "python3"
  },
  "language_info": {
   "codemirror_mode": {
    "name": "ipython",
    "version": 2
   },
   "file_extension": ".py",
   "mimetype": "text/x-python",
   "name": "python",
   "nbconvert_exporter": "python",
   "pygments_lexer": "ipython2",
   "version": "2.7.6"
  }
 },
 "nbformat": 4,
 "nbformat_minor": 5
}
