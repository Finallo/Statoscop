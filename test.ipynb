{
 "cells": [
  {
   "cell_type": "code",
   "execution_count": 1,
   "id": "initial_id",
   "metadata": {
    "collapsed": true,
    "ExecuteTime": {
     "end_time": "2023-10-23T19:26:13.946758Z",
     "start_time": "2023-10-23T19:26:13.337522700Z"
    }
   },
   "outputs": [],
   "source": [
    "import requests\n",
    "from bs4 import BeautifulSoup\n",
    "import pandas as pd\n",
    "import numpy as np"
   ]
  },
  {
   "cell_type": "markdown",
   "source": [
    "### Etape 1:\n",
    "1/ Importation des données.\n",
    "2/ \"URL\", \"RESPONSE\", \"HTML\" permettent de récupérer le texte du site.\n",
    "3/ \"SOUP\" permet d'utiliser les données pour les scraper."
   ],
   "metadata": {
    "collapsed": false
   },
   "id": "328ad5d50449adcf"
  },
  {
   "cell_type": "code",
   "execution_count": 2,
   "outputs": [],
   "source": [
    "url = \"https://www.vlr.gg/matches/results\"\n",
    "response = requests.get(url)\n",
    "html = response.text\n",
    "soup = BeautifulSoup(html, 'html.parser')\n",
    "data = soup.find_all('div')"
   ],
   "metadata": {
    "collapsed": false,
    "ExecuteTime": {
     "end_time": "2023-10-23T19:26:14.500337700Z",
     "start_time": "2023-10-23T19:26:13.949749800Z"
    }
   },
   "id": "de4f28b82d5a66d1"
  },
  {
   "cell_type": "markdown",
   "source": [
    "### Etape 2:\n",
    "1/ Création du dataframe \"df1\" recueillant toutes les données.\n",
    "1.1/ \"a\" est le dataframe pour la phase de la compétition.\n",
    "1.2/ \"b\" est le dataframe pour la compétition.\n",
    "2/ Les deux dataframes \"a\" et \"b\" sont fusionnés dans le df1."
   ],
   "metadata": {
    "collapsed": false
   },
   "id": "be5d5a4063ddc8fd"
  },
  {
   "cell_type": "code",
   "execution_count": 3,
   "outputs": [
    {
     "data": {
      "text/plain": "                                                Phase  \\\n0                                  Crossfire Cup 2023   \n1                               Superdome 2023: Egypt   \n2             China Evolution Series Act 2: Selection   \n3             China Evolution Series Act 2: Selection   \n4              Knights Monthly Gauntlet 2023: October   \n5              Knights Monthly Gauntlet 2023: October   \n6              Knights Monthly Gauntlet 2023: October   \n7                     Multiplatform Esports Game 2023   \n8              VALORANT Challengers 2023 DACH: Arcade   \n9              VALORANT Challengers 2023 DACH: Arcade   \n10            China Evolution Series Act 2: Selection   \n11            China Evolution Series Act 2: Selection   \n12                         Predator League Japan 2024   \n13                          Liquid Open 2023: Oceania   \n14                         Predator League Japan 2024   \n15                          Liquid Open 2023: Oceania   \n16             Knights Monthly Gauntlet 2023: October   \n17             Knights Monthly Gauntlet 2023: October   \n18                                    ACE Double Down   \n19             Knights Monthly Gauntlet 2023: October   \n20                    Multiplatform Esports Game 2023   \n21             Knights Monthly Gauntlet 2023: October   \n22             Knights Monthly Gauntlet 2023: October   \n23             Knights Monthly Gauntlet 2023: October   \n24                    Multiplatform Esports Game 2023   \n25                      Saudi eLeagues 2023: Season 2   \n26            China Evolution Series Act 2: Selection   \n27            China Evolution Series Act 2: Selection   \n28                         Predator League Japan 2024   \n29                       Predator League Vietnam 2024   \n30                         Predator League Japan 2024   \n31                          Liquid Open 2023: Oceania   \n32                          Liquid Open 2023: Oceania   \n33                                    ACE Double Down   \n34             Knights Monthly Gauntlet 2023: October   \n35             Knights Monthly Gauntlet 2023: October   \n36                                    ACE Double Down   \n37             Knights Monthly Gauntlet 2023: October   \n38             Knights Monthly Gauntlet 2023: October   \n39             Knights Monthly Gauntlet 2023: October   \n40             Knights Monthly Gauntlet 2023: October   \n41                    Multiplatform Esports Game 2023   \n42                      Saudi eLeagues 2023: Season 2   \n43            China Evolution Series Act 2: Selection   \n44            China Evolution Series Act 2: Selection   \n45                                    ACE Double Down   \n46                                    ACE Double Down   \n47                                 Crossfire Cup 2023   \n48                                 Crossfire Cup 2023   \n49  VALORANT East: United: Season 2: Stage 3 - League   \n\n                              Compétition  \n0    Contenders #2 Playoffs–Quarterfinals  \n1   GCC And Iraq Online Qualifier–Round 1  \n2             Group Stage–Elimination (B)  \n3             Group Stage–Elimination (A)  \n4                    Playoffs–Grand Final  \n5                     Playoffs–Semifinals  \n6                     Playoffs–Semifinals  \n7                    Playoffs–Lower Final  \n8                      Group Stage–Week 6  \n9                      Group Stage–Week 6  \n10               Group Stage–Winner's (B)  \n11               Group Stage–Winner's (A)  \n12                 Main Event–Grand Final  \n13                   Playoffs–Grand Final  \n14           Main Event–Consolation Final  \n15                   Playoffs–Lower Final  \n16                 Playoffs–Quarterfinals  \n17                 Playoffs–Quarterfinals  \n18                    Swiss Stage–Round 2  \n19                   Playoffs–Round of 16  \n20                 Playoffs–Lower Round 5  \n21                   Playoffs–Round of 16  \n22                   Playoffs–Round of 32  \n23                   Playoffs–Round of 32  \n24                   Playoffs–Upper Final  \n25                   Playoffs–Grand Final  \n26                Group Stage–Opening (B)  \n27                Group Stage–Opening (B)  \n28                  Main Event–Semifinals  \n29                   Playoffs–Grand Final  \n30                  Main Event–Semifinals  \n31                 Playoffs–Lower Round 3  \n32                   Playoffs–Upper Final  \n33                    Swiss Stage–Round 1  \n34                Group Stage–Decider (J)  \n35                Group Stage–Decider (C)  \n36                    Swiss Stage–Round 1  \n37               Group Stage–Winner's (A)  \n38               Group Stage–Winner's (P)  \n39                Group Stage–Opening (C)  \n40                Group Stage–Opening (L)  \n41                 Playoffs–Lower Round 4  \n42                   Playoffs–Lower Final  \n43                Group Stage–Opening (A)  \n44                Group Stage–Opening (A)  \n45                    Swiss Stage–Round 1  \n46                    Swiss Stage–Round 1  \n47                  Contenders #2–Decider  \n48              Contenders #2–Elimination  \n49                     Group Stage–Week 6  ",
      "text/html": "<div>\n<style scoped>\n    .dataframe tbody tr th:only-of-type {\n        vertical-align: middle;\n    }\n\n    .dataframe tbody tr th {\n        vertical-align: top;\n    }\n\n    .dataframe thead th {\n        text-align: right;\n    }\n</style>\n<table border=\"1\" class=\"dataframe\">\n  <thead>\n    <tr style=\"text-align: right;\">\n      <th></th>\n      <th>Phase</th>\n      <th>Compétition</th>\n    </tr>\n  </thead>\n  <tbody>\n    <tr>\n      <th>0</th>\n      <td>Crossfire Cup 2023</td>\n      <td>Contenders #2 Playoffs–Quarterfinals</td>\n    </tr>\n    <tr>\n      <th>1</th>\n      <td>Superdome 2023: Egypt</td>\n      <td>GCC And Iraq Online Qualifier–Round 1</td>\n    </tr>\n    <tr>\n      <th>2</th>\n      <td>China Evolution Series Act 2: Selection</td>\n      <td>Group Stage–Elimination (B)</td>\n    </tr>\n    <tr>\n      <th>3</th>\n      <td>China Evolution Series Act 2: Selection</td>\n      <td>Group Stage–Elimination (A)</td>\n    </tr>\n    <tr>\n      <th>4</th>\n      <td>Knights Monthly Gauntlet 2023: October</td>\n      <td>Playoffs–Grand Final</td>\n    </tr>\n    <tr>\n      <th>5</th>\n      <td>Knights Monthly Gauntlet 2023: October</td>\n      <td>Playoffs–Semifinals</td>\n    </tr>\n    <tr>\n      <th>6</th>\n      <td>Knights Monthly Gauntlet 2023: October</td>\n      <td>Playoffs–Semifinals</td>\n    </tr>\n    <tr>\n      <th>7</th>\n      <td>Multiplatform Esports Game 2023</td>\n      <td>Playoffs–Lower Final</td>\n    </tr>\n    <tr>\n      <th>8</th>\n      <td>VALORANT Challengers 2023 DACH: Arcade</td>\n      <td>Group Stage–Week 6</td>\n    </tr>\n    <tr>\n      <th>9</th>\n      <td>VALORANT Challengers 2023 DACH: Arcade</td>\n      <td>Group Stage–Week 6</td>\n    </tr>\n    <tr>\n      <th>10</th>\n      <td>China Evolution Series Act 2: Selection</td>\n      <td>Group Stage–Winner's (B)</td>\n    </tr>\n    <tr>\n      <th>11</th>\n      <td>China Evolution Series Act 2: Selection</td>\n      <td>Group Stage–Winner's (A)</td>\n    </tr>\n    <tr>\n      <th>12</th>\n      <td>Predator League Japan 2024</td>\n      <td>Main Event–Grand Final</td>\n    </tr>\n    <tr>\n      <th>13</th>\n      <td>Liquid Open 2023: Oceania</td>\n      <td>Playoffs–Grand Final</td>\n    </tr>\n    <tr>\n      <th>14</th>\n      <td>Predator League Japan 2024</td>\n      <td>Main Event–Consolation Final</td>\n    </tr>\n    <tr>\n      <th>15</th>\n      <td>Liquid Open 2023: Oceania</td>\n      <td>Playoffs–Lower Final</td>\n    </tr>\n    <tr>\n      <th>16</th>\n      <td>Knights Monthly Gauntlet 2023: October</td>\n      <td>Playoffs–Quarterfinals</td>\n    </tr>\n    <tr>\n      <th>17</th>\n      <td>Knights Monthly Gauntlet 2023: October</td>\n      <td>Playoffs–Quarterfinals</td>\n    </tr>\n    <tr>\n      <th>18</th>\n      <td>ACE Double Down</td>\n      <td>Swiss Stage–Round 2</td>\n    </tr>\n    <tr>\n      <th>19</th>\n      <td>Knights Monthly Gauntlet 2023: October</td>\n      <td>Playoffs–Round of 16</td>\n    </tr>\n    <tr>\n      <th>20</th>\n      <td>Multiplatform Esports Game 2023</td>\n      <td>Playoffs–Lower Round 5</td>\n    </tr>\n    <tr>\n      <th>21</th>\n      <td>Knights Monthly Gauntlet 2023: October</td>\n      <td>Playoffs–Round of 16</td>\n    </tr>\n    <tr>\n      <th>22</th>\n      <td>Knights Monthly Gauntlet 2023: October</td>\n      <td>Playoffs–Round of 32</td>\n    </tr>\n    <tr>\n      <th>23</th>\n      <td>Knights Monthly Gauntlet 2023: October</td>\n      <td>Playoffs–Round of 32</td>\n    </tr>\n    <tr>\n      <th>24</th>\n      <td>Multiplatform Esports Game 2023</td>\n      <td>Playoffs–Upper Final</td>\n    </tr>\n    <tr>\n      <th>25</th>\n      <td>Saudi eLeagues 2023: Season 2</td>\n      <td>Playoffs–Grand Final</td>\n    </tr>\n    <tr>\n      <th>26</th>\n      <td>China Evolution Series Act 2: Selection</td>\n      <td>Group Stage–Opening (B)</td>\n    </tr>\n    <tr>\n      <th>27</th>\n      <td>China Evolution Series Act 2: Selection</td>\n      <td>Group Stage–Opening (B)</td>\n    </tr>\n    <tr>\n      <th>28</th>\n      <td>Predator League Japan 2024</td>\n      <td>Main Event–Semifinals</td>\n    </tr>\n    <tr>\n      <th>29</th>\n      <td>Predator League Vietnam 2024</td>\n      <td>Playoffs–Grand Final</td>\n    </tr>\n    <tr>\n      <th>30</th>\n      <td>Predator League Japan 2024</td>\n      <td>Main Event–Semifinals</td>\n    </tr>\n    <tr>\n      <th>31</th>\n      <td>Liquid Open 2023: Oceania</td>\n      <td>Playoffs–Lower Round 3</td>\n    </tr>\n    <tr>\n      <th>32</th>\n      <td>Liquid Open 2023: Oceania</td>\n      <td>Playoffs–Upper Final</td>\n    </tr>\n    <tr>\n      <th>33</th>\n      <td>ACE Double Down</td>\n      <td>Swiss Stage–Round 1</td>\n    </tr>\n    <tr>\n      <th>34</th>\n      <td>Knights Monthly Gauntlet 2023: October</td>\n      <td>Group Stage–Decider (J)</td>\n    </tr>\n    <tr>\n      <th>35</th>\n      <td>Knights Monthly Gauntlet 2023: October</td>\n      <td>Group Stage–Decider (C)</td>\n    </tr>\n    <tr>\n      <th>36</th>\n      <td>ACE Double Down</td>\n      <td>Swiss Stage–Round 1</td>\n    </tr>\n    <tr>\n      <th>37</th>\n      <td>Knights Monthly Gauntlet 2023: October</td>\n      <td>Group Stage–Winner's (A)</td>\n    </tr>\n    <tr>\n      <th>38</th>\n      <td>Knights Monthly Gauntlet 2023: October</td>\n      <td>Group Stage–Winner's (P)</td>\n    </tr>\n    <tr>\n      <th>39</th>\n      <td>Knights Monthly Gauntlet 2023: October</td>\n      <td>Group Stage–Opening (C)</td>\n    </tr>\n    <tr>\n      <th>40</th>\n      <td>Knights Monthly Gauntlet 2023: October</td>\n      <td>Group Stage–Opening (L)</td>\n    </tr>\n    <tr>\n      <th>41</th>\n      <td>Multiplatform Esports Game 2023</td>\n      <td>Playoffs–Lower Round 4</td>\n    </tr>\n    <tr>\n      <th>42</th>\n      <td>Saudi eLeagues 2023: Season 2</td>\n      <td>Playoffs–Lower Final</td>\n    </tr>\n    <tr>\n      <th>43</th>\n      <td>China Evolution Series Act 2: Selection</td>\n      <td>Group Stage–Opening (A)</td>\n    </tr>\n    <tr>\n      <th>44</th>\n      <td>China Evolution Series Act 2: Selection</td>\n      <td>Group Stage–Opening (A)</td>\n    </tr>\n    <tr>\n      <th>45</th>\n      <td>ACE Double Down</td>\n      <td>Swiss Stage–Round 1</td>\n    </tr>\n    <tr>\n      <th>46</th>\n      <td>ACE Double Down</td>\n      <td>Swiss Stage–Round 1</td>\n    </tr>\n    <tr>\n      <th>47</th>\n      <td>Crossfire Cup 2023</td>\n      <td>Contenders #2–Decider</td>\n    </tr>\n    <tr>\n      <th>48</th>\n      <td>Crossfire Cup 2023</td>\n      <td>Contenders #2–Elimination</td>\n    </tr>\n    <tr>\n      <th>49</th>\n      <td>VALORANT East: United: Season 2: Stage 3 - League</td>\n      <td>Group Stage–Week 6</td>\n    </tr>\n  </tbody>\n</table>\n</div>"
     },
     "execution_count": 3,
     "metadata": {},
     "output_type": "execute_result"
    }
   ],
   "source": [
    "df1 = pd.DataFrame()\n",
    "\n",
    "a = pd.DataFrame(columns=[\"Compétition\"])\n",
    "b = pd.DataFrame(columns=[\"Phase\"])\n",
    "\n",
    "col = soup.find_all('div', class_='match-item-event-series text-of')\n",
    "for cols in col:\n",
    "    texts = cols.find_all(string=True, recursive=False)\n",
    "    text1 = texts[0].strip()\n",
    "    a = a._append({'Compétition':text1}, ignore_index=True)\n",
    "col1 = soup.find_all('div', class_='match-item-event text-of')\n",
    "for cols in col1:\n",
    "    texts1 = cols.find_all(string=True, recursive=False)\n",
    "    text2 = texts1[1].strip()\n",
    "    b = b._append({'Phase':text2}, ignore_index=True)\n",
    "\n",
    "df1 = b.join(a, how='inner')\n",
    "df1"
   ],
   "metadata": {
    "collapsed": false,
    "ExecuteTime": {
     "end_time": "2023-10-23T19:26:14.605056Z",
     "start_time": "2023-10-23T19:26:14.503329300Z"
    }
   },
   "id": "ee3f51ab28de1942"
  },
  {
   "cell_type": "code",
   "execution_count": 4,
   "outputs": [],
   "source": [
    "df2 = pd.DataFrame()\n",
    "c = pd.DataFrame(columns=[\"Team 2\"])\n",
    "d = pd.DataFrame(columns=[\"Team 1\"])\n",
    "col = soup.find_all('div', class_='match-item-vs-team-name')\n",
    "for cols in col:\n",
    "    texts = cols.find_all(string=True, recursive=True)\n",
    "    text = texts[2].strip()\n",
    "    text1 = texts[3].strip()\n",
    "    d = d._append({'Team 1':text}, ignore_index=True)\n",
    "    c = c._append({'Team 2':text1}, ignore_index=True)\n",
    "\n",
    "c = c.replace('', np.nan, regex=True)\n",
    "c = c.dropna()\n",
    "c = c.reset_index(drop=True)\n",
    "d = d.replace('', np.nan, regex=True)\n",
    "d = d.dropna()\n",
    "d = d.reset_index(drop=True)\n",
    "\n",
    "df2 = d.join(c, how='inner')\n",
    "df1 = df1.join(df2, how='inner')"
   ],
   "metadata": {
    "collapsed": false,
    "ExecuteTime": {
     "end_time": "2023-10-23T19:26:14.784576500Z",
     "start_time": "2023-10-23T19:26:14.606053200Z"
    }
   },
   "id": "cdfaa203f8620bb7"
  },
  {
   "cell_type": "code",
   "execution_count": 5,
   "outputs": [
    {
     "data": {
      "text/plain": "                                                Phase  \\\n0                                  Crossfire Cup 2023   \n1                               Superdome 2023: Egypt   \n2             China Evolution Series Act 2: Selection   \n3             China Evolution Series Act 2: Selection   \n4              Knights Monthly Gauntlet 2023: October   \n5              Knights Monthly Gauntlet 2023: October   \n6              Knights Monthly Gauntlet 2023: October   \n7                     Multiplatform Esports Game 2023   \n8              VALORANT Challengers 2023 DACH: Arcade   \n9              VALORANT Challengers 2023 DACH: Arcade   \n10            China Evolution Series Act 2: Selection   \n11            China Evolution Series Act 2: Selection   \n12                         Predator League Japan 2024   \n13                          Liquid Open 2023: Oceania   \n14                         Predator League Japan 2024   \n15                          Liquid Open 2023: Oceania   \n16             Knights Monthly Gauntlet 2023: October   \n17             Knights Monthly Gauntlet 2023: October   \n18                                    ACE Double Down   \n19             Knights Monthly Gauntlet 2023: October   \n20                    Multiplatform Esports Game 2023   \n21             Knights Monthly Gauntlet 2023: October   \n22             Knights Monthly Gauntlet 2023: October   \n23             Knights Monthly Gauntlet 2023: October   \n24                    Multiplatform Esports Game 2023   \n25                      Saudi eLeagues 2023: Season 2   \n26            China Evolution Series Act 2: Selection   \n27            China Evolution Series Act 2: Selection   \n28                         Predator League Japan 2024   \n29                       Predator League Vietnam 2024   \n30                         Predator League Japan 2024   \n31                          Liquid Open 2023: Oceania   \n32                          Liquid Open 2023: Oceania   \n33                                    ACE Double Down   \n34             Knights Monthly Gauntlet 2023: October   \n35             Knights Monthly Gauntlet 2023: October   \n36                                    ACE Double Down   \n37             Knights Monthly Gauntlet 2023: October   \n38             Knights Monthly Gauntlet 2023: October   \n39             Knights Monthly Gauntlet 2023: October   \n40             Knights Monthly Gauntlet 2023: October   \n41                    Multiplatform Esports Game 2023   \n42                      Saudi eLeagues 2023: Season 2   \n43            China Evolution Series Act 2: Selection   \n44            China Evolution Series Act 2: Selection   \n45                                    ACE Double Down   \n46                                    ACE Double Down   \n47                                 Crossfire Cup 2023   \n48                                 Crossfire Cup 2023   \n49  VALORANT East: United: Season 2: Stage 3 - League   \n\n                              Compétition                Team 1  \\\n0    Contenders #2 Playoffs–Quarterfinals          Team Aku Aku   \n1   GCC And Iraq Online Qualifier–Round 1         The Ultimates   \n2             Group Stage–Elimination (B)                 TYLOO   \n3             Group Stage–Elimination (A)   Royal Never Give Up   \n4                    Playoffs–Grand Final           Argon Black   \n5                     Playoffs–Semifinals         Square Nation   \n6                     Playoffs–Semifinals              Version1   \n7                    Playoffs–Lower Final                  MIBR   \n8                      Group Stage–Week 6    Reveal Multigaming   \n9                      Group Stage–Week 6                 AEX-1   \n10               Group Stage–Winner's (B)             Rare Atom   \n11               Group Stage–Winner's (A)       Bilibili Gaming   \n12                 Main Event–Grand Final      CREST GAMING Zst   \n13                   Playoffs–Grand Final                 Hanma   \n14           Main Event–Consolation Final        Sengoku Gaming   \n15                   Playoffs–Lower Final      The Great Escape   \n16                 Playoffs–Quarterfinals                 Torch   \n17                 Playoffs–Quarterfinals           Let Us Cook   \n18                    Swiss Stage–Round 2             Six Karma   \n19                   Playoffs–Round of 16   Zero MarksMen Black   \n20                 Playoffs–Lower Round 5            RED Canids   \n21                   Playoffs–Round of 16              Ambrosia   \n22                   Playoffs–Round of 32            Torch Plus   \n23                   Playoffs–Round of 32          Army of Five   \n24                   Playoffs–Upper Final                   XIT   \n25                   Playoffs–Grand Final         The Ultimates   \n26                Group Stage–Opening (B)       FunPlus Phoenix   \n27                Group Stage–Opening (B)                 TYLOO   \n28                  Main Event–Semifinals                REJECT   \n29                   Playoffs–Grand Final  Fancy United Esports   \n30                  Main Event–Semifinals        Sengoku Gaming   \n31                 Playoffs–Lower Round 3                    DG   \n32                   Playoffs–Upper Final      The Great Escape   \n33                    Swiss Stage–Round 1             FiRePOWER   \n34                Group Stage–Decider (J)          Sway eSports   \n35                Group Stage–Decider (C)      Cataclysm Gaming   \n36                    Swiss Stage–Round 1             19esports   \n37               Group Stage–Winner's (A)          Turtle Troop   \n38               Group Stage–Winner's (P)                Team 7   \n39                Group Stage–Opening (C)         1MillisecondX   \n40                Group Stage–Opening (L)     Take Back Control   \n41                 Playoffs–Lower Round 4                  MIXX   \n42                   Playoffs–Lower Final        Geekay Esports   \n43                Group Stage–Opening (A)   Royal Never Give Up   \n44                Group Stage–Opening (A)         Trace Esports   \n45                    Swiss Stage–Round 1                FUSION   \n46                    Swiss Stage–Round 1        Illicit Gaming   \n47                  Contenders #2–Decider        Melilla Titans   \n48              Contenders #2–Elimination            Team Queso   \n49                     Group Stage–Week 6    Enterprise Esports   \n\n                    Team 2 Score Team 1 Score Team 2  \n0             UCAM Tokiers            2            1  \n1             Team Falcons            0            2  \n2          FunPlus Phoenix            0            2  \n3            Trace Esports            2            0  \n4             Turtle Troop            1            2  \n5              Argon Black            2            1  \n6             Turtle Troop            2            0  \n7                      XIT            2            0  \n8              CGN Esports            2            0  \n9          ALTERNATE aTTaX            2            0  \n10  Attacking Soul Esports            0            2  \n11           EDward Gaming            0            2  \n12              FAV gaming            3            2  \n13               Project X            2            1  \n14                  REJECT            0            2  \n15                   Hanma            1            2  \n16             Argon Black            1            2  \n17            Turtle Troop            2            1  \n18           E-Xolos LAZER            2            0  \n19                Version1            0            2  \n20                    MIBR            2            0  \n21             Argon Black            1            2  \n22            Turtle Troop            0            2  \n23         goth boy clique            2            0  \n24                   FURIA            2            1  \n25            Team Falcons            1            3  \n26  Attacking Soul Esports            2            0  \n27               Rare Atom            1            2  \n28        CREST GAMING Zst            2            1  \n29            Tài Năng Trẻ            3            1  \n30              FAV gaming            0            2  \n31                   Hanma            0            2  \n32               Project X            1            2  \n33           E-Xolos LAZER            2            0  \n34             Team Mystic            0            2  \n35                Valkyrie            2            0  \n36           Skull Cracker            2            0  \n37           special grade            1            2  \n38                   Torch            2            0  \n39                     QoR            2            0  \n40        Supernova Galaxy            2            0  \n41                    MIBR            0            2  \n42            Team Falcons            3            0  \n43           EDward Gaming            0            2  \n44         Bilibili Gaming            2            1  \n45          Chivas Esports            2            1  \n46               Six Karma            2            1  \n47            Team Aku Aku           13            9  \n48          Melilla Titans            7           13  \n49          GONext Esports            0            2  ",
      "text/html": "<div>\n<style scoped>\n    .dataframe tbody tr th:only-of-type {\n        vertical-align: middle;\n    }\n\n    .dataframe tbody tr th {\n        vertical-align: top;\n    }\n\n    .dataframe thead th {\n        text-align: right;\n    }\n</style>\n<table border=\"1\" class=\"dataframe\">\n  <thead>\n    <tr style=\"text-align: right;\">\n      <th></th>\n      <th>Phase</th>\n      <th>Compétition</th>\n      <th>Team 1</th>\n      <th>Team 2</th>\n      <th>Score Team 1</th>\n      <th>Score Team 2</th>\n    </tr>\n  </thead>\n  <tbody>\n    <tr>\n      <th>0</th>\n      <td>Crossfire Cup 2023</td>\n      <td>Contenders #2 Playoffs–Quarterfinals</td>\n      <td>Team Aku Aku</td>\n      <td>UCAM Tokiers</td>\n      <td>2</td>\n      <td>1</td>\n    </tr>\n    <tr>\n      <th>1</th>\n      <td>Superdome 2023: Egypt</td>\n      <td>GCC And Iraq Online Qualifier–Round 1</td>\n      <td>The Ultimates</td>\n      <td>Team Falcons</td>\n      <td>0</td>\n      <td>2</td>\n    </tr>\n    <tr>\n      <th>2</th>\n      <td>China Evolution Series Act 2: Selection</td>\n      <td>Group Stage–Elimination (B)</td>\n      <td>TYLOO</td>\n      <td>FunPlus Phoenix</td>\n      <td>0</td>\n      <td>2</td>\n    </tr>\n    <tr>\n      <th>3</th>\n      <td>China Evolution Series Act 2: Selection</td>\n      <td>Group Stage–Elimination (A)</td>\n      <td>Royal Never Give Up</td>\n      <td>Trace Esports</td>\n      <td>2</td>\n      <td>0</td>\n    </tr>\n    <tr>\n      <th>4</th>\n      <td>Knights Monthly Gauntlet 2023: October</td>\n      <td>Playoffs–Grand Final</td>\n      <td>Argon Black</td>\n      <td>Turtle Troop</td>\n      <td>1</td>\n      <td>2</td>\n    </tr>\n    <tr>\n      <th>5</th>\n      <td>Knights Monthly Gauntlet 2023: October</td>\n      <td>Playoffs–Semifinals</td>\n      <td>Square Nation</td>\n      <td>Argon Black</td>\n      <td>2</td>\n      <td>1</td>\n    </tr>\n    <tr>\n      <th>6</th>\n      <td>Knights Monthly Gauntlet 2023: October</td>\n      <td>Playoffs–Semifinals</td>\n      <td>Version1</td>\n      <td>Turtle Troop</td>\n      <td>2</td>\n      <td>0</td>\n    </tr>\n    <tr>\n      <th>7</th>\n      <td>Multiplatform Esports Game 2023</td>\n      <td>Playoffs–Lower Final</td>\n      <td>MIBR</td>\n      <td>XIT</td>\n      <td>2</td>\n      <td>0</td>\n    </tr>\n    <tr>\n      <th>8</th>\n      <td>VALORANT Challengers 2023 DACH: Arcade</td>\n      <td>Group Stage–Week 6</td>\n      <td>Reveal Multigaming</td>\n      <td>CGN Esports</td>\n      <td>2</td>\n      <td>0</td>\n    </tr>\n    <tr>\n      <th>9</th>\n      <td>VALORANT Challengers 2023 DACH: Arcade</td>\n      <td>Group Stage–Week 6</td>\n      <td>AEX-1</td>\n      <td>ALTERNATE aTTaX</td>\n      <td>2</td>\n      <td>0</td>\n    </tr>\n    <tr>\n      <th>10</th>\n      <td>China Evolution Series Act 2: Selection</td>\n      <td>Group Stage–Winner's (B)</td>\n      <td>Rare Atom</td>\n      <td>Attacking Soul Esports</td>\n      <td>0</td>\n      <td>2</td>\n    </tr>\n    <tr>\n      <th>11</th>\n      <td>China Evolution Series Act 2: Selection</td>\n      <td>Group Stage–Winner's (A)</td>\n      <td>Bilibili Gaming</td>\n      <td>EDward Gaming</td>\n      <td>0</td>\n      <td>2</td>\n    </tr>\n    <tr>\n      <th>12</th>\n      <td>Predator League Japan 2024</td>\n      <td>Main Event–Grand Final</td>\n      <td>CREST GAMING Zst</td>\n      <td>FAV gaming</td>\n      <td>3</td>\n      <td>2</td>\n    </tr>\n    <tr>\n      <th>13</th>\n      <td>Liquid Open 2023: Oceania</td>\n      <td>Playoffs–Grand Final</td>\n      <td>Hanma</td>\n      <td>Project X</td>\n      <td>2</td>\n      <td>1</td>\n    </tr>\n    <tr>\n      <th>14</th>\n      <td>Predator League Japan 2024</td>\n      <td>Main Event–Consolation Final</td>\n      <td>Sengoku Gaming</td>\n      <td>REJECT</td>\n      <td>0</td>\n      <td>2</td>\n    </tr>\n    <tr>\n      <th>15</th>\n      <td>Liquid Open 2023: Oceania</td>\n      <td>Playoffs–Lower Final</td>\n      <td>The Great Escape</td>\n      <td>Hanma</td>\n      <td>1</td>\n      <td>2</td>\n    </tr>\n    <tr>\n      <th>16</th>\n      <td>Knights Monthly Gauntlet 2023: October</td>\n      <td>Playoffs–Quarterfinals</td>\n      <td>Torch</td>\n      <td>Argon Black</td>\n      <td>1</td>\n      <td>2</td>\n    </tr>\n    <tr>\n      <th>17</th>\n      <td>Knights Monthly Gauntlet 2023: October</td>\n      <td>Playoffs–Quarterfinals</td>\n      <td>Let Us Cook</td>\n      <td>Turtle Troop</td>\n      <td>2</td>\n      <td>1</td>\n    </tr>\n    <tr>\n      <th>18</th>\n      <td>ACE Double Down</td>\n      <td>Swiss Stage–Round 2</td>\n      <td>Six Karma</td>\n      <td>E-Xolos LAZER</td>\n      <td>2</td>\n      <td>0</td>\n    </tr>\n    <tr>\n      <th>19</th>\n      <td>Knights Monthly Gauntlet 2023: October</td>\n      <td>Playoffs–Round of 16</td>\n      <td>Zero MarksMen Black</td>\n      <td>Version1</td>\n      <td>0</td>\n      <td>2</td>\n    </tr>\n    <tr>\n      <th>20</th>\n      <td>Multiplatform Esports Game 2023</td>\n      <td>Playoffs–Lower Round 5</td>\n      <td>RED Canids</td>\n      <td>MIBR</td>\n      <td>2</td>\n      <td>0</td>\n    </tr>\n    <tr>\n      <th>21</th>\n      <td>Knights Monthly Gauntlet 2023: October</td>\n      <td>Playoffs–Round of 16</td>\n      <td>Ambrosia</td>\n      <td>Argon Black</td>\n      <td>1</td>\n      <td>2</td>\n    </tr>\n    <tr>\n      <th>22</th>\n      <td>Knights Monthly Gauntlet 2023: October</td>\n      <td>Playoffs–Round of 32</td>\n      <td>Torch Plus</td>\n      <td>Turtle Troop</td>\n      <td>0</td>\n      <td>2</td>\n    </tr>\n    <tr>\n      <th>23</th>\n      <td>Knights Monthly Gauntlet 2023: October</td>\n      <td>Playoffs–Round of 32</td>\n      <td>Army of Five</td>\n      <td>goth boy clique</td>\n      <td>2</td>\n      <td>0</td>\n    </tr>\n    <tr>\n      <th>24</th>\n      <td>Multiplatform Esports Game 2023</td>\n      <td>Playoffs–Upper Final</td>\n      <td>XIT</td>\n      <td>FURIA</td>\n      <td>2</td>\n      <td>1</td>\n    </tr>\n    <tr>\n      <th>25</th>\n      <td>Saudi eLeagues 2023: Season 2</td>\n      <td>Playoffs–Grand Final</td>\n      <td>The Ultimates</td>\n      <td>Team Falcons</td>\n      <td>1</td>\n      <td>3</td>\n    </tr>\n    <tr>\n      <th>26</th>\n      <td>China Evolution Series Act 2: Selection</td>\n      <td>Group Stage–Opening (B)</td>\n      <td>FunPlus Phoenix</td>\n      <td>Attacking Soul Esports</td>\n      <td>2</td>\n      <td>0</td>\n    </tr>\n    <tr>\n      <th>27</th>\n      <td>China Evolution Series Act 2: Selection</td>\n      <td>Group Stage–Opening (B)</td>\n      <td>TYLOO</td>\n      <td>Rare Atom</td>\n      <td>1</td>\n      <td>2</td>\n    </tr>\n    <tr>\n      <th>28</th>\n      <td>Predator League Japan 2024</td>\n      <td>Main Event–Semifinals</td>\n      <td>REJECT</td>\n      <td>CREST GAMING Zst</td>\n      <td>2</td>\n      <td>1</td>\n    </tr>\n    <tr>\n      <th>29</th>\n      <td>Predator League Vietnam 2024</td>\n      <td>Playoffs–Grand Final</td>\n      <td>Fancy United Esports</td>\n      <td>Tài Năng Trẻ</td>\n      <td>3</td>\n      <td>1</td>\n    </tr>\n    <tr>\n      <th>30</th>\n      <td>Predator League Japan 2024</td>\n      <td>Main Event–Semifinals</td>\n      <td>Sengoku Gaming</td>\n      <td>FAV gaming</td>\n      <td>0</td>\n      <td>2</td>\n    </tr>\n    <tr>\n      <th>31</th>\n      <td>Liquid Open 2023: Oceania</td>\n      <td>Playoffs–Lower Round 3</td>\n      <td>DG</td>\n      <td>Hanma</td>\n      <td>0</td>\n      <td>2</td>\n    </tr>\n    <tr>\n      <th>32</th>\n      <td>Liquid Open 2023: Oceania</td>\n      <td>Playoffs–Upper Final</td>\n      <td>The Great Escape</td>\n      <td>Project X</td>\n      <td>1</td>\n      <td>2</td>\n    </tr>\n    <tr>\n      <th>33</th>\n      <td>ACE Double Down</td>\n      <td>Swiss Stage–Round 1</td>\n      <td>FiRePOWER</td>\n      <td>E-Xolos LAZER</td>\n      <td>2</td>\n      <td>0</td>\n    </tr>\n    <tr>\n      <th>34</th>\n      <td>Knights Monthly Gauntlet 2023: October</td>\n      <td>Group Stage–Decider (J)</td>\n      <td>Sway eSports</td>\n      <td>Team Mystic</td>\n      <td>0</td>\n      <td>2</td>\n    </tr>\n    <tr>\n      <th>35</th>\n      <td>Knights Monthly Gauntlet 2023: October</td>\n      <td>Group Stage–Decider (C)</td>\n      <td>Cataclysm Gaming</td>\n      <td>Valkyrie</td>\n      <td>2</td>\n      <td>0</td>\n    </tr>\n    <tr>\n      <th>36</th>\n      <td>ACE Double Down</td>\n      <td>Swiss Stage–Round 1</td>\n      <td>19esports</td>\n      <td>Skull Cracker</td>\n      <td>2</td>\n      <td>0</td>\n    </tr>\n    <tr>\n      <th>37</th>\n      <td>Knights Monthly Gauntlet 2023: October</td>\n      <td>Group Stage–Winner's (A)</td>\n      <td>Turtle Troop</td>\n      <td>special grade</td>\n      <td>1</td>\n      <td>2</td>\n    </tr>\n    <tr>\n      <th>38</th>\n      <td>Knights Monthly Gauntlet 2023: October</td>\n      <td>Group Stage–Winner's (P)</td>\n      <td>Team 7</td>\n      <td>Torch</td>\n      <td>2</td>\n      <td>0</td>\n    </tr>\n    <tr>\n      <th>39</th>\n      <td>Knights Monthly Gauntlet 2023: October</td>\n      <td>Group Stage–Opening (C)</td>\n      <td>1MillisecondX</td>\n      <td>QoR</td>\n      <td>2</td>\n      <td>0</td>\n    </tr>\n    <tr>\n      <th>40</th>\n      <td>Knights Monthly Gauntlet 2023: October</td>\n      <td>Group Stage–Opening (L)</td>\n      <td>Take Back Control</td>\n      <td>Supernova Galaxy</td>\n      <td>2</td>\n      <td>0</td>\n    </tr>\n    <tr>\n      <th>41</th>\n      <td>Multiplatform Esports Game 2023</td>\n      <td>Playoffs–Lower Round 4</td>\n      <td>MIXX</td>\n      <td>MIBR</td>\n      <td>0</td>\n      <td>2</td>\n    </tr>\n    <tr>\n      <th>42</th>\n      <td>Saudi eLeagues 2023: Season 2</td>\n      <td>Playoffs–Lower Final</td>\n      <td>Geekay Esports</td>\n      <td>Team Falcons</td>\n      <td>3</td>\n      <td>0</td>\n    </tr>\n    <tr>\n      <th>43</th>\n      <td>China Evolution Series Act 2: Selection</td>\n      <td>Group Stage–Opening (A)</td>\n      <td>Royal Never Give Up</td>\n      <td>EDward Gaming</td>\n      <td>0</td>\n      <td>2</td>\n    </tr>\n    <tr>\n      <th>44</th>\n      <td>China Evolution Series Act 2: Selection</td>\n      <td>Group Stage–Opening (A)</td>\n      <td>Trace Esports</td>\n      <td>Bilibili Gaming</td>\n      <td>2</td>\n      <td>1</td>\n    </tr>\n    <tr>\n      <th>45</th>\n      <td>ACE Double Down</td>\n      <td>Swiss Stage–Round 1</td>\n      <td>FUSION</td>\n      <td>Chivas Esports</td>\n      <td>2</td>\n      <td>1</td>\n    </tr>\n    <tr>\n      <th>46</th>\n      <td>ACE Double Down</td>\n      <td>Swiss Stage–Round 1</td>\n      <td>Illicit Gaming</td>\n      <td>Six Karma</td>\n      <td>2</td>\n      <td>1</td>\n    </tr>\n    <tr>\n      <th>47</th>\n      <td>Crossfire Cup 2023</td>\n      <td>Contenders #2–Decider</td>\n      <td>Melilla Titans</td>\n      <td>Team Aku Aku</td>\n      <td>13</td>\n      <td>9</td>\n    </tr>\n    <tr>\n      <th>48</th>\n      <td>Crossfire Cup 2023</td>\n      <td>Contenders #2–Elimination</td>\n      <td>Team Queso</td>\n      <td>Melilla Titans</td>\n      <td>7</td>\n      <td>13</td>\n    </tr>\n    <tr>\n      <th>49</th>\n      <td>VALORANT East: United: Season 2: Stage 3 - League</td>\n      <td>Group Stage–Week 6</td>\n      <td>Enterprise Esports</td>\n      <td>GONext Esports</td>\n      <td>0</td>\n      <td>2</td>\n    </tr>\n  </tbody>\n</table>\n</div>"
     },
     "execution_count": 5,
     "metadata": {},
     "output_type": "execute_result"
    }
   ],
   "source": [
    "col = soup.find_all('div', class_='match-item-vs-team-score js-spoiler')\n",
    "df3 = pd.DataFrame()\n",
    "e = pd.DataFrame(columns=[\"Score Team 1\"])\n",
    "f = pd.DataFrame(columns=[\"Score Team 2\"])\n",
    "    \n",
    "for i, cols in enumerate(col):\n",
    "    texts = cols.find_all(string=True, recursive=False)\n",
    "    team = texts[0].strip()\n",
    "    \n",
    "    # Ajouter l'élément à 'c'\n",
    "    if i % 2 == 0:\n",
    "        e = e._append({'Score Team 1': team}, ignore_index=True)\n",
    "\n",
    "for i, cols in enumerate(col):\n",
    "    texts = cols.find_all(string=True, recursive=False)\n",
    "    team = texts[0].strip()\n",
    "    \n",
    "    # Ajouter l'élément à 'c_impairs'\n",
    "    if i % 2 != 0:\n",
    "        f = f._append({'Score Team 2': team}, ignore_index=True)\n",
    "\n",
    "df3 = e.join(f, how='inner')\n",
    "df1 = df1.join(df3, how='inner')\n",
    "df1"
   ],
   "metadata": {
    "collapsed": false,
    "ExecuteTime": {
     "end_time": "2023-10-23T19:26:14.890293800Z",
     "start_time": "2023-10-23T19:26:14.785573900Z"
    }
   },
   "id": "fe4cda99ab52448e"
  }
 ],
 "metadata": {
  "kernelspec": {
   "display_name": "Python 3",
   "language": "python",
   "name": "python3"
  },
  "language_info": {
   "codemirror_mode": {
    "name": "ipython",
    "version": 2
   },
   "file_extension": ".py",
   "mimetype": "text/x-python",
   "name": "python",
   "nbconvert_exporter": "python",
   "pygments_lexer": "ipython2",
   "version": "2.7.6"
  }
 },
 "nbformat": 4,
 "nbformat_minor": 5
}
