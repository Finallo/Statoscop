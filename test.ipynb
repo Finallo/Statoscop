{
 "cells": [
  {
   "cell_type": "code",
   "execution_count": 1,
   "id": "initial_id",
   "metadata": {
    "collapsed": true,
    "ExecuteTime": {
     "end_time": "2023-10-23T00:01:34.439528Z",
     "start_time": "2023-10-23T00:01:33.552882Z"
    }
   },
   "outputs": [],
   "source": [
    "import requests\n",
    "from bs4 import BeautifulSoup\n",
    "import pandas as pd\n",
    "import numpy as np"
   ]
  },
  {
   "cell_type": "markdown",
   "source": [
    "### Etape 1:\n",
    "1/ Importation des données.\n",
    "2/ \"URL\", \"RESPONSE\", \"HTML\" permettent de récupérer le texte du site.\n",
    "3/ \"SOUP\" permet d'utiliser les données pour les scraper."
   ],
   "metadata": {
    "collapsed": false
   },
   "id": "328ad5d50449adcf"
  },
  {
   "cell_type": "code",
   "execution_count": 2,
   "outputs": [],
   "source": [
    "url = \"https://www.vlr.gg/matches/results\"\n",
    "response = requests.get(url)\n",
    "html = response.text\n",
    "soup = BeautifulSoup(html, 'html.parser')\n",
    "data = soup.find_all('div')"
   ],
   "metadata": {
    "collapsed": false,
    "ExecuteTime": {
     "end_time": "2023-10-23T00:01:35.121052Z",
     "start_time": "2023-10-23T00:01:34.443996Z"
    }
   },
   "id": "de4f28b82d5a66d1"
  },
  {
   "cell_type": "markdown",
   "source": [
    "### Etape 2:\n",
    "1/ Création du dataframe \"df1\" recueillant toutes les données.\n",
    "1.1/ \"a\" est le dataframe pour la phase de la compétition.\n",
    "1.2/ \"b\" est le dataframe pour la compétition.\n",
    "2/ Les deux dataframes \"a\" et \"b\" sont fusionnés dans le df1."
   ],
   "metadata": {
    "collapsed": false
   },
   "id": "be5d5a4063ddc8fd"
  },
  {
   "cell_type": "code",
   "execution_count": 3,
   "outputs": [
    {
     "data": {
      "text/plain": "                                                    2  \\\n0              Knights Monthly Gauntlet 2023: October   \n1              Knights Monthly Gauntlet 2023: October   \n2                     Multiplatform Esports Game 2023   \n3              VALORANT Challengers 2023 DACH: Arcade   \n4              VALORANT Challengers 2023 DACH: Arcade   \n5             China Evolution Series Act 2: Selection   \n6             China Evolution Series Act 2: Selection   \n7                          Predator League Japan 2024   \n8                           Liquid Open 2023: Oceania   \n9                          Predator League Japan 2024   \n10                          Liquid Open 2023: Oceania   \n11             Knights Monthly Gauntlet 2023: October   \n12             Knights Monthly Gauntlet 2023: October   \n13                                    ACE Double Down   \n14             Knights Monthly Gauntlet 2023: October   \n15                    Multiplatform Esports Game 2023   \n16             Knights Monthly Gauntlet 2023: October   \n17             Knights Monthly Gauntlet 2023: October   \n18             Knights Monthly Gauntlet 2023: October   \n19                    Multiplatform Esports Game 2023   \n20                      Saudi eLeagues 2023: Season 2   \n21            China Evolution Series Act 2: Selection   \n22            China Evolution Series Act 2: Selection   \n23                         Predator League Japan 2024   \n24                       Predator League Vietnam 2024   \n25                         Predator League Japan 2024   \n26                          Liquid Open 2023: Oceania   \n27                          Liquid Open 2023: Oceania   \n28                                    ACE Double Down   \n29             Knights Monthly Gauntlet 2023: October   \n30             Knights Monthly Gauntlet 2023: October   \n31                                    ACE Double Down   \n32             Knights Monthly Gauntlet 2023: October   \n33             Knights Monthly Gauntlet 2023: October   \n34             Knights Monthly Gauntlet 2023: October   \n35             Knights Monthly Gauntlet 2023: October   \n36                    Multiplatform Esports Game 2023   \n37                      Saudi eLeagues 2023: Season 2   \n38            China Evolution Series Act 2: Selection   \n39            China Evolution Series Act 2: Selection   \n40                                    ACE Double Down   \n41                                    ACE Double Down   \n42                                 Crossfire Cup 2023   \n43                                 Crossfire Cup 2023   \n44  VALORANT East: United: Season 2: Stage 3 - League   \n45                                 Crossfire Cup 2023   \n46                      Saudi eLeagues 2023: Season 2   \n47                                 Crossfire Cup 2023   \n48  VALORANT East: United: Season 2: Stage 3 - League   \n49                                 Crossfire Cup 2023   \n\n                               1  \n0            Playoffs–Semifinals  \n1            Playoffs–Semifinals  \n2           Playoffs–Lower Final  \n3             Group Stage–Week 6  \n4             Group Stage–Week 6  \n5       Group Stage–Winner's (B)  \n6       Group Stage–Winner's (A)  \n7         Main Event–Grand Final  \n8           Playoffs–Grand Final  \n9   Main Event–Consolation Final  \n10          Playoffs–Lower Final  \n11        Playoffs–Quarterfinals  \n12        Playoffs–Quarterfinals  \n13           Swiss Stage–Round 2  \n14          Playoffs–Round of 16  \n15        Playoffs–Lower Round 5  \n16          Playoffs–Round of 16  \n17          Playoffs–Round of 32  \n18          Playoffs–Round of 32  \n19          Playoffs–Upper Final  \n20          Playoffs–Grand Final  \n21       Group Stage–Opening (B)  \n22       Group Stage–Opening (B)  \n23         Main Event–Semifinals  \n24          Playoffs–Grand Final  \n25         Main Event–Semifinals  \n26        Playoffs–Lower Round 3  \n27          Playoffs–Upper Final  \n28           Swiss Stage–Round 1  \n29       Group Stage–Decider (J)  \n30       Group Stage–Decider (C)  \n31           Swiss Stage–Round 1  \n32      Group Stage–Winner's (A)  \n33      Group Stage–Winner's (P)  \n34       Group Stage–Opening (C)  \n35       Group Stage–Opening (L)  \n36        Playoffs–Lower Round 4  \n37          Playoffs–Lower Final  \n38       Group Stage–Opening (A)  \n39       Group Stage–Opening (A)  \n40           Swiss Stage–Round 1  \n41           Swiss Stage–Round 1  \n42         Contenders #2–Decider  \n43     Contenders #2–Elimination  \n44            Group Stage–Week 6  \n45        Contenders #2–Winner's  \n46          Playoffs–Upper Final  \n47         Contenders #2–Opening  \n48            Group Stage–Week 6  \n49         Contenders #2–Opening  ",
      "text/html": "<div>\n<style scoped>\n    .dataframe tbody tr th:only-of-type {\n        vertical-align: middle;\n    }\n\n    .dataframe tbody tr th {\n        vertical-align: top;\n    }\n\n    .dataframe thead th {\n        text-align: right;\n    }\n</style>\n<table border=\"1\" class=\"dataframe\">\n  <thead>\n    <tr style=\"text-align: right;\">\n      <th></th>\n      <th>2</th>\n      <th>1</th>\n    </tr>\n  </thead>\n  <tbody>\n    <tr>\n      <th>0</th>\n      <td>Knights Monthly Gauntlet 2023: October</td>\n      <td>Playoffs–Semifinals</td>\n    </tr>\n    <tr>\n      <th>1</th>\n      <td>Knights Monthly Gauntlet 2023: October</td>\n      <td>Playoffs–Semifinals</td>\n    </tr>\n    <tr>\n      <th>2</th>\n      <td>Multiplatform Esports Game 2023</td>\n      <td>Playoffs–Lower Final</td>\n    </tr>\n    <tr>\n      <th>3</th>\n      <td>VALORANT Challengers 2023 DACH: Arcade</td>\n      <td>Group Stage–Week 6</td>\n    </tr>\n    <tr>\n      <th>4</th>\n      <td>VALORANT Challengers 2023 DACH: Arcade</td>\n      <td>Group Stage–Week 6</td>\n    </tr>\n    <tr>\n      <th>5</th>\n      <td>China Evolution Series Act 2: Selection</td>\n      <td>Group Stage–Winner's (B)</td>\n    </tr>\n    <tr>\n      <th>6</th>\n      <td>China Evolution Series Act 2: Selection</td>\n      <td>Group Stage–Winner's (A)</td>\n    </tr>\n    <tr>\n      <th>7</th>\n      <td>Predator League Japan 2024</td>\n      <td>Main Event–Grand Final</td>\n    </tr>\n    <tr>\n      <th>8</th>\n      <td>Liquid Open 2023: Oceania</td>\n      <td>Playoffs–Grand Final</td>\n    </tr>\n    <tr>\n      <th>9</th>\n      <td>Predator League Japan 2024</td>\n      <td>Main Event–Consolation Final</td>\n    </tr>\n    <tr>\n      <th>10</th>\n      <td>Liquid Open 2023: Oceania</td>\n      <td>Playoffs–Lower Final</td>\n    </tr>\n    <tr>\n      <th>11</th>\n      <td>Knights Monthly Gauntlet 2023: October</td>\n      <td>Playoffs–Quarterfinals</td>\n    </tr>\n    <tr>\n      <th>12</th>\n      <td>Knights Monthly Gauntlet 2023: October</td>\n      <td>Playoffs–Quarterfinals</td>\n    </tr>\n    <tr>\n      <th>13</th>\n      <td>ACE Double Down</td>\n      <td>Swiss Stage–Round 2</td>\n    </tr>\n    <tr>\n      <th>14</th>\n      <td>Knights Monthly Gauntlet 2023: October</td>\n      <td>Playoffs–Round of 16</td>\n    </tr>\n    <tr>\n      <th>15</th>\n      <td>Multiplatform Esports Game 2023</td>\n      <td>Playoffs–Lower Round 5</td>\n    </tr>\n    <tr>\n      <th>16</th>\n      <td>Knights Monthly Gauntlet 2023: October</td>\n      <td>Playoffs–Round of 16</td>\n    </tr>\n    <tr>\n      <th>17</th>\n      <td>Knights Monthly Gauntlet 2023: October</td>\n      <td>Playoffs–Round of 32</td>\n    </tr>\n    <tr>\n      <th>18</th>\n      <td>Knights Monthly Gauntlet 2023: October</td>\n      <td>Playoffs–Round of 32</td>\n    </tr>\n    <tr>\n      <th>19</th>\n      <td>Multiplatform Esports Game 2023</td>\n      <td>Playoffs–Upper Final</td>\n    </tr>\n    <tr>\n      <th>20</th>\n      <td>Saudi eLeagues 2023: Season 2</td>\n      <td>Playoffs–Grand Final</td>\n    </tr>\n    <tr>\n      <th>21</th>\n      <td>China Evolution Series Act 2: Selection</td>\n      <td>Group Stage–Opening (B)</td>\n    </tr>\n    <tr>\n      <th>22</th>\n      <td>China Evolution Series Act 2: Selection</td>\n      <td>Group Stage–Opening (B)</td>\n    </tr>\n    <tr>\n      <th>23</th>\n      <td>Predator League Japan 2024</td>\n      <td>Main Event–Semifinals</td>\n    </tr>\n    <tr>\n      <th>24</th>\n      <td>Predator League Vietnam 2024</td>\n      <td>Playoffs–Grand Final</td>\n    </tr>\n    <tr>\n      <th>25</th>\n      <td>Predator League Japan 2024</td>\n      <td>Main Event–Semifinals</td>\n    </tr>\n    <tr>\n      <th>26</th>\n      <td>Liquid Open 2023: Oceania</td>\n      <td>Playoffs–Lower Round 3</td>\n    </tr>\n    <tr>\n      <th>27</th>\n      <td>Liquid Open 2023: Oceania</td>\n      <td>Playoffs–Upper Final</td>\n    </tr>\n    <tr>\n      <th>28</th>\n      <td>ACE Double Down</td>\n      <td>Swiss Stage–Round 1</td>\n    </tr>\n    <tr>\n      <th>29</th>\n      <td>Knights Monthly Gauntlet 2023: October</td>\n      <td>Group Stage–Decider (J)</td>\n    </tr>\n    <tr>\n      <th>30</th>\n      <td>Knights Monthly Gauntlet 2023: October</td>\n      <td>Group Stage–Decider (C)</td>\n    </tr>\n    <tr>\n      <th>31</th>\n      <td>ACE Double Down</td>\n      <td>Swiss Stage–Round 1</td>\n    </tr>\n    <tr>\n      <th>32</th>\n      <td>Knights Monthly Gauntlet 2023: October</td>\n      <td>Group Stage–Winner's (A)</td>\n    </tr>\n    <tr>\n      <th>33</th>\n      <td>Knights Monthly Gauntlet 2023: October</td>\n      <td>Group Stage–Winner's (P)</td>\n    </tr>\n    <tr>\n      <th>34</th>\n      <td>Knights Monthly Gauntlet 2023: October</td>\n      <td>Group Stage–Opening (C)</td>\n    </tr>\n    <tr>\n      <th>35</th>\n      <td>Knights Monthly Gauntlet 2023: October</td>\n      <td>Group Stage–Opening (L)</td>\n    </tr>\n    <tr>\n      <th>36</th>\n      <td>Multiplatform Esports Game 2023</td>\n      <td>Playoffs–Lower Round 4</td>\n    </tr>\n    <tr>\n      <th>37</th>\n      <td>Saudi eLeagues 2023: Season 2</td>\n      <td>Playoffs–Lower Final</td>\n    </tr>\n    <tr>\n      <th>38</th>\n      <td>China Evolution Series Act 2: Selection</td>\n      <td>Group Stage–Opening (A)</td>\n    </tr>\n    <tr>\n      <th>39</th>\n      <td>China Evolution Series Act 2: Selection</td>\n      <td>Group Stage–Opening (A)</td>\n    </tr>\n    <tr>\n      <th>40</th>\n      <td>ACE Double Down</td>\n      <td>Swiss Stage–Round 1</td>\n    </tr>\n    <tr>\n      <th>41</th>\n      <td>ACE Double Down</td>\n      <td>Swiss Stage–Round 1</td>\n    </tr>\n    <tr>\n      <th>42</th>\n      <td>Crossfire Cup 2023</td>\n      <td>Contenders #2–Decider</td>\n    </tr>\n    <tr>\n      <th>43</th>\n      <td>Crossfire Cup 2023</td>\n      <td>Contenders #2–Elimination</td>\n    </tr>\n    <tr>\n      <th>44</th>\n      <td>VALORANT East: United: Season 2: Stage 3 - League</td>\n      <td>Group Stage–Week 6</td>\n    </tr>\n    <tr>\n      <th>45</th>\n      <td>Crossfire Cup 2023</td>\n      <td>Contenders #2–Winner's</td>\n    </tr>\n    <tr>\n      <th>46</th>\n      <td>Saudi eLeagues 2023: Season 2</td>\n      <td>Playoffs–Upper Final</td>\n    </tr>\n    <tr>\n      <th>47</th>\n      <td>Crossfire Cup 2023</td>\n      <td>Contenders #2–Opening</td>\n    </tr>\n    <tr>\n      <th>48</th>\n      <td>VALORANT East: United: Season 2: Stage 3 - League</td>\n      <td>Group Stage–Week 6</td>\n    </tr>\n    <tr>\n      <th>49</th>\n      <td>Crossfire Cup 2023</td>\n      <td>Contenders #2–Opening</td>\n    </tr>\n  </tbody>\n</table>\n</div>"
     },
     "execution_count": 3,
     "metadata": {},
     "output_type": "execute_result"
    }
   ],
   "source": [
    "df1 = pd.DataFrame()\n",
    "\n",
    "a = pd.DataFrame(columns=[\"1\"])\n",
    "b = pd.DataFrame(columns=[\"2\"])\n",
    "\n",
    "col = soup.find_all('div', class_='match-item-event-series text-of')\n",
    "for cols in col:\n",
    "    texts = cols.find_all(string=True, recursive=False)\n",
    "    text1 = texts[0].strip()\n",
    "    a = a._append({'1':text1}, ignore_index=True)\n",
    "col1 = soup.find_all('div', class_='match-item-event text-of')\n",
    "for cols in col1:\n",
    "    texts1 = cols.find_all(string=True, recursive=False)\n",
    "    text2 = texts1[1].strip()\n",
    "    b = b._append({'2':text2}, ignore_index=True)\n",
    "\n",
    "df1 = b.join(a, how='inner')\n",
    "df1"
   ],
   "metadata": {
    "collapsed": false,
    "ExecuteTime": {
     "end_time": "2023-10-23T00:01:35.283170Z",
     "start_time": "2023-10-23T00:01:35.258640Z"
    }
   },
   "id": "ee3f51ab28de1942"
  },
  {
   "cell_type": "code",
   "execution_count": 12,
   "outputs": [],
   "source": [
    "df2 = pd.DataFrame()\n",
    "c = pd.DataFrame(columns=[\"3\"])\n",
    "d = pd.DataFrame(columns=[\"4\"])\n",
    "col = soup.find_all('div', class_='match-item-vs-team-name')\n",
    "for cols in col:\n",
    "    texts = cols.find_all(string=True, recursive=True)\n",
    "    text = texts[2].strip()\n",
    "    text1 = texts[3].strip()\n",
    "    c = c._append({'3':text}, ignore_index=True)\n",
    "    d = d._append({'4':text1}, ignore_index=True)\n",
    "\n",
    "c = c.replace('', np.nan, regex=True)\n",
    "c = c.dropna()\n",
    "c = c.reset_index(drop=True)\n",
    "d = d.replace('', np.nan, regex=True)\n",
    "d = d.dropna()\n",
    "d = d.reset_index(drop=True)\n",
    "\n",
    "df2 = d.join(c, how='inner')\n",
    "df1 = df1.join(df2, how='inner')"
   ],
   "metadata": {
    "collapsed": false,
    "ExecuteTime": {
     "end_time": "2023-10-23T00:04:25.456967Z",
     "start_time": "2023-10-23T00:04:25.452721Z"
    }
   },
   "id": "cdfaa203f8620bb7"
  },
  {
   "cell_type": "code",
   "execution_count": 13,
   "outputs": [
    {
     "data": {
      "text/plain": "                                                    2  \\\n0              Knights Monthly Gauntlet 2023: October   \n1              Knights Monthly Gauntlet 2023: October   \n2                     Multiplatform Esports Game 2023   \n3              VALORANT Challengers 2023 DACH: Arcade   \n4              VALORANT Challengers 2023 DACH: Arcade   \n5             China Evolution Series Act 2: Selection   \n6             China Evolution Series Act 2: Selection   \n7                          Predator League Japan 2024   \n8                           Liquid Open 2023: Oceania   \n9                          Predator League Japan 2024   \n10                          Liquid Open 2023: Oceania   \n11             Knights Monthly Gauntlet 2023: October   \n12             Knights Monthly Gauntlet 2023: October   \n13                                    ACE Double Down   \n14             Knights Monthly Gauntlet 2023: October   \n15                    Multiplatform Esports Game 2023   \n16             Knights Monthly Gauntlet 2023: October   \n17             Knights Monthly Gauntlet 2023: October   \n18             Knights Monthly Gauntlet 2023: October   \n19                    Multiplatform Esports Game 2023   \n20                      Saudi eLeagues 2023: Season 2   \n21            China Evolution Series Act 2: Selection   \n22            China Evolution Series Act 2: Selection   \n23                         Predator League Japan 2024   \n24                       Predator League Vietnam 2024   \n25                         Predator League Japan 2024   \n26                          Liquid Open 2023: Oceania   \n27                          Liquid Open 2023: Oceania   \n28                                    ACE Double Down   \n29             Knights Monthly Gauntlet 2023: October   \n30             Knights Monthly Gauntlet 2023: October   \n31                                    ACE Double Down   \n32             Knights Monthly Gauntlet 2023: October   \n33             Knights Monthly Gauntlet 2023: October   \n34             Knights Monthly Gauntlet 2023: October   \n35             Knights Monthly Gauntlet 2023: October   \n36                    Multiplatform Esports Game 2023   \n37                      Saudi eLeagues 2023: Season 2   \n38            China Evolution Series Act 2: Selection   \n39            China Evolution Series Act 2: Selection   \n40                                    ACE Double Down   \n41                                    ACE Double Down   \n42                                 Crossfire Cup 2023   \n43                                 Crossfire Cup 2023   \n44  VALORANT East: United: Season 2: Stage 3 - League   \n45                                 Crossfire Cup 2023   \n46                      Saudi eLeagues 2023: Season 2   \n47                                 Crossfire Cup 2023   \n48  VALORANT East: United: Season 2: Stage 3 - League   \n49                                 Crossfire Cup 2023   \n\n                               1                       4                     3  \n0            Playoffs–Semifinals             Argon Black         Square Nation  \n1            Playoffs–Semifinals            Turtle Troop              Version1  \n2           Playoffs–Lower Final                     XIT                  MIBR  \n3             Group Stage–Week 6             CGN Esports    Reveal Multigaming  \n4             Group Stage–Week 6         ALTERNATE aTTaX                 AEX-1  \n5       Group Stage–Winner's (B)  Attacking Soul Esports             Rare Atom  \n6       Group Stage–Winner's (A)           EDward Gaming       Bilibili Gaming  \n7         Main Event–Grand Final              FAV gaming      CREST GAMING Zst  \n8           Playoffs–Grand Final               Project X                 Hanma  \n9   Main Event–Consolation Final                  REJECT        Sengoku Gaming  \n10          Playoffs–Lower Final                   Hanma      The Great Escape  \n11        Playoffs–Quarterfinals             Argon Black                 Torch  \n12        Playoffs–Quarterfinals            Turtle Troop           Let Us Cook  \n13           Swiss Stage–Round 2           E-Xolos LAZER             Six Karma  \n14          Playoffs–Round of 16                Version1   Zero MarksMen Black  \n15        Playoffs–Lower Round 5                    MIBR            RED Canids  \n16          Playoffs–Round of 16             Argon Black              Ambrosia  \n17          Playoffs–Round of 32            Turtle Troop            Torch Plus  \n18          Playoffs–Round of 32         goth boy clique          Army of Five  \n19          Playoffs–Upper Final                   FURIA                   XIT  \n20          Playoffs–Grand Final            Team Falcons         The Ultimates  \n21       Group Stage–Opening (B)  Attacking Soul Esports       FunPlus Phoenix  \n22       Group Stage–Opening (B)               Rare Atom                 TYLOO  \n23         Main Event–Semifinals        CREST GAMING Zst                REJECT  \n24          Playoffs–Grand Final            Tài Năng Trẻ  Fancy United Esports  \n25         Main Event–Semifinals              FAV gaming        Sengoku Gaming  \n26        Playoffs–Lower Round 3                   Hanma                    DG  \n27          Playoffs–Upper Final               Project X      The Great Escape  \n28           Swiss Stage–Round 1           E-Xolos LAZER             FiRePOWER  \n29       Group Stage–Decider (J)             Team Mystic          Sway eSports  \n30       Group Stage–Decider (C)                Valkyrie      Cataclysm Gaming  \n31           Swiss Stage–Round 1           Skull Cracker             19esports  \n32      Group Stage–Winner's (A)           special grade          Turtle Troop  \n33      Group Stage–Winner's (P)                   Torch                Team 7  \n34       Group Stage–Opening (C)                     QoR         1MillisecondX  \n35       Group Stage–Opening (L)        Supernova Galaxy     Take Back Control  \n36        Playoffs–Lower Round 4                    MIBR                  MIXX  \n37          Playoffs–Lower Final            Team Falcons        Geekay Esports  \n38       Group Stage–Opening (A)           EDward Gaming   Royal Never Give Up  \n39       Group Stage–Opening (A)         Bilibili Gaming         Trace Esports  \n40           Swiss Stage–Round 1          Chivas Esports                FUSION  \n41           Swiss Stage–Round 1               Six Karma        Illicit Gaming  \n42         Contenders #2–Decider            Team Aku Aku        Melilla Titans  \n43     Contenders #2–Elimination          Melilla Titans            Team Queso  \n44            Group Stage–Week 6          GONext Esports    Enterprise Esports  \n45        Contenders #2–Winner's                     SAW          Team Aku Aku  \n46          Playoffs–Upper Final           The Ultimates          Team Falcons  \n47         Contenders #2–Opening            Team Aku Aku        Melilla Titans  \n48            Group Stage–Week 6           Zero Tenacity            eco chálks  \n49         Contenders #2–Opening                     SAW            Team Queso  ",
      "text/html": "<div>\n<style scoped>\n    .dataframe tbody tr th:only-of-type {\n        vertical-align: middle;\n    }\n\n    .dataframe tbody tr th {\n        vertical-align: top;\n    }\n\n    .dataframe thead th {\n        text-align: right;\n    }\n</style>\n<table border=\"1\" class=\"dataframe\">\n  <thead>\n    <tr style=\"text-align: right;\">\n      <th></th>\n      <th>2</th>\n      <th>1</th>\n      <th>4</th>\n      <th>3</th>\n    </tr>\n  </thead>\n  <tbody>\n    <tr>\n      <th>0</th>\n      <td>Knights Monthly Gauntlet 2023: October</td>\n      <td>Playoffs–Semifinals</td>\n      <td>Argon Black</td>\n      <td>Square Nation</td>\n    </tr>\n    <tr>\n      <th>1</th>\n      <td>Knights Monthly Gauntlet 2023: October</td>\n      <td>Playoffs–Semifinals</td>\n      <td>Turtle Troop</td>\n      <td>Version1</td>\n    </tr>\n    <tr>\n      <th>2</th>\n      <td>Multiplatform Esports Game 2023</td>\n      <td>Playoffs–Lower Final</td>\n      <td>XIT</td>\n      <td>MIBR</td>\n    </tr>\n    <tr>\n      <th>3</th>\n      <td>VALORANT Challengers 2023 DACH: Arcade</td>\n      <td>Group Stage–Week 6</td>\n      <td>CGN Esports</td>\n      <td>Reveal Multigaming</td>\n    </tr>\n    <tr>\n      <th>4</th>\n      <td>VALORANT Challengers 2023 DACH: Arcade</td>\n      <td>Group Stage–Week 6</td>\n      <td>ALTERNATE aTTaX</td>\n      <td>AEX-1</td>\n    </tr>\n    <tr>\n      <th>5</th>\n      <td>China Evolution Series Act 2: Selection</td>\n      <td>Group Stage–Winner's (B)</td>\n      <td>Attacking Soul Esports</td>\n      <td>Rare Atom</td>\n    </tr>\n    <tr>\n      <th>6</th>\n      <td>China Evolution Series Act 2: Selection</td>\n      <td>Group Stage–Winner's (A)</td>\n      <td>EDward Gaming</td>\n      <td>Bilibili Gaming</td>\n    </tr>\n    <tr>\n      <th>7</th>\n      <td>Predator League Japan 2024</td>\n      <td>Main Event–Grand Final</td>\n      <td>FAV gaming</td>\n      <td>CREST GAMING Zst</td>\n    </tr>\n    <tr>\n      <th>8</th>\n      <td>Liquid Open 2023: Oceania</td>\n      <td>Playoffs–Grand Final</td>\n      <td>Project X</td>\n      <td>Hanma</td>\n    </tr>\n    <tr>\n      <th>9</th>\n      <td>Predator League Japan 2024</td>\n      <td>Main Event–Consolation Final</td>\n      <td>REJECT</td>\n      <td>Sengoku Gaming</td>\n    </tr>\n    <tr>\n      <th>10</th>\n      <td>Liquid Open 2023: Oceania</td>\n      <td>Playoffs–Lower Final</td>\n      <td>Hanma</td>\n      <td>The Great Escape</td>\n    </tr>\n    <tr>\n      <th>11</th>\n      <td>Knights Monthly Gauntlet 2023: October</td>\n      <td>Playoffs–Quarterfinals</td>\n      <td>Argon Black</td>\n      <td>Torch</td>\n    </tr>\n    <tr>\n      <th>12</th>\n      <td>Knights Monthly Gauntlet 2023: October</td>\n      <td>Playoffs–Quarterfinals</td>\n      <td>Turtle Troop</td>\n      <td>Let Us Cook</td>\n    </tr>\n    <tr>\n      <th>13</th>\n      <td>ACE Double Down</td>\n      <td>Swiss Stage–Round 2</td>\n      <td>E-Xolos LAZER</td>\n      <td>Six Karma</td>\n    </tr>\n    <tr>\n      <th>14</th>\n      <td>Knights Monthly Gauntlet 2023: October</td>\n      <td>Playoffs–Round of 16</td>\n      <td>Version1</td>\n      <td>Zero MarksMen Black</td>\n    </tr>\n    <tr>\n      <th>15</th>\n      <td>Multiplatform Esports Game 2023</td>\n      <td>Playoffs–Lower Round 5</td>\n      <td>MIBR</td>\n      <td>RED Canids</td>\n    </tr>\n    <tr>\n      <th>16</th>\n      <td>Knights Monthly Gauntlet 2023: October</td>\n      <td>Playoffs–Round of 16</td>\n      <td>Argon Black</td>\n      <td>Ambrosia</td>\n    </tr>\n    <tr>\n      <th>17</th>\n      <td>Knights Monthly Gauntlet 2023: October</td>\n      <td>Playoffs–Round of 32</td>\n      <td>Turtle Troop</td>\n      <td>Torch Plus</td>\n    </tr>\n    <tr>\n      <th>18</th>\n      <td>Knights Monthly Gauntlet 2023: October</td>\n      <td>Playoffs–Round of 32</td>\n      <td>goth boy clique</td>\n      <td>Army of Five</td>\n    </tr>\n    <tr>\n      <th>19</th>\n      <td>Multiplatform Esports Game 2023</td>\n      <td>Playoffs–Upper Final</td>\n      <td>FURIA</td>\n      <td>XIT</td>\n    </tr>\n    <tr>\n      <th>20</th>\n      <td>Saudi eLeagues 2023: Season 2</td>\n      <td>Playoffs–Grand Final</td>\n      <td>Team Falcons</td>\n      <td>The Ultimates</td>\n    </tr>\n    <tr>\n      <th>21</th>\n      <td>China Evolution Series Act 2: Selection</td>\n      <td>Group Stage–Opening (B)</td>\n      <td>Attacking Soul Esports</td>\n      <td>FunPlus Phoenix</td>\n    </tr>\n    <tr>\n      <th>22</th>\n      <td>China Evolution Series Act 2: Selection</td>\n      <td>Group Stage–Opening (B)</td>\n      <td>Rare Atom</td>\n      <td>TYLOO</td>\n    </tr>\n    <tr>\n      <th>23</th>\n      <td>Predator League Japan 2024</td>\n      <td>Main Event–Semifinals</td>\n      <td>CREST GAMING Zst</td>\n      <td>REJECT</td>\n    </tr>\n    <tr>\n      <th>24</th>\n      <td>Predator League Vietnam 2024</td>\n      <td>Playoffs–Grand Final</td>\n      <td>Tài Năng Trẻ</td>\n      <td>Fancy United Esports</td>\n    </tr>\n    <tr>\n      <th>25</th>\n      <td>Predator League Japan 2024</td>\n      <td>Main Event–Semifinals</td>\n      <td>FAV gaming</td>\n      <td>Sengoku Gaming</td>\n    </tr>\n    <tr>\n      <th>26</th>\n      <td>Liquid Open 2023: Oceania</td>\n      <td>Playoffs–Lower Round 3</td>\n      <td>Hanma</td>\n      <td>DG</td>\n    </tr>\n    <tr>\n      <th>27</th>\n      <td>Liquid Open 2023: Oceania</td>\n      <td>Playoffs–Upper Final</td>\n      <td>Project X</td>\n      <td>The Great Escape</td>\n    </tr>\n    <tr>\n      <th>28</th>\n      <td>ACE Double Down</td>\n      <td>Swiss Stage–Round 1</td>\n      <td>E-Xolos LAZER</td>\n      <td>FiRePOWER</td>\n    </tr>\n    <tr>\n      <th>29</th>\n      <td>Knights Monthly Gauntlet 2023: October</td>\n      <td>Group Stage–Decider (J)</td>\n      <td>Team Mystic</td>\n      <td>Sway eSports</td>\n    </tr>\n    <tr>\n      <th>30</th>\n      <td>Knights Monthly Gauntlet 2023: October</td>\n      <td>Group Stage–Decider (C)</td>\n      <td>Valkyrie</td>\n      <td>Cataclysm Gaming</td>\n    </tr>\n    <tr>\n      <th>31</th>\n      <td>ACE Double Down</td>\n      <td>Swiss Stage–Round 1</td>\n      <td>Skull Cracker</td>\n      <td>19esports</td>\n    </tr>\n    <tr>\n      <th>32</th>\n      <td>Knights Monthly Gauntlet 2023: October</td>\n      <td>Group Stage–Winner's (A)</td>\n      <td>special grade</td>\n      <td>Turtle Troop</td>\n    </tr>\n    <tr>\n      <th>33</th>\n      <td>Knights Monthly Gauntlet 2023: October</td>\n      <td>Group Stage–Winner's (P)</td>\n      <td>Torch</td>\n      <td>Team 7</td>\n    </tr>\n    <tr>\n      <th>34</th>\n      <td>Knights Monthly Gauntlet 2023: October</td>\n      <td>Group Stage–Opening (C)</td>\n      <td>QoR</td>\n      <td>1MillisecondX</td>\n    </tr>\n    <tr>\n      <th>35</th>\n      <td>Knights Monthly Gauntlet 2023: October</td>\n      <td>Group Stage–Opening (L)</td>\n      <td>Supernova Galaxy</td>\n      <td>Take Back Control</td>\n    </tr>\n    <tr>\n      <th>36</th>\n      <td>Multiplatform Esports Game 2023</td>\n      <td>Playoffs–Lower Round 4</td>\n      <td>MIBR</td>\n      <td>MIXX</td>\n    </tr>\n    <tr>\n      <th>37</th>\n      <td>Saudi eLeagues 2023: Season 2</td>\n      <td>Playoffs–Lower Final</td>\n      <td>Team Falcons</td>\n      <td>Geekay Esports</td>\n    </tr>\n    <tr>\n      <th>38</th>\n      <td>China Evolution Series Act 2: Selection</td>\n      <td>Group Stage–Opening (A)</td>\n      <td>EDward Gaming</td>\n      <td>Royal Never Give Up</td>\n    </tr>\n    <tr>\n      <th>39</th>\n      <td>China Evolution Series Act 2: Selection</td>\n      <td>Group Stage–Opening (A)</td>\n      <td>Bilibili Gaming</td>\n      <td>Trace Esports</td>\n    </tr>\n    <tr>\n      <th>40</th>\n      <td>ACE Double Down</td>\n      <td>Swiss Stage–Round 1</td>\n      <td>Chivas Esports</td>\n      <td>FUSION</td>\n    </tr>\n    <tr>\n      <th>41</th>\n      <td>ACE Double Down</td>\n      <td>Swiss Stage–Round 1</td>\n      <td>Six Karma</td>\n      <td>Illicit Gaming</td>\n    </tr>\n    <tr>\n      <th>42</th>\n      <td>Crossfire Cup 2023</td>\n      <td>Contenders #2–Decider</td>\n      <td>Team Aku Aku</td>\n      <td>Melilla Titans</td>\n    </tr>\n    <tr>\n      <th>43</th>\n      <td>Crossfire Cup 2023</td>\n      <td>Contenders #2–Elimination</td>\n      <td>Melilla Titans</td>\n      <td>Team Queso</td>\n    </tr>\n    <tr>\n      <th>44</th>\n      <td>VALORANT East: United: Season 2: Stage 3 - League</td>\n      <td>Group Stage–Week 6</td>\n      <td>GONext Esports</td>\n      <td>Enterprise Esports</td>\n    </tr>\n    <tr>\n      <th>45</th>\n      <td>Crossfire Cup 2023</td>\n      <td>Contenders #2–Winner's</td>\n      <td>SAW</td>\n      <td>Team Aku Aku</td>\n    </tr>\n    <tr>\n      <th>46</th>\n      <td>Saudi eLeagues 2023: Season 2</td>\n      <td>Playoffs–Upper Final</td>\n      <td>The Ultimates</td>\n      <td>Team Falcons</td>\n    </tr>\n    <tr>\n      <th>47</th>\n      <td>Crossfire Cup 2023</td>\n      <td>Contenders #2–Opening</td>\n      <td>Team Aku Aku</td>\n      <td>Melilla Titans</td>\n    </tr>\n    <tr>\n      <th>48</th>\n      <td>VALORANT East: United: Season 2: Stage 3 - League</td>\n      <td>Group Stage–Week 6</td>\n      <td>Zero Tenacity</td>\n      <td>eco chálks</td>\n    </tr>\n    <tr>\n      <th>49</th>\n      <td>Crossfire Cup 2023</td>\n      <td>Contenders #2–Opening</td>\n      <td>SAW</td>\n      <td>Team Queso</td>\n    </tr>\n  </tbody>\n</table>\n</div>"
     },
     "execution_count": 13,
     "metadata": {},
     "output_type": "execute_result"
    }
   ],
   "source": [
    "df1"
   ],
   "metadata": {
    "collapsed": false,
    "ExecuteTime": {
     "end_time": "2023-10-23T00:04:28.896494Z",
     "start_time": "2023-10-23T00:04:28.877223Z"
    }
   },
   "id": "6fcb1b3a52a9f733"
  }
 ],
 "metadata": {
  "kernelspec": {
   "display_name": "Python 3",
   "language": "python",
   "name": "python3"
  },
  "language_info": {
   "codemirror_mode": {
    "name": "ipython",
    "version": 2
   },
   "file_extension": ".py",
   "mimetype": "text/x-python",
   "name": "python",
   "nbconvert_exporter": "python",
   "pygments_lexer": "ipython2",
   "version": "2.7.6"
  }
 },
 "nbformat": 4,
 "nbformat_minor": 5
}
