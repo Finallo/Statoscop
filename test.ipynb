{
 "cells": [
  {
   "cell_type": "code",
   "execution_count": 1,
   "id": "initial_id",
   "metadata": {
    "collapsed": true,
    "ExecuteTime": {
     "end_time": "2023-10-24T16:23:07.529179300Z",
     "start_time": "2023-10-24T16:23:06.869198Z"
    }
   },
   "outputs": [],
   "source": [
    "import requests\n",
    "from bs4 import BeautifulSoup\n",
    "import pandas as pd\n",
    "import numpy as np\n",
    "from datetime import datetime, timedelta"
   ]
  },
  {
   "cell_type": "markdown",
   "source": [
    "### Etape 1:\n",
    "1/ Importation des données.\n",
    "2/ \"URL\", \"RESPONSE\", \"HTML\" permettent de récupérer le texte du site.\n",
    "3/ \"SOUP\" permet d'utiliser les données pour les scraper."
   ],
   "metadata": {
    "collapsed": false
   },
   "id": "328ad5d50449adcf"
  },
  {
   "cell_type": "code",
   "execution_count": 2,
   "outputs": [],
   "source": [
    "url = \"https://www.vlr.gg/matches/results\"\n",
    "response = requests.get(url)\n",
    "html = response.text\n",
    "soup = BeautifulSoup(html, 'html.parser')\n",
    "data = soup.find_all('div')"
   ],
   "metadata": {
    "collapsed": false,
    "ExecuteTime": {
     "end_time": "2023-10-24T16:23:08.096282700Z",
     "start_time": "2023-10-24T16:23:07.533168600Z"
    }
   },
   "id": "de4f28b82d5a66d1"
  },
  {
   "cell_type": "markdown",
   "source": [
    "### Etape 2:\n",
    "1/ Création du dataframe \"df1\" recueillant toutes les données.\n",
    "1.1/ \"a\" est le dataframe pour la phase de la compétition.\n",
    "1.2/ \"b\" est le dataframe pour la compétition.\n",
    "2/ Les deux dataframes \"a\" et \"b\" sont fusionnés dans le df1."
   ],
   "metadata": {
    "collapsed": false
   },
   "id": "be5d5a4063ddc8fd"
  },
  {
   "cell_type": "code",
   "execution_count": 3,
   "outputs": [],
   "source": [
    "df1 = pd.DataFrame()\n",
    "\n",
    "a = pd.DataFrame(columns=[\"Compétition\"])\n",
    "b = pd.DataFrame(columns=[\"Phase\"])\n",
    "\n",
    "col = soup.find_all('div', class_='match-item-event-series text-of')\n",
    "for cols in col:\n",
    "    texts = cols.find_all(string=True, recursive=False)\n",
    "    text1 = texts[0].strip()\n",
    "    a = a._append({'Compétition':text1}, ignore_index=True)\n",
    "col1 = soup.find_all('div', class_='match-item-event text-of')\n",
    "for cols in col1:\n",
    "    texts1 = cols.find_all(string=True, recursive=False)\n",
    "    text2 = texts1[1].strip()\n",
    "    b = b._append({'Phase':text2}, ignore_index=True)\n",
    "\n",
    "df1 = b.join(a, how='inner')"
   ],
   "metadata": {
    "collapsed": false,
    "ExecuteTime": {
     "end_time": "2023-10-24T16:23:08.204505400Z",
     "start_time": "2023-10-24T16:23:08.099275800Z"
    }
   },
   "id": "ee3f51ab28de1942"
  },
  {
   "cell_type": "code",
   "execution_count": 4,
   "outputs": [],
   "source": [
    "df2 = pd.DataFrame()\n",
    "c = pd.DataFrame(columns=[\"Team 2\"])\n",
    "d = pd.DataFrame(columns=[\"Team 1\"])\n",
    "col = soup.find_all('div', class_='match-item-vs-team-name')\n",
    "for cols in col:\n",
    "    texts = cols.find_all(string=True, recursive=True)\n",
    "    text = texts[2].strip()\n",
    "    text1 = texts[3].strip()\n",
    "    d = d._append({'Team 1':text}, ignore_index=True)\n",
    "    c = c._append({'Team 2':text1}, ignore_index=True)\n",
    "\n",
    "c = c.replace('', np.nan, regex=True)\n",
    "c = c.dropna()\n",
    "c = c.reset_index(drop=True)\n",
    "d = d.replace('', np.nan, regex=True)\n",
    "d = d.dropna()\n",
    "d = d.reset_index(drop=True)\n",
    "\n",
    "df2 = d.join(c, how='inner')\n",
    "df1 = df1.join(df2, how='inner')"
   ],
   "metadata": {
    "collapsed": false,
    "ExecuteTime": {
     "end_time": "2023-10-24T16:23:08.367476200Z",
     "start_time": "2023-10-24T16:23:08.202510300Z"
    }
   },
   "id": "cdfaa203f8620bb7"
  },
  {
   "cell_type": "code",
   "execution_count": 5,
   "outputs": [],
   "source": [
    "col = soup.find_all('div', class_='match-item-vs-team-score js-spoiler')\n",
    "df3 = pd.DataFrame()\n",
    "e = pd.DataFrame(columns=[\"Score Team 1\"])\n",
    "f = pd.DataFrame(columns=[\"Score Team 2\"])\n",
    "    \n",
    "for i, cols in enumerate(col):\n",
    "    texts = cols.find_all(string=True, recursive=False)\n",
    "    team = texts[0].strip()\n",
    "    \n",
    "    # Ajouter l'élément à 'c'\n",
    "    if i % 2 == 0:\n",
    "        e = e._append({'Score Team 1': team}, ignore_index=True)\n",
    "\n",
    "for i, cols in enumerate(col):\n",
    "    texts = cols.find_all(string=True, recursive=False)\n",
    "    team = texts[0].strip()\n",
    "    \n",
    "    # Ajouter l'élément à 'c_impairs'\n",
    "    if i % 2 != 0:\n",
    "        f = f._append({'Score Team 2': team}, ignore_index=True)\n",
    "\n",
    "df3 = e.join(f, how='inner')\n",
    "df1 = df1.join(df3, how='inner')"
   ],
   "metadata": {
    "collapsed": false,
    "ExecuteTime": {
     "end_time": "2023-10-24T16:23:08.472195900Z",
     "start_time": "2023-10-24T16:23:08.371465400Z"
    }
   },
   "id": "fe4cda99ab52448e"
  },
  {
   "cell_type": "code",
   "execution_count": 6,
   "outputs": [
    {
     "name": "stderr",
     "output_type": "stream",
     "text": [
      "C:\\Users\\final\\AppData\\Local\\Temp\\ipykernel_22816\\1270729377.py:16: FutureWarning: The behavior of DataFrame concatenation with empty or all-NA entries is deprecated. In a future version, this will no longer exclude empty or all-NA columns when determining the result dtypes. To retain the old behavior, exclude the relevant entries before the concat operation.\n",
      "  g = g._append({'Date':time}, ignore_index=True)\n"
     ]
    },
    {
     "data": {
      "text/plain": "                                        Phase  \\\n0     China Evolution Series Act 2: Selection   \n1     China Evolution Series Act 2: Selection   \n2   Sentinels Off-Season $5k Bounty Showmatch   \n3                          Crossfire Cup 2023   \n4                       Superdome 2023: Egypt   \n5                          Crossfire Cup 2023   \n6                       Superdome 2023: Egypt   \n7     China Evolution Series Act 2: Selection   \n8     China Evolution Series Act 2: Selection   \n9      Knights Monthly Gauntlet 2023: October   \n10     Knights Monthly Gauntlet 2023: October   \n11     Knights Monthly Gauntlet 2023: October   \n12            Multiplatform Esports Game 2023   \n13     VALORANT Challengers 2023 DACH: Arcade   \n14     VALORANT Challengers 2023 DACH: Arcade   \n15    China Evolution Series Act 2: Selection   \n16    China Evolution Series Act 2: Selection   \n17                 Predator League Japan 2024   \n18                  Liquid Open 2023: Oceania   \n19                 Predator League Japan 2024   \n20                  Liquid Open 2023: Oceania   \n21     Knights Monthly Gauntlet 2023: October   \n22     Knights Monthly Gauntlet 2023: October   \n23                            ACE Double Down   \n24     Knights Monthly Gauntlet 2023: October   \n25            Multiplatform Esports Game 2023   \n26     Knights Monthly Gauntlet 2023: October   \n27     Knights Monthly Gauntlet 2023: October   \n28     Knights Monthly Gauntlet 2023: October   \n29            Multiplatform Esports Game 2023   \n30              Saudi eLeagues 2023: Season 2   \n31    China Evolution Series Act 2: Selection   \n32    China Evolution Series Act 2: Selection   \n33                 Predator League Japan 2024   \n34               Predator League Vietnam 2024   \n35                 Predator League Japan 2024   \n36                  Liquid Open 2023: Oceania   \n37                  Liquid Open 2023: Oceania   \n38                            ACE Double Down   \n39     Knights Monthly Gauntlet 2023: October   \n40     Knights Monthly Gauntlet 2023: October   \n41                            ACE Double Down   \n42     Knights Monthly Gauntlet 2023: October   \n43     Knights Monthly Gauntlet 2023: October   \n44     Knights Monthly Gauntlet 2023: October   \n45     Knights Monthly Gauntlet 2023: October   \n46            Multiplatform Esports Game 2023   \n47              Saudi eLeagues 2023: Season 2   \n48    China Evolution Series Act 2: Selection   \n49    China Evolution Series Act 2: Selection   \n\n                              Compétition                Team 1  \\\n0                 Group Stage–Decider (B)       FunPlus Phoenix   \n1                 Group Stage–Decider (A)       Bilibili Gaming   \n2                     Showmatch–Showmatch             Sentinels   \n3    Contenders #2 Playoffs–Quarterfinals       Movistar Riders   \n4   GCC And Iraq Online Qualifier–Round 1   Triple Esports Club   \n5    Contenders #2 Playoffs–Quarterfinals          Team Aku Aku   \n6   GCC And Iraq Online Qualifier–Round 1         The Ultimates   \n7             Group Stage–Elimination (B)                 TYLOO   \n8             Group Stage–Elimination (A)   Royal Never Give Up   \n9                    Playoffs–Grand Final           Argon Black   \n10                    Playoffs–Semifinals         Square Nation   \n11                    Playoffs–Semifinals              Version1   \n12                   Playoffs–Lower Final                  MIBR   \n13                     Group Stage–Week 6    Reveal Multigaming   \n14                     Group Stage–Week 6                 AEX-1   \n15               Group Stage–Winner's (B)             Rare Atom   \n16               Group Stage–Winner's (A)       Bilibili Gaming   \n17                 Main Event–Grand Final      CREST GAMING Zst   \n18                   Playoffs–Grand Final                 Hanma   \n19           Main Event–Consolation Final        Sengoku Gaming   \n20                   Playoffs–Lower Final      The Great Escape   \n21                 Playoffs–Quarterfinals                 Torch   \n22                 Playoffs–Quarterfinals           Let Us Cook   \n23                    Swiss Stage–Round 2             Six Karma   \n24                   Playoffs–Round of 16   Zero MarksMen Black   \n25                 Playoffs–Lower Round 5            RED Canids   \n26                   Playoffs–Round of 16              Ambrosia   \n27                   Playoffs–Round of 32            Torch Plus   \n28                   Playoffs–Round of 32          Army of Five   \n29                   Playoffs–Upper Final                   XIT   \n30                   Playoffs–Grand Final         The Ultimates   \n31                Group Stage–Opening (B)       FunPlus Phoenix   \n32                Group Stage–Opening (B)                 TYLOO   \n33                  Main Event–Semifinals                REJECT   \n34                   Playoffs–Grand Final  Fancy United Esports   \n35                  Main Event–Semifinals        Sengoku Gaming   \n36                 Playoffs–Lower Round 3                    DG   \n37                   Playoffs–Upper Final      The Great Escape   \n38                    Swiss Stage–Round 1             FiRePOWER   \n39                Group Stage–Decider (J)          Sway eSports   \n40                Group Stage–Decider (C)      Cataclysm Gaming   \n41                    Swiss Stage–Round 1             19esports   \n42               Group Stage–Winner's (A)          Turtle Troop   \n43               Group Stage–Winner's (P)                Team 7   \n44                Group Stage–Opening (C)         1MillisecondX   \n45                Group Stage–Opening (L)     Take Back Control   \n46                 Playoffs–Lower Round 4                  MIXX   \n47                   Playoffs–Lower Final        Geekay Esports   \n48                Group Stage–Opening (A)   Royal Never Give Up   \n49                Group Stage–Opening (A)         Trace Esports   \n\n                    Team 2 Score Team 1 Score Team 2  \\\n0                Rare Atom            2            0   \n1            Trace Esports            0            2   \n2          Moist x Shopify            1            2   \n3                    DSYRE            2            0   \n4    Twisted Minds Esports            2            0   \n5             UCAM Tokiers            2            1   \n6             Team Falcons            0            2   \n7          FunPlus Phoenix            0            2   \n8            Trace Esports            2            0   \n9             Turtle Troop            1            2   \n10             Argon Black            2            1   \n11            Turtle Troop            2            0   \n12                     XIT            2            0   \n13             CGN Esports            2            0   \n14         ALTERNATE aTTaX            2            0   \n15  Attacking Soul Esports            0            2   \n16           EDward Gaming            0            2   \n17              FAV gaming            3            2   \n18               Project X            2            1   \n19                  REJECT            0            2   \n20                   Hanma            1            2   \n21             Argon Black            1            2   \n22            Turtle Troop            2            1   \n23           E-Xolos LAZER            2            0   \n24                Version1            0            2   \n25                    MIBR            2            0   \n26             Argon Black            1            2   \n27            Turtle Troop            0            2   \n28         goth boy clique            2            0   \n29                   FURIA            2            1   \n30            Team Falcons            1            3   \n31  Attacking Soul Esports            2            0   \n32               Rare Atom            1            2   \n33        CREST GAMING Zst            2            1   \n34            Tài Năng Trẻ            3            1   \n35              FAV gaming            0            2   \n36                   Hanma            0            2   \n37               Project X            1            2   \n38           E-Xolos LAZER            2            0   \n39             Team Mystic            0            2   \n40                Valkyrie            2            0   \n41           Skull Cracker            2            0   \n42           special grade            1            2   \n43                   Torch            2            0   \n44                     QoR            2            0   \n45        Supernova Galaxy            2            0   \n46                    MIBR            0            2   \n47            Team Falcons            3            0   \n48           EDward Gaming            0            2   \n49         Bilibili Gaming            2            1   \n\n                         Date  \n0  2023-10-24 13:14:23.485666  \n1  2023-10-24 10:59:23.487664  \n2  2023-10-24 02:29:23.488658  \n3  2023-10-23 19:59:23.489655  \n4  2023-10-23 19:59:23.490653  \n5  2023-10-23 16:59:08.490653  \n6  2023-10-23 16:59:08.491650  \n7  2023-10-23 12:59:08.492647  \n8  2023-10-23 10:59:08.493645  \n9  2023-10-23 00:59:08.494705  \n10 2023-10-22 21:59:08.495640  \n11 2023-10-22 21:59:08.496637  \n12 2023-10-22 19:59:08.496637  \n13 2023-10-22 19:59:08.497635  \n14 2023-10-22 16:59:08.498632  \n15 2023-10-22 13:59:08.499629  \n16 2023-10-22 10:59:08.500627  \n17 2023-10-22 08:59:08.500627  \n18 2023-10-22 06:59:08.501625  \n19 2023-10-22 06:59:08.502622  \n20 2023-10-22 03:59:08.503813  \n21 2023-10-22 02:59:08.504853  \n22 2023-10-22 02:59:08.504853  \n23 2023-10-22 00:59:08.505779  \n24 2023-10-21 23:59:08.506777  \n25 2023-10-21 23:59:08.507774  \n26 2023-10-21 23:59:08.507774  \n27 2023-10-21 21:59:08.508770  \n28 2023-10-21 21:59:08.509769  \n29 2023-10-21 19:59:08.510766  \n30 2023-10-21 18:59:08.511764  \n31 2023-10-21 14:59:08.512761  \n32 2023-10-21 10:59:08.513337  \n33 2023-10-21 09:59:08.514327  \n34 2023-10-21 08:59:08.515372  \n35 2023-10-21 07:59:08.516322  \n36 2023-10-21 05:59:08.517319  \n37 2023-10-21 03:59:08.517319  \n38 2023-10-21 02:59:08.518317  \n39 2023-10-21 01:59:08.519314  \n40 2023-10-21 01:59:08.519314  \n41 2023-10-21 00:59:08.520311  \n42 2023-10-20 23:59:08.521309  \n43 2023-10-20 23:59:08.522305  \n44 2023-10-20 21:59:08.522305  \n45 2023-10-20 21:59:08.523303  \n46 2023-10-20 19:59:08.524300  \n47 2023-10-20 15:59:08.524300  \n48 2023-10-20 13:59:08.525337  \n49 2023-10-20 10:59:08.526296  ",
      "text/html": "<div>\n<style scoped>\n    .dataframe tbody tr th:only-of-type {\n        vertical-align: middle;\n    }\n\n    .dataframe tbody tr th {\n        vertical-align: top;\n    }\n\n    .dataframe thead th {\n        text-align: right;\n    }\n</style>\n<table border=\"1\" class=\"dataframe\">\n  <thead>\n    <tr style=\"text-align: right;\">\n      <th></th>\n      <th>Phase</th>\n      <th>Compétition</th>\n      <th>Team 1</th>\n      <th>Team 2</th>\n      <th>Score Team 1</th>\n      <th>Score Team 2</th>\n      <th>Date</th>\n    </tr>\n  </thead>\n  <tbody>\n    <tr>\n      <th>0</th>\n      <td>China Evolution Series Act 2: Selection</td>\n      <td>Group Stage–Decider (B)</td>\n      <td>FunPlus Phoenix</td>\n      <td>Rare Atom</td>\n      <td>2</td>\n      <td>0</td>\n      <td>2023-10-24 13:14:23.485666</td>\n    </tr>\n    <tr>\n      <th>1</th>\n      <td>China Evolution Series Act 2: Selection</td>\n      <td>Group Stage–Decider (A)</td>\n      <td>Bilibili Gaming</td>\n      <td>Trace Esports</td>\n      <td>0</td>\n      <td>2</td>\n      <td>2023-10-24 10:59:23.487664</td>\n    </tr>\n    <tr>\n      <th>2</th>\n      <td>Sentinels Off-Season $5k Bounty Showmatch</td>\n      <td>Showmatch–Showmatch</td>\n      <td>Sentinels</td>\n      <td>Moist x Shopify</td>\n      <td>1</td>\n      <td>2</td>\n      <td>2023-10-24 02:29:23.488658</td>\n    </tr>\n    <tr>\n      <th>3</th>\n      <td>Crossfire Cup 2023</td>\n      <td>Contenders #2 Playoffs–Quarterfinals</td>\n      <td>Movistar Riders</td>\n      <td>DSYRE</td>\n      <td>2</td>\n      <td>0</td>\n      <td>2023-10-23 19:59:23.489655</td>\n    </tr>\n    <tr>\n      <th>4</th>\n      <td>Superdome 2023: Egypt</td>\n      <td>GCC And Iraq Online Qualifier–Round 1</td>\n      <td>Triple Esports Club</td>\n      <td>Twisted Minds Esports</td>\n      <td>2</td>\n      <td>0</td>\n      <td>2023-10-23 19:59:23.490653</td>\n    </tr>\n    <tr>\n      <th>5</th>\n      <td>Crossfire Cup 2023</td>\n      <td>Contenders #2 Playoffs–Quarterfinals</td>\n      <td>Team Aku Aku</td>\n      <td>UCAM Tokiers</td>\n      <td>2</td>\n      <td>1</td>\n      <td>2023-10-23 16:59:08.490653</td>\n    </tr>\n    <tr>\n      <th>6</th>\n      <td>Superdome 2023: Egypt</td>\n      <td>GCC And Iraq Online Qualifier–Round 1</td>\n      <td>The Ultimates</td>\n      <td>Team Falcons</td>\n      <td>0</td>\n      <td>2</td>\n      <td>2023-10-23 16:59:08.491650</td>\n    </tr>\n    <tr>\n      <th>7</th>\n      <td>China Evolution Series Act 2: Selection</td>\n      <td>Group Stage–Elimination (B)</td>\n      <td>TYLOO</td>\n      <td>FunPlus Phoenix</td>\n      <td>0</td>\n      <td>2</td>\n      <td>2023-10-23 12:59:08.492647</td>\n    </tr>\n    <tr>\n      <th>8</th>\n      <td>China Evolution Series Act 2: Selection</td>\n      <td>Group Stage–Elimination (A)</td>\n      <td>Royal Never Give Up</td>\n      <td>Trace Esports</td>\n      <td>2</td>\n      <td>0</td>\n      <td>2023-10-23 10:59:08.493645</td>\n    </tr>\n    <tr>\n      <th>9</th>\n      <td>Knights Monthly Gauntlet 2023: October</td>\n      <td>Playoffs–Grand Final</td>\n      <td>Argon Black</td>\n      <td>Turtle Troop</td>\n      <td>1</td>\n      <td>2</td>\n      <td>2023-10-23 00:59:08.494705</td>\n    </tr>\n    <tr>\n      <th>10</th>\n      <td>Knights Monthly Gauntlet 2023: October</td>\n      <td>Playoffs–Semifinals</td>\n      <td>Square Nation</td>\n      <td>Argon Black</td>\n      <td>2</td>\n      <td>1</td>\n      <td>2023-10-22 21:59:08.495640</td>\n    </tr>\n    <tr>\n      <th>11</th>\n      <td>Knights Monthly Gauntlet 2023: October</td>\n      <td>Playoffs–Semifinals</td>\n      <td>Version1</td>\n      <td>Turtle Troop</td>\n      <td>2</td>\n      <td>0</td>\n      <td>2023-10-22 21:59:08.496637</td>\n    </tr>\n    <tr>\n      <th>12</th>\n      <td>Multiplatform Esports Game 2023</td>\n      <td>Playoffs–Lower Final</td>\n      <td>MIBR</td>\n      <td>XIT</td>\n      <td>2</td>\n      <td>0</td>\n      <td>2023-10-22 19:59:08.496637</td>\n    </tr>\n    <tr>\n      <th>13</th>\n      <td>VALORANT Challengers 2023 DACH: Arcade</td>\n      <td>Group Stage–Week 6</td>\n      <td>Reveal Multigaming</td>\n      <td>CGN Esports</td>\n      <td>2</td>\n      <td>0</td>\n      <td>2023-10-22 19:59:08.497635</td>\n    </tr>\n    <tr>\n      <th>14</th>\n      <td>VALORANT Challengers 2023 DACH: Arcade</td>\n      <td>Group Stage–Week 6</td>\n      <td>AEX-1</td>\n      <td>ALTERNATE aTTaX</td>\n      <td>2</td>\n      <td>0</td>\n      <td>2023-10-22 16:59:08.498632</td>\n    </tr>\n    <tr>\n      <th>15</th>\n      <td>China Evolution Series Act 2: Selection</td>\n      <td>Group Stage–Winner's (B)</td>\n      <td>Rare Atom</td>\n      <td>Attacking Soul Esports</td>\n      <td>0</td>\n      <td>2</td>\n      <td>2023-10-22 13:59:08.499629</td>\n    </tr>\n    <tr>\n      <th>16</th>\n      <td>China Evolution Series Act 2: Selection</td>\n      <td>Group Stage–Winner's (A)</td>\n      <td>Bilibili Gaming</td>\n      <td>EDward Gaming</td>\n      <td>0</td>\n      <td>2</td>\n      <td>2023-10-22 10:59:08.500627</td>\n    </tr>\n    <tr>\n      <th>17</th>\n      <td>Predator League Japan 2024</td>\n      <td>Main Event–Grand Final</td>\n      <td>CREST GAMING Zst</td>\n      <td>FAV gaming</td>\n      <td>3</td>\n      <td>2</td>\n      <td>2023-10-22 08:59:08.500627</td>\n    </tr>\n    <tr>\n      <th>18</th>\n      <td>Liquid Open 2023: Oceania</td>\n      <td>Playoffs–Grand Final</td>\n      <td>Hanma</td>\n      <td>Project X</td>\n      <td>2</td>\n      <td>1</td>\n      <td>2023-10-22 06:59:08.501625</td>\n    </tr>\n    <tr>\n      <th>19</th>\n      <td>Predator League Japan 2024</td>\n      <td>Main Event–Consolation Final</td>\n      <td>Sengoku Gaming</td>\n      <td>REJECT</td>\n      <td>0</td>\n      <td>2</td>\n      <td>2023-10-22 06:59:08.502622</td>\n    </tr>\n    <tr>\n      <th>20</th>\n      <td>Liquid Open 2023: Oceania</td>\n      <td>Playoffs–Lower Final</td>\n      <td>The Great Escape</td>\n      <td>Hanma</td>\n      <td>1</td>\n      <td>2</td>\n      <td>2023-10-22 03:59:08.503813</td>\n    </tr>\n    <tr>\n      <th>21</th>\n      <td>Knights Monthly Gauntlet 2023: October</td>\n      <td>Playoffs–Quarterfinals</td>\n      <td>Torch</td>\n      <td>Argon Black</td>\n      <td>1</td>\n      <td>2</td>\n      <td>2023-10-22 02:59:08.504853</td>\n    </tr>\n    <tr>\n      <th>22</th>\n      <td>Knights Monthly Gauntlet 2023: October</td>\n      <td>Playoffs–Quarterfinals</td>\n      <td>Let Us Cook</td>\n      <td>Turtle Troop</td>\n      <td>2</td>\n      <td>1</td>\n      <td>2023-10-22 02:59:08.504853</td>\n    </tr>\n    <tr>\n      <th>23</th>\n      <td>ACE Double Down</td>\n      <td>Swiss Stage–Round 2</td>\n      <td>Six Karma</td>\n      <td>E-Xolos LAZER</td>\n      <td>2</td>\n      <td>0</td>\n      <td>2023-10-22 00:59:08.505779</td>\n    </tr>\n    <tr>\n      <th>24</th>\n      <td>Knights Monthly Gauntlet 2023: October</td>\n      <td>Playoffs–Round of 16</td>\n      <td>Zero MarksMen Black</td>\n      <td>Version1</td>\n      <td>0</td>\n      <td>2</td>\n      <td>2023-10-21 23:59:08.506777</td>\n    </tr>\n    <tr>\n      <th>25</th>\n      <td>Multiplatform Esports Game 2023</td>\n      <td>Playoffs–Lower Round 5</td>\n      <td>RED Canids</td>\n      <td>MIBR</td>\n      <td>2</td>\n      <td>0</td>\n      <td>2023-10-21 23:59:08.507774</td>\n    </tr>\n    <tr>\n      <th>26</th>\n      <td>Knights Monthly Gauntlet 2023: October</td>\n      <td>Playoffs–Round of 16</td>\n      <td>Ambrosia</td>\n      <td>Argon Black</td>\n      <td>1</td>\n      <td>2</td>\n      <td>2023-10-21 23:59:08.507774</td>\n    </tr>\n    <tr>\n      <th>27</th>\n      <td>Knights Monthly Gauntlet 2023: October</td>\n      <td>Playoffs–Round of 32</td>\n      <td>Torch Plus</td>\n      <td>Turtle Troop</td>\n      <td>0</td>\n      <td>2</td>\n      <td>2023-10-21 21:59:08.508770</td>\n    </tr>\n    <tr>\n      <th>28</th>\n      <td>Knights Monthly Gauntlet 2023: October</td>\n      <td>Playoffs–Round of 32</td>\n      <td>Army of Five</td>\n      <td>goth boy clique</td>\n      <td>2</td>\n      <td>0</td>\n      <td>2023-10-21 21:59:08.509769</td>\n    </tr>\n    <tr>\n      <th>29</th>\n      <td>Multiplatform Esports Game 2023</td>\n      <td>Playoffs–Upper Final</td>\n      <td>XIT</td>\n      <td>FURIA</td>\n      <td>2</td>\n      <td>1</td>\n      <td>2023-10-21 19:59:08.510766</td>\n    </tr>\n    <tr>\n      <th>30</th>\n      <td>Saudi eLeagues 2023: Season 2</td>\n      <td>Playoffs–Grand Final</td>\n      <td>The Ultimates</td>\n      <td>Team Falcons</td>\n      <td>1</td>\n      <td>3</td>\n      <td>2023-10-21 18:59:08.511764</td>\n    </tr>\n    <tr>\n      <th>31</th>\n      <td>China Evolution Series Act 2: Selection</td>\n      <td>Group Stage–Opening (B)</td>\n      <td>FunPlus Phoenix</td>\n      <td>Attacking Soul Esports</td>\n      <td>2</td>\n      <td>0</td>\n      <td>2023-10-21 14:59:08.512761</td>\n    </tr>\n    <tr>\n      <th>32</th>\n      <td>China Evolution Series Act 2: Selection</td>\n      <td>Group Stage–Opening (B)</td>\n      <td>TYLOO</td>\n      <td>Rare Atom</td>\n      <td>1</td>\n      <td>2</td>\n      <td>2023-10-21 10:59:08.513337</td>\n    </tr>\n    <tr>\n      <th>33</th>\n      <td>Predator League Japan 2024</td>\n      <td>Main Event–Semifinals</td>\n      <td>REJECT</td>\n      <td>CREST GAMING Zst</td>\n      <td>2</td>\n      <td>1</td>\n      <td>2023-10-21 09:59:08.514327</td>\n    </tr>\n    <tr>\n      <th>34</th>\n      <td>Predator League Vietnam 2024</td>\n      <td>Playoffs–Grand Final</td>\n      <td>Fancy United Esports</td>\n      <td>Tài Năng Trẻ</td>\n      <td>3</td>\n      <td>1</td>\n      <td>2023-10-21 08:59:08.515372</td>\n    </tr>\n    <tr>\n      <th>35</th>\n      <td>Predator League Japan 2024</td>\n      <td>Main Event–Semifinals</td>\n      <td>Sengoku Gaming</td>\n      <td>FAV gaming</td>\n      <td>0</td>\n      <td>2</td>\n      <td>2023-10-21 07:59:08.516322</td>\n    </tr>\n    <tr>\n      <th>36</th>\n      <td>Liquid Open 2023: Oceania</td>\n      <td>Playoffs–Lower Round 3</td>\n      <td>DG</td>\n      <td>Hanma</td>\n      <td>0</td>\n      <td>2</td>\n      <td>2023-10-21 05:59:08.517319</td>\n    </tr>\n    <tr>\n      <th>37</th>\n      <td>Liquid Open 2023: Oceania</td>\n      <td>Playoffs–Upper Final</td>\n      <td>The Great Escape</td>\n      <td>Project X</td>\n      <td>1</td>\n      <td>2</td>\n      <td>2023-10-21 03:59:08.517319</td>\n    </tr>\n    <tr>\n      <th>38</th>\n      <td>ACE Double Down</td>\n      <td>Swiss Stage–Round 1</td>\n      <td>FiRePOWER</td>\n      <td>E-Xolos LAZER</td>\n      <td>2</td>\n      <td>0</td>\n      <td>2023-10-21 02:59:08.518317</td>\n    </tr>\n    <tr>\n      <th>39</th>\n      <td>Knights Monthly Gauntlet 2023: October</td>\n      <td>Group Stage–Decider (J)</td>\n      <td>Sway eSports</td>\n      <td>Team Mystic</td>\n      <td>0</td>\n      <td>2</td>\n      <td>2023-10-21 01:59:08.519314</td>\n    </tr>\n    <tr>\n      <th>40</th>\n      <td>Knights Monthly Gauntlet 2023: October</td>\n      <td>Group Stage–Decider (C)</td>\n      <td>Cataclysm Gaming</td>\n      <td>Valkyrie</td>\n      <td>2</td>\n      <td>0</td>\n      <td>2023-10-21 01:59:08.519314</td>\n    </tr>\n    <tr>\n      <th>41</th>\n      <td>ACE Double Down</td>\n      <td>Swiss Stage–Round 1</td>\n      <td>19esports</td>\n      <td>Skull Cracker</td>\n      <td>2</td>\n      <td>0</td>\n      <td>2023-10-21 00:59:08.520311</td>\n    </tr>\n    <tr>\n      <th>42</th>\n      <td>Knights Monthly Gauntlet 2023: October</td>\n      <td>Group Stage–Winner's (A)</td>\n      <td>Turtle Troop</td>\n      <td>special grade</td>\n      <td>1</td>\n      <td>2</td>\n      <td>2023-10-20 23:59:08.521309</td>\n    </tr>\n    <tr>\n      <th>43</th>\n      <td>Knights Monthly Gauntlet 2023: October</td>\n      <td>Group Stage–Winner's (P)</td>\n      <td>Team 7</td>\n      <td>Torch</td>\n      <td>2</td>\n      <td>0</td>\n      <td>2023-10-20 23:59:08.522305</td>\n    </tr>\n    <tr>\n      <th>44</th>\n      <td>Knights Monthly Gauntlet 2023: October</td>\n      <td>Group Stage–Opening (C)</td>\n      <td>1MillisecondX</td>\n      <td>QoR</td>\n      <td>2</td>\n      <td>0</td>\n      <td>2023-10-20 21:59:08.522305</td>\n    </tr>\n    <tr>\n      <th>45</th>\n      <td>Knights Monthly Gauntlet 2023: October</td>\n      <td>Group Stage–Opening (L)</td>\n      <td>Take Back Control</td>\n      <td>Supernova Galaxy</td>\n      <td>2</td>\n      <td>0</td>\n      <td>2023-10-20 21:59:08.523303</td>\n    </tr>\n    <tr>\n      <th>46</th>\n      <td>Multiplatform Esports Game 2023</td>\n      <td>Playoffs–Lower Round 4</td>\n      <td>MIXX</td>\n      <td>MIBR</td>\n      <td>0</td>\n      <td>2</td>\n      <td>2023-10-20 19:59:08.524300</td>\n    </tr>\n    <tr>\n      <th>47</th>\n      <td>Saudi eLeagues 2023: Season 2</td>\n      <td>Playoffs–Lower Final</td>\n      <td>Geekay Esports</td>\n      <td>Team Falcons</td>\n      <td>3</td>\n      <td>0</td>\n      <td>2023-10-20 15:59:08.524300</td>\n    </tr>\n    <tr>\n      <th>48</th>\n      <td>China Evolution Series Act 2: Selection</td>\n      <td>Group Stage–Opening (A)</td>\n      <td>Royal Never Give Up</td>\n      <td>EDward Gaming</td>\n      <td>0</td>\n      <td>2</td>\n      <td>2023-10-20 13:59:08.525337</td>\n    </tr>\n    <tr>\n      <th>49</th>\n      <td>China Evolution Series Act 2: Selection</td>\n      <td>Group Stage–Opening (A)</td>\n      <td>Trace Esports</td>\n      <td>Bilibili Gaming</td>\n      <td>2</td>\n      <td>1</td>\n      <td>2023-10-20 10:59:08.526296</td>\n    </tr>\n  </tbody>\n</table>\n</div>"
     },
     "execution_count": 6,
     "metadata": {},
     "output_type": "execute_result"
    }
   ],
   "source": [
    "g = pd.DataFrame(columns=[\"Date\"])\n",
    "\n",
    "col = soup.find_all('div', class_='ml-eta mod-completed')\n",
    "for cols in col:\n",
    "    texts = cols.find_all(string=True, recursive=False)\n",
    "    text1 = texts[0].strip()\n",
    "    if 'd' in text1:\n",
    "        jour, heures = map(int, text1.replace('d','').replace('h', '').replace('m', '').split())\n",
    "        duree = timedelta(days=jour, hours=heures, minutes=minutes)\n",
    "        time = datetime.today() - duree\n",
    "        g = g._append({'Date':time}, ignore_index=True)\n",
    "    else:\n",
    "        heures, minutes = map(int, text1.replace('d','').replace('h', '').replace('m', '').split())\n",
    "        duree = timedelta(hours=heures, minutes=minutes)\n",
    "        time = (datetime.today() - duree) + timedelta(seconds=15)\n",
    "        g = g._append({'Date':time}, ignore_index=True)\n",
    "\n",
    "df1 = df1.join(g, how='inner')\n",
    "df1"
   ],
   "metadata": {
    "collapsed": false,
    "ExecuteTime": {
     "end_time": "2023-10-24T16:23:08.561766Z",
     "start_time": "2023-10-24T16:23:08.472195900Z"
    }
   },
   "id": "fca2e2444489720a"
  },
  {
   "cell_type": "code",
   "execution_count": 7,
   "outputs": [
    {
     "data": {
      "text/plain": "0    2023-10-24 13:14:38.485666\n1    2023-10-24 10:59:38.487664\n2    2023-10-24 02:29:38.488658\n3    2023-10-23 19:59:38.489655\n4    2023-10-23 19:59:38.490653\n5    2023-10-23 16:59:23.490653\n6    2023-10-23 16:59:23.491650\n7    2023-10-23 12:59:23.492647\n8    2023-10-23 10:59:23.493645\n9    2023-10-23 00:59:23.494705\n10   2023-10-22 21:59:23.495640\n11   2023-10-22 21:59:23.496637\n12   2023-10-22 19:59:23.496637\n13   2023-10-22 19:59:23.497635\n14   2023-10-22 16:59:23.498632\n15   2023-10-22 13:59:23.499629\n16   2023-10-22 10:59:23.500627\n17   2023-10-22 08:59:23.500627\n18   2023-10-22 06:59:23.501625\n19   2023-10-22 06:59:23.502622\n20   2023-10-22 03:59:23.503813\n21   2023-10-22 02:59:23.504853\n22   2023-10-22 02:59:23.504853\n23   2023-10-22 00:59:23.505779\n24   2023-10-21 23:59:23.506777\n25   2023-10-21 23:59:23.507774\n26   2023-10-21 23:59:23.507774\n27   2023-10-21 21:59:23.508770\n28   2023-10-21 21:59:23.509769\n29   2023-10-21 19:59:23.510766\n30   2023-10-21 18:59:23.511764\n31   2023-10-21 14:59:23.512761\n32   2023-10-21 10:59:23.513337\n33   2023-10-21 09:59:23.514327\n34   2023-10-21 08:59:23.515372\n35   2023-10-21 07:59:23.516322\n36   2023-10-21 05:59:23.517319\n37   2023-10-21 03:59:23.517319\n38   2023-10-21 02:59:23.518317\n39   2023-10-21 01:59:23.519314\n40   2023-10-21 01:59:23.519314\n41   2023-10-21 00:59:23.520311\n42   2023-10-20 23:59:23.521309\n43   2023-10-20 23:59:23.522305\n44   2023-10-20 21:59:23.522305\n45   2023-10-20 21:59:23.523303\n46   2023-10-20 19:59:23.524300\n47   2023-10-20 15:59:23.524300\n48   2023-10-20 13:59:23.525337\n49   2023-10-20 10:59:23.526296\nName: Date, dtype: datetime64[ns]"
     },
     "execution_count": 7,
     "metadata": {},
     "output_type": "execute_result"
    }
   ],
   "source": [
    "df1.Date + timedelta(seconds=15)"
   ],
   "metadata": {
    "collapsed": false,
    "ExecuteTime": {
     "end_time": "2023-10-24T16:23:08.605714700Z",
     "start_time": "2023-10-24T16:23:08.562763900Z"
    }
   },
   "id": "7d3cc3293f3c1586"
  }
 ],
 "metadata": {
  "kernelspec": {
   "display_name": "Python 3",
   "language": "python",
   "name": "python3"
  },
  "language_info": {
   "codemirror_mode": {
    "name": "ipython",
    "version": 2
   },
   "file_extension": ".py",
   "mimetype": "text/x-python",
   "name": "python",
   "nbconvert_exporter": "python",
   "pygments_lexer": "ipython2",
   "version": "2.7.6"
  }
 },
 "nbformat": 4,
 "nbformat_minor": 5
}
